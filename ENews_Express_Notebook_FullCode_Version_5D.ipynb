{
  "cells": [
    {
      "cell_type": "markdown",
      "id": "6yDxo9u0d9Na",
      "metadata": {
        "id": "6yDxo9u0d9Na"
      },
      "source": [
        "# Project Business Statistics: E-news Express"
      ]
    },
    {
      "cell_type": "markdown",
      "id": "0f3ba03a",
      "metadata": {
        "id": "0f3ba03a"
      },
      "source": [
        "## Business Context\n",
        "\n",
        "The advent of e-news, or electronic news, portals has offered us a great opportunity to quickly get updates on the day-to-day events occurring globally. The information on these portals is retrieved electronically from online databases, processed using a variety of software, and then transmitted to the users. There are multiple advantages of transmitting new electronically, like faster access to the content and the ability to utilize different technologies such as audio, graphics, video, and other interactive elements that are either not being used or aren’t common yet in traditional newspapers.\n",
        "\n",
        "E-news Express, an online news portal, aims to expand its business by acquiring new subscribers. With every visitor to the website taking certain actions based on their interest, the company plans to analyze these actions to understand user interests and determine how to drive better engagement.  The executives at E-news Express are of the opinion that there has been a decline in new monthly subscribers compared to the past year because the current webpage is not designed well enough in terms of the outline & recommended content to keep customers engaged long enough to make a decision to subscribe.\n",
        "\n",
        "[Companies often analyze user responses to two variants of a product to decide which of the two variants is more effective. This experimental technique, known as A/B testing, is used to determine whether a new feature attracts users based on a chosen metric.]\n",
        "\n",
        "\n",
        "## Objective\n",
        "\n",
        "The design team of the company has researched and created a new landing page that has a new outline & more relevant content shown compared to the old page. In order to test the effectiveness of the new landing page in gathering new subscribers, the Data Science team conducted an experiment by randomly selecting 100 users and dividing them equally into two groups. The existing landing page was served to the first group (control group) and the new landing page to the second group (treatment group). Data regarding the interaction of users in both groups with the two versions of the landing page was collected. Being a data scientist in E-news Express, you have been asked to explore the data and perform a statistical analysis (at a significance level of 5%) to determine the effectiveness of the new landing page in gathering new subscribers for the news portal by answering the following questions:\n",
        "\n",
        "1. Do the users spend more time on the new landing page than on the existing landing page?\n",
        "\n",
        "2. Is the conversion rate (the proportion of users who visit the landing page and get converted) for the new page greater than the conversion rate for the old page?\n",
        "\n",
        "3. Does the converted status depend on the preferred language? [Hint: Create a contingency table using the pandas.crosstab() function]\n",
        "\n",
        "4. Is the time spent on the new page the same for the different language users?\n",
        "\n",
        "\n",
        "## Data Dictionary\n",
        "\n",
        "The data contains information regarding the interaction of users in both groups with the two versions of the landing page.\n",
        "\n",
        "1. user_id - Unique user ID of the person visiting the website\n",
        "\n",
        "2. group - Whether the user belongs to the first group (control) or the second group (treatment)\n",
        "\n",
        "3. landing_page - Whether the landing page is new or old\n",
        "\n",
        "4. time_spent_on_the_page - Time (in minutes) spent by the user on the landing page\n",
        "\n",
        "5. converted - Whether the user gets converted to a subscriber of the news portal or not\n",
        "\n",
        "6. language_preferred - Language chosen by the user to view the landing page"
      ]
    },
    {
      "cell_type": "markdown",
      "id": "a6a3d218",
      "metadata": {
        "id": "a6a3d218"
      },
      "source": [
        "### Import all the necessary libraries"
      ]
    },
    {
      "cell_type": "code",
      "execution_count": null,
      "id": "658c5dec",
      "metadata": {
        "id": "658c5dec"
      },
      "outputs": [],
      "source": [
        "import numpy as np\n",
        "import pandas as pd\n",
        "from matplotlib import pyplot as plt\n",
        "import seaborn as sns\n",
        "import scipy.stats as stats\n",
        "%matplotlib inline"
      ]
    },
    {
      "cell_type": "code",
      "source": [
        "from google.colab import drive\n",
        "drive.mount('/content/drive')"
      ],
      "metadata": {
        "colab": {
          "base_uri": "https://localhost:8080/"
        },
        "id": "n11hfLrYklqt",
        "outputId": "5773b1fc-c7cf-40a0-c619-d3086fb97d2f"
      },
      "id": "n11hfLrYklqt",
      "execution_count": null,
      "outputs": [
        {
          "output_type": "stream",
          "name": "stdout",
          "text": [
            "Drive already mounted at /content/drive; to attempt to forcibly remount, call drive.mount(\"/content/drive\", force_remount=True).\n"
          ]
        }
      ]
    },
    {
      "cell_type": "markdown",
      "source": [
        "### Loading the dataset"
      ],
      "metadata": {
        "id": "jppevm24HW2P"
      },
      "id": "jppevm24HW2P"
    },
    {
      "cell_type": "code",
      "execution_count": null,
      "id": "d3b95640",
      "metadata": {
        "id": "d3b95640"
      },
      "outputs": [],
      "source": [
        "df = pd.read_csv('/content/drive/MyDrive/Colab Notebooks/abtest.csv')"
      ]
    },
    {
      "cell_type": "markdown",
      "id": "9d75cfa2",
      "metadata": {
        "id": "9d75cfa2"
      },
      "source": [
        "## Exploratory Data Analysis"
      ]
    },
    {
      "cell_type": "markdown",
      "source": [
        "### Data Overview"
      ],
      "metadata": {
        "id": "WnqWiys631Ms"
      },
      "id": "WnqWiys631Ms"
    },
    {
      "cell_type": "markdown",
      "source": [
        "The initial steps to get an overview of any dataset is to: \n",
        "- observe the first few rows of the dataset, to check whether the dataset has been loaded properly or not\n",
        "- get information about the number of rows and columns in the dataset\n",
        "- find out the data types of the columns to ensure that data is stored in the preferred format and the value of each property is as expected.\n",
        "- check the statistical summary of the dataset to get an overview of the numerical columns of the data"
      ],
      "metadata": {
        "id": "hsjyu3B133vm"
      },
      "id": "hsjyu3B133vm"
    },
    {
      "cell_type": "markdown",
      "source": [
        "#### Displaying the first few rows of the dataset"
      ],
      "metadata": {
        "id": "RKxn0uc73665"
      },
      "id": "RKxn0uc73665"
    },
    {
      "cell_type": "code",
      "execution_count": null,
      "id": "e1ad11d4",
      "metadata": {
        "id": "e1ad11d4",
        "colab": {
          "base_uri": "https://localhost:8080/",
          "height": 206
        },
        "outputId": "4654db81-70e7-4f63-cc0a-a156e4c5e806"
      },
      "outputs": [
        {
          "output_type": "execute_result",
          "data": {
            "text/plain": [
              "   user_id      group landing_page  time_spent_on_the_page converted  \\\n",
              "0   546592    control          old                    3.48        no   \n",
              "1   546468  treatment          new                    7.13       yes   \n",
              "2   546462  treatment          new                    4.40        no   \n",
              "3   546567    control          old                    3.02        no   \n",
              "4   546459  treatment          new                    4.75       yes   \n",
              "\n",
              "  language_preferred  \n",
              "0            Spanish  \n",
              "1            English  \n",
              "2            Spanish  \n",
              "3             French  \n",
              "4            Spanish  "
            ],
            "text/html": [
              "\n",
              "  <div id=\"df-fa40403d-cc4a-4b9c-b9c4-76b39789af7e\">\n",
              "    <div class=\"colab-df-container\">\n",
              "      <div>\n",
              "<style scoped>\n",
              "    .dataframe tbody tr th:only-of-type {\n",
              "        vertical-align: middle;\n",
              "    }\n",
              "\n",
              "    .dataframe tbody tr th {\n",
              "        vertical-align: top;\n",
              "    }\n",
              "\n",
              "    .dataframe thead th {\n",
              "        text-align: right;\n",
              "    }\n",
              "</style>\n",
              "<table border=\"1\" class=\"dataframe\">\n",
              "  <thead>\n",
              "    <tr style=\"text-align: right;\">\n",
              "      <th></th>\n",
              "      <th>user_id</th>\n",
              "      <th>group</th>\n",
              "      <th>landing_page</th>\n",
              "      <th>time_spent_on_the_page</th>\n",
              "      <th>converted</th>\n",
              "      <th>language_preferred</th>\n",
              "    </tr>\n",
              "  </thead>\n",
              "  <tbody>\n",
              "    <tr>\n",
              "      <th>0</th>\n",
              "      <td>546592</td>\n",
              "      <td>control</td>\n",
              "      <td>old</td>\n",
              "      <td>3.48</td>\n",
              "      <td>no</td>\n",
              "      <td>Spanish</td>\n",
              "    </tr>\n",
              "    <tr>\n",
              "      <th>1</th>\n",
              "      <td>546468</td>\n",
              "      <td>treatment</td>\n",
              "      <td>new</td>\n",
              "      <td>7.13</td>\n",
              "      <td>yes</td>\n",
              "      <td>English</td>\n",
              "    </tr>\n",
              "    <tr>\n",
              "      <th>2</th>\n",
              "      <td>546462</td>\n",
              "      <td>treatment</td>\n",
              "      <td>new</td>\n",
              "      <td>4.40</td>\n",
              "      <td>no</td>\n",
              "      <td>Spanish</td>\n",
              "    </tr>\n",
              "    <tr>\n",
              "      <th>3</th>\n",
              "      <td>546567</td>\n",
              "      <td>control</td>\n",
              "      <td>old</td>\n",
              "      <td>3.02</td>\n",
              "      <td>no</td>\n",
              "      <td>French</td>\n",
              "    </tr>\n",
              "    <tr>\n",
              "      <th>4</th>\n",
              "      <td>546459</td>\n",
              "      <td>treatment</td>\n",
              "      <td>new</td>\n",
              "      <td>4.75</td>\n",
              "      <td>yes</td>\n",
              "      <td>Spanish</td>\n",
              "    </tr>\n",
              "  </tbody>\n",
              "</table>\n",
              "</div>\n",
              "      <button class=\"colab-df-convert\" onclick=\"convertToInteractive('df-fa40403d-cc4a-4b9c-b9c4-76b39789af7e')\"\n",
              "              title=\"Convert this dataframe to an interactive table.\"\n",
              "              style=\"display:none;\">\n",
              "        \n",
              "  <svg xmlns=\"http://www.w3.org/2000/svg\" height=\"24px\"viewBox=\"0 0 24 24\"\n",
              "       width=\"24px\">\n",
              "    <path d=\"M0 0h24v24H0V0z\" fill=\"none\"/>\n",
              "    <path d=\"M18.56 5.44l.94 2.06.94-2.06 2.06-.94-2.06-.94-.94-2.06-.94 2.06-2.06.94zm-11 1L8.5 8.5l.94-2.06 2.06-.94-2.06-.94L8.5 2.5l-.94 2.06-2.06.94zm10 10l.94 2.06.94-2.06 2.06-.94-2.06-.94-.94-2.06-.94 2.06-2.06.94z\"/><path d=\"M17.41 7.96l-1.37-1.37c-.4-.4-.92-.59-1.43-.59-.52 0-1.04.2-1.43.59L10.3 9.45l-7.72 7.72c-.78.78-.78 2.05 0 2.83L4 21.41c.39.39.9.59 1.41.59.51 0 1.02-.2 1.41-.59l7.78-7.78 2.81-2.81c.8-.78.8-2.07 0-2.86zM5.41 20L4 18.59l7.72-7.72 1.47 1.35L5.41 20z\"/>\n",
              "  </svg>\n",
              "      </button>\n",
              "      \n",
              "  <style>\n",
              "    .colab-df-container {\n",
              "      display:flex;\n",
              "      flex-wrap:wrap;\n",
              "      gap: 12px;\n",
              "    }\n",
              "\n",
              "    .colab-df-convert {\n",
              "      background-color: #E8F0FE;\n",
              "      border: none;\n",
              "      border-radius: 50%;\n",
              "      cursor: pointer;\n",
              "      display: none;\n",
              "      fill: #1967D2;\n",
              "      height: 32px;\n",
              "      padding: 0 0 0 0;\n",
              "      width: 32px;\n",
              "    }\n",
              "\n",
              "    .colab-df-convert:hover {\n",
              "      background-color: #E2EBFA;\n",
              "      box-shadow: 0px 1px 2px rgba(60, 64, 67, 0.3), 0px 1px 3px 1px rgba(60, 64, 67, 0.15);\n",
              "      fill: #174EA6;\n",
              "    }\n",
              "\n",
              "    [theme=dark] .colab-df-convert {\n",
              "      background-color: #3B4455;\n",
              "      fill: #D2E3FC;\n",
              "    }\n",
              "\n",
              "    [theme=dark] .colab-df-convert:hover {\n",
              "      background-color: #434B5C;\n",
              "      box-shadow: 0px 1px 3px 1px rgba(0, 0, 0, 0.15);\n",
              "      filter: drop-shadow(0px 1px 2px rgba(0, 0, 0, 0.3));\n",
              "      fill: #FFFFFF;\n",
              "    }\n",
              "  </style>\n",
              "\n",
              "      <script>\n",
              "        const buttonEl =\n",
              "          document.querySelector('#df-fa40403d-cc4a-4b9c-b9c4-76b39789af7e button.colab-df-convert');\n",
              "        buttonEl.style.display =\n",
              "          google.colab.kernel.accessAllowed ? 'block' : 'none';\n",
              "\n",
              "        async function convertToInteractive(key) {\n",
              "          const element = document.querySelector('#df-fa40403d-cc4a-4b9c-b9c4-76b39789af7e');\n",
              "          const dataTable =\n",
              "            await google.colab.kernel.invokeFunction('convertToInteractive',\n",
              "                                                     [key], {});\n",
              "          if (!dataTable) return;\n",
              "\n",
              "          const docLinkHtml = 'Like what you see? Visit the ' +\n",
              "            '<a target=\"_blank\" href=https://colab.research.google.com/notebooks/data_table.ipynb>data table notebook</a>'\n",
              "            + ' to learn more about interactive tables.';\n",
              "          element.innerHTML = '';\n",
              "          dataTable['output_type'] = 'display_data';\n",
              "          await google.colab.output.renderOutput(dataTable, element);\n",
              "          const docLink = document.createElement('div');\n",
              "          docLink.innerHTML = docLinkHtml;\n",
              "          element.appendChild(docLink);\n",
              "        }\n",
              "      </script>\n",
              "    </div>\n",
              "  </div>\n",
              "  "
            ]
          },
          "metadata": {},
          "execution_count": 28
        }
      ],
      "source": [
        "df.head()"
      ]
    },
    {
      "cell_type": "markdown",
      "source": [
        "There are 6 variables (columns) in the sample data representing the user ID, group, landing page, time spent on the page, conversion status and language preferred."
      ],
      "metadata": {
        "id": "QXOpoQatl_ZS"
      },
      "id": "QXOpoQatl_ZS"
    },
    {
      "cell_type": "markdown",
      "source": [
        "#### Displaying the last few rows of the dataset"
      ],
      "metadata": {
        "id": "3RME3ORG4FN7"
      },
      "id": "3RME3ORG4FN7"
    },
    {
      "cell_type": "code",
      "source": [
        "df.tail()"
      ],
      "metadata": {
        "id": "lPgHw1UIHy8X",
        "colab": {
          "base_uri": "https://localhost:8080/",
          "height": 206
        },
        "outputId": "67b68b8e-184c-479d-c69c-52347f14e2a8"
      },
      "id": "lPgHw1UIHy8X",
      "execution_count": null,
      "outputs": [
        {
          "output_type": "execute_result",
          "data": {
            "text/plain": [
              "    user_id      group landing_page  time_spent_on_the_page converted  \\\n",
              "95   546446  treatment          new                    5.15        no   \n",
              "96   546544    control          old                    6.52       yes   \n",
              "97   546472  treatment          new                    7.07       yes   \n",
              "98   546481  treatment          new                    6.20       yes   \n",
              "99   546483  treatment          new                    5.86       yes   \n",
              "\n",
              "   language_preferred  \n",
              "95            Spanish  \n",
              "96            English  \n",
              "97            Spanish  \n",
              "98            Spanish  \n",
              "99            English  "
            ],
            "text/html": [
              "\n",
              "  <div id=\"df-678efeb3-00da-4265-a122-c8bf65523282\">\n",
              "    <div class=\"colab-df-container\">\n",
              "      <div>\n",
              "<style scoped>\n",
              "    .dataframe tbody tr th:only-of-type {\n",
              "        vertical-align: middle;\n",
              "    }\n",
              "\n",
              "    .dataframe tbody tr th {\n",
              "        vertical-align: top;\n",
              "    }\n",
              "\n",
              "    .dataframe thead th {\n",
              "        text-align: right;\n",
              "    }\n",
              "</style>\n",
              "<table border=\"1\" class=\"dataframe\">\n",
              "  <thead>\n",
              "    <tr style=\"text-align: right;\">\n",
              "      <th></th>\n",
              "      <th>user_id</th>\n",
              "      <th>group</th>\n",
              "      <th>landing_page</th>\n",
              "      <th>time_spent_on_the_page</th>\n",
              "      <th>converted</th>\n",
              "      <th>language_preferred</th>\n",
              "    </tr>\n",
              "  </thead>\n",
              "  <tbody>\n",
              "    <tr>\n",
              "      <th>95</th>\n",
              "      <td>546446</td>\n",
              "      <td>treatment</td>\n",
              "      <td>new</td>\n",
              "      <td>5.15</td>\n",
              "      <td>no</td>\n",
              "      <td>Spanish</td>\n",
              "    </tr>\n",
              "    <tr>\n",
              "      <th>96</th>\n",
              "      <td>546544</td>\n",
              "      <td>control</td>\n",
              "      <td>old</td>\n",
              "      <td>6.52</td>\n",
              "      <td>yes</td>\n",
              "      <td>English</td>\n",
              "    </tr>\n",
              "    <tr>\n",
              "      <th>97</th>\n",
              "      <td>546472</td>\n",
              "      <td>treatment</td>\n",
              "      <td>new</td>\n",
              "      <td>7.07</td>\n",
              "      <td>yes</td>\n",
              "      <td>Spanish</td>\n",
              "    </tr>\n",
              "    <tr>\n",
              "      <th>98</th>\n",
              "      <td>546481</td>\n",
              "      <td>treatment</td>\n",
              "      <td>new</td>\n",
              "      <td>6.20</td>\n",
              "      <td>yes</td>\n",
              "      <td>Spanish</td>\n",
              "    </tr>\n",
              "    <tr>\n",
              "      <th>99</th>\n",
              "      <td>546483</td>\n",
              "      <td>treatment</td>\n",
              "      <td>new</td>\n",
              "      <td>5.86</td>\n",
              "      <td>yes</td>\n",
              "      <td>English</td>\n",
              "    </tr>\n",
              "  </tbody>\n",
              "</table>\n",
              "</div>\n",
              "      <button class=\"colab-df-convert\" onclick=\"convertToInteractive('df-678efeb3-00da-4265-a122-c8bf65523282')\"\n",
              "              title=\"Convert this dataframe to an interactive table.\"\n",
              "              style=\"display:none;\">\n",
              "        \n",
              "  <svg xmlns=\"http://www.w3.org/2000/svg\" height=\"24px\"viewBox=\"0 0 24 24\"\n",
              "       width=\"24px\">\n",
              "    <path d=\"M0 0h24v24H0V0z\" fill=\"none\"/>\n",
              "    <path d=\"M18.56 5.44l.94 2.06.94-2.06 2.06-.94-2.06-.94-.94-2.06-.94 2.06-2.06.94zm-11 1L8.5 8.5l.94-2.06 2.06-.94-2.06-.94L8.5 2.5l-.94 2.06-2.06.94zm10 10l.94 2.06.94-2.06 2.06-.94-2.06-.94-.94-2.06-.94 2.06-2.06.94z\"/><path d=\"M17.41 7.96l-1.37-1.37c-.4-.4-.92-.59-1.43-.59-.52 0-1.04.2-1.43.59L10.3 9.45l-7.72 7.72c-.78.78-.78 2.05 0 2.83L4 21.41c.39.39.9.59 1.41.59.51 0 1.02-.2 1.41-.59l7.78-7.78 2.81-2.81c.8-.78.8-2.07 0-2.86zM5.41 20L4 18.59l7.72-7.72 1.47 1.35L5.41 20z\"/>\n",
              "  </svg>\n",
              "      </button>\n",
              "      \n",
              "  <style>\n",
              "    .colab-df-container {\n",
              "      display:flex;\n",
              "      flex-wrap:wrap;\n",
              "      gap: 12px;\n",
              "    }\n",
              "\n",
              "    .colab-df-convert {\n",
              "      background-color: #E8F0FE;\n",
              "      border: none;\n",
              "      border-radius: 50%;\n",
              "      cursor: pointer;\n",
              "      display: none;\n",
              "      fill: #1967D2;\n",
              "      height: 32px;\n",
              "      padding: 0 0 0 0;\n",
              "      width: 32px;\n",
              "    }\n",
              "\n",
              "    .colab-df-convert:hover {\n",
              "      background-color: #E2EBFA;\n",
              "      box-shadow: 0px 1px 2px rgba(60, 64, 67, 0.3), 0px 1px 3px 1px rgba(60, 64, 67, 0.15);\n",
              "      fill: #174EA6;\n",
              "    }\n",
              "\n",
              "    [theme=dark] .colab-df-convert {\n",
              "      background-color: #3B4455;\n",
              "      fill: #D2E3FC;\n",
              "    }\n",
              "\n",
              "    [theme=dark] .colab-df-convert:hover {\n",
              "      background-color: #434B5C;\n",
              "      box-shadow: 0px 1px 3px 1px rgba(0, 0, 0, 0.15);\n",
              "      filter: drop-shadow(0px 1px 2px rgba(0, 0, 0, 0.3));\n",
              "      fill: #FFFFFF;\n",
              "    }\n",
              "  </style>\n",
              "\n",
              "      <script>\n",
              "        const buttonEl =\n",
              "          document.querySelector('#df-678efeb3-00da-4265-a122-c8bf65523282 button.colab-df-convert');\n",
              "        buttonEl.style.display =\n",
              "          google.colab.kernel.accessAllowed ? 'block' : 'none';\n",
              "\n",
              "        async function convertToInteractive(key) {\n",
              "          const element = document.querySelector('#df-678efeb3-00da-4265-a122-c8bf65523282');\n",
              "          const dataTable =\n",
              "            await google.colab.kernel.invokeFunction('convertToInteractive',\n",
              "                                                     [key], {});\n",
              "          if (!dataTable) return;\n",
              "\n",
              "          const docLinkHtml = 'Like what you see? Visit the ' +\n",
              "            '<a target=\"_blank\" href=https://colab.research.google.com/notebooks/data_table.ipynb>data table notebook</a>'\n",
              "            + ' to learn more about interactive tables.';\n",
              "          element.innerHTML = '';\n",
              "          dataTable['output_type'] = 'display_data';\n",
              "          await google.colab.output.renderOutput(dataTable, element);\n",
              "          const docLink = document.createElement('div');\n",
              "          docLink.innerHTML = docLinkHtml;\n",
              "          element.appendChild(docLink);\n",
              "        }\n",
              "      </script>\n",
              "    </div>\n",
              "  </div>\n",
              "  "
            ]
          },
          "metadata": {},
          "execution_count": 29
        }
      ]
    },
    {
      "cell_type": "markdown",
      "source": [
        "#### Checking the shape of the dataset"
      ],
      "metadata": {
        "id": "kNu7sMLs70mx"
      },
      "id": "kNu7sMLs70mx"
    },
    {
      "cell_type": "code",
      "execution_count": null,
      "id": "6n1XyRa3_VMg",
      "metadata": {
        "id": "6n1XyRa3_VMg",
        "colab": {
          "base_uri": "https://localhost:8080/"
        },
        "outputId": "dd5b5c05-7feb-44ca-cc3b-17a388ae5454"
      },
      "outputs": [
        {
          "output_type": "execute_result",
          "data": {
            "text/plain": [
              "(100, 6)"
            ]
          },
          "metadata": {},
          "execution_count": 30
        }
      ],
      "source": [
        "df.shape"
      ]
    },
    {
      "cell_type": "markdown",
      "source": [
        "The dataset contains 6 variables of 100 data points from 100 users (100 rows and 6 cloumns)."
      ],
      "metadata": {
        "id": "xM755QZ7mnWv"
      },
      "id": "xM755QZ7mnWv"
    },
    {
      "cell_type": "markdown",
      "source": [
        "#### Checking the data types of the columns for the dataset"
      ],
      "metadata": {
        "id": "inS7KsVt724y"
      },
      "id": "inS7KsVt724y"
    },
    {
      "cell_type": "code",
      "execution_count": null,
      "id": "BeDOZQ99_mQE",
      "metadata": {
        "id": "BeDOZQ99_mQE",
        "colab": {
          "base_uri": "https://localhost:8080/"
        },
        "outputId": "396f8112-e41c-4e89-df7e-3b06d84def49"
      },
      "outputs": [
        {
          "output_type": "stream",
          "name": "stdout",
          "text": [
            "<class 'pandas.core.frame.DataFrame'>\n",
            "RangeIndex: 100 entries, 0 to 99\n",
            "Data columns (total 6 columns):\n",
            " #   Column                  Non-Null Count  Dtype  \n",
            "---  ------                  --------------  -----  \n",
            " 0   user_id                 100 non-null    int64  \n",
            " 1   group                   100 non-null    object \n",
            " 2   landing_page            100 non-null    object \n",
            " 3   time_spent_on_the_page  100 non-null    float64\n",
            " 4   converted               100 non-null    object \n",
            " 5   language_preferred      100 non-null    object \n",
            "dtypes: float64(1), int64(1), object(4)\n",
            "memory usage: 4.8+ KB\n"
          ]
        }
      ],
      "source": [
        "df.info()"
      ]
    },
    {
      "cell_type": "markdown",
      "source": [
        "The data type of the columns are integer, float and strings(object). In other words, the data type of the columns are continous and discrete in nature."
      ],
      "metadata": {
        "id": "6BBiQOoRna7Z"
      },
      "id": "6BBiQOoRna7Z"
    },
    {
      "cell_type": "markdown",
      "source": [
        "#### Getting the statistical summary for the numerical variables"
      ],
      "metadata": {
        "id": "99JkpQZO73Uz"
      },
      "id": "99JkpQZO73Uz"
    },
    {
      "cell_type": "code",
      "execution_count": null,
      "id": "mHcaTfF0Abjp",
      "metadata": {
        "id": "mHcaTfF0Abjp",
        "colab": {
          "base_uri": "https://localhost:8080/",
          "height": 112
        },
        "outputId": "fb23f21c-de9f-4cd8-bb4b-9c7175640407"
      },
      "outputs": [
        {
          "output_type": "execute_result",
          "data": {
            "text/plain": [
              "                        count         mean        std        min        25%  \\\n",
              "user_id                 100.0  546517.0000  52.295779  546443.00  546467.75   \n",
              "time_spent_on_the_page  100.0       5.3778   2.378166       0.19       3.88   \n",
              "\n",
              "                               50%          75%        max  \n",
              "user_id                 546492.500  546567.2500  546592.00  \n",
              "time_spent_on_the_page       5.415       7.0225      10.71  "
            ],
            "text/html": [
              "\n",
              "  <div id=\"df-1f34f978-57ee-4e52-8533-ac4f92828df1\">\n",
              "    <div class=\"colab-df-container\">\n",
              "      <div>\n",
              "<style scoped>\n",
              "    .dataframe tbody tr th:only-of-type {\n",
              "        vertical-align: middle;\n",
              "    }\n",
              "\n",
              "    .dataframe tbody tr th {\n",
              "        vertical-align: top;\n",
              "    }\n",
              "\n",
              "    .dataframe thead th {\n",
              "        text-align: right;\n",
              "    }\n",
              "</style>\n",
              "<table border=\"1\" class=\"dataframe\">\n",
              "  <thead>\n",
              "    <tr style=\"text-align: right;\">\n",
              "      <th></th>\n",
              "      <th>count</th>\n",
              "      <th>mean</th>\n",
              "      <th>std</th>\n",
              "      <th>min</th>\n",
              "      <th>25%</th>\n",
              "      <th>50%</th>\n",
              "      <th>75%</th>\n",
              "      <th>max</th>\n",
              "    </tr>\n",
              "  </thead>\n",
              "  <tbody>\n",
              "    <tr>\n",
              "      <th>user_id</th>\n",
              "      <td>100.0</td>\n",
              "      <td>546517.0000</td>\n",
              "      <td>52.295779</td>\n",
              "      <td>546443.00</td>\n",
              "      <td>546467.75</td>\n",
              "      <td>546492.500</td>\n",
              "      <td>546567.2500</td>\n",
              "      <td>546592.00</td>\n",
              "    </tr>\n",
              "    <tr>\n",
              "      <th>time_spent_on_the_page</th>\n",
              "      <td>100.0</td>\n",
              "      <td>5.3778</td>\n",
              "      <td>2.378166</td>\n",
              "      <td>0.19</td>\n",
              "      <td>3.88</td>\n",
              "      <td>5.415</td>\n",
              "      <td>7.0225</td>\n",
              "      <td>10.71</td>\n",
              "    </tr>\n",
              "  </tbody>\n",
              "</table>\n",
              "</div>\n",
              "      <button class=\"colab-df-convert\" onclick=\"convertToInteractive('df-1f34f978-57ee-4e52-8533-ac4f92828df1')\"\n",
              "              title=\"Convert this dataframe to an interactive table.\"\n",
              "              style=\"display:none;\">\n",
              "        \n",
              "  <svg xmlns=\"http://www.w3.org/2000/svg\" height=\"24px\"viewBox=\"0 0 24 24\"\n",
              "       width=\"24px\">\n",
              "    <path d=\"M0 0h24v24H0V0z\" fill=\"none\"/>\n",
              "    <path d=\"M18.56 5.44l.94 2.06.94-2.06 2.06-.94-2.06-.94-.94-2.06-.94 2.06-2.06.94zm-11 1L8.5 8.5l.94-2.06 2.06-.94-2.06-.94L8.5 2.5l-.94 2.06-2.06.94zm10 10l.94 2.06.94-2.06 2.06-.94-2.06-.94-.94-2.06-.94 2.06-2.06.94z\"/><path d=\"M17.41 7.96l-1.37-1.37c-.4-.4-.92-.59-1.43-.59-.52 0-1.04.2-1.43.59L10.3 9.45l-7.72 7.72c-.78.78-.78 2.05 0 2.83L4 21.41c.39.39.9.59 1.41.59.51 0 1.02-.2 1.41-.59l7.78-7.78 2.81-2.81c.8-.78.8-2.07 0-2.86zM5.41 20L4 18.59l7.72-7.72 1.47 1.35L5.41 20z\"/>\n",
              "  </svg>\n",
              "      </button>\n",
              "      \n",
              "  <style>\n",
              "    .colab-df-container {\n",
              "      display:flex;\n",
              "      flex-wrap:wrap;\n",
              "      gap: 12px;\n",
              "    }\n",
              "\n",
              "    .colab-df-convert {\n",
              "      background-color: #E8F0FE;\n",
              "      border: none;\n",
              "      border-radius: 50%;\n",
              "      cursor: pointer;\n",
              "      display: none;\n",
              "      fill: #1967D2;\n",
              "      height: 32px;\n",
              "      padding: 0 0 0 0;\n",
              "      width: 32px;\n",
              "    }\n",
              "\n",
              "    .colab-df-convert:hover {\n",
              "      background-color: #E2EBFA;\n",
              "      box-shadow: 0px 1px 2px rgba(60, 64, 67, 0.3), 0px 1px 3px 1px rgba(60, 64, 67, 0.15);\n",
              "      fill: #174EA6;\n",
              "    }\n",
              "\n",
              "    [theme=dark] .colab-df-convert {\n",
              "      background-color: #3B4455;\n",
              "      fill: #D2E3FC;\n",
              "    }\n",
              "\n",
              "    [theme=dark] .colab-df-convert:hover {\n",
              "      background-color: #434B5C;\n",
              "      box-shadow: 0px 1px 3px 1px rgba(0, 0, 0, 0.15);\n",
              "      filter: drop-shadow(0px 1px 2px rgba(0, 0, 0, 0.3));\n",
              "      fill: #FFFFFF;\n",
              "    }\n",
              "  </style>\n",
              "\n",
              "      <script>\n",
              "        const buttonEl =\n",
              "          document.querySelector('#df-1f34f978-57ee-4e52-8533-ac4f92828df1 button.colab-df-convert');\n",
              "        buttonEl.style.display =\n",
              "          google.colab.kernel.accessAllowed ? 'block' : 'none';\n",
              "\n",
              "        async function convertToInteractive(key) {\n",
              "          const element = document.querySelector('#df-1f34f978-57ee-4e52-8533-ac4f92828df1');\n",
              "          const dataTable =\n",
              "            await google.colab.kernel.invokeFunction('convertToInteractive',\n",
              "                                                     [key], {});\n",
              "          if (!dataTable) return;\n",
              "\n",
              "          const docLinkHtml = 'Like what you see? Visit the ' +\n",
              "            '<a target=\"_blank\" href=https://colab.research.google.com/notebooks/data_table.ipynb>data table notebook</a>'\n",
              "            + ' to learn more about interactive tables.';\n",
              "          element.innerHTML = '';\n",
              "          dataTable['output_type'] = 'display_data';\n",
              "          await google.colab.output.renderOutput(dataTable, element);\n",
              "          const docLink = document.createElement('div');\n",
              "          docLink.innerHTML = docLinkHtml;\n",
              "          element.appendChild(docLink);\n",
              "        }\n",
              "      </script>\n",
              "    </div>\n",
              "  </div>\n",
              "  "
            ]
          },
          "metadata": {},
          "execution_count": 32
        }
      ],
      "source": [
        "df.describe().T"
      ]
    },
    {
      "cell_type": "markdown",
      "source": [
        "1. From the sample, on an average, the time spent on the page is 5.4 minutes per day.\n",
        "2. The median time spent on the page (5.4 minutes) is approximately equal to the average, which suggests that the data is not skewed, but normally distributed.\n",
        "3. The minimum and maximum time spent on the page ranges from 0.19 to 10.71 minutes. This shows that some users spend a significant amount of time on the web page.\n",
        "4. The time spent on the page is 2.378 standard deviation away from the median, which accounts for why the 25th percentile is 3.88, and the 75th percentile is 7.02 with median equal to 5.415"
      ],
      "metadata": {
        "id": "BA-xBhFAovUp"
      },
      "id": "BA-xBhFAovUp"
    },
    {
      "cell_type": "markdown",
      "source": [
        "#### Getting the statistical summary for the categorical variables"
      ],
      "metadata": {
        "id": "XTdb30lb9M65"
      },
      "id": "XTdb30lb9M65"
    },
    {
      "cell_type": "code",
      "source": [
        "df.astype(\"object\").describe()"
      ],
      "metadata": {
        "id": "JGLDFgDkIbMw",
        "colab": {
          "base_uri": "https://localhost:8080/",
          "height": 175
        },
        "outputId": "a19e71e2-f5f3-4801-d700-d6d55e9523d6"
      },
      "id": "JGLDFgDkIbMw",
      "execution_count": null,
      "outputs": [
        {
          "output_type": "execute_result",
          "data": {
            "text/plain": [
              "        user_id    group landing_page  time_spent_on_the_page converted  \\\n",
              "count       100      100          100                  100.00       100   \n",
              "unique      100        2            2                   94.00         2   \n",
              "top      546592  control          old                    6.04       yes   \n",
              "freq          1       50           50                    2.00        54   \n",
              "\n",
              "       language_preferred  \n",
              "count                 100  \n",
              "unique                  3  \n",
              "top               Spanish  \n",
              "freq                   34  "
            ],
            "text/html": [
              "\n",
              "  <div id=\"df-eef25a06-9066-4c61-a48e-2c1ecbcf219a\">\n",
              "    <div class=\"colab-df-container\">\n",
              "      <div>\n",
              "<style scoped>\n",
              "    .dataframe tbody tr th:only-of-type {\n",
              "        vertical-align: middle;\n",
              "    }\n",
              "\n",
              "    .dataframe tbody tr th {\n",
              "        vertical-align: top;\n",
              "    }\n",
              "\n",
              "    .dataframe thead th {\n",
              "        text-align: right;\n",
              "    }\n",
              "</style>\n",
              "<table border=\"1\" class=\"dataframe\">\n",
              "  <thead>\n",
              "    <tr style=\"text-align: right;\">\n",
              "      <th></th>\n",
              "      <th>user_id</th>\n",
              "      <th>group</th>\n",
              "      <th>landing_page</th>\n",
              "      <th>time_spent_on_the_page</th>\n",
              "      <th>converted</th>\n",
              "      <th>language_preferred</th>\n",
              "    </tr>\n",
              "  </thead>\n",
              "  <tbody>\n",
              "    <tr>\n",
              "      <th>count</th>\n",
              "      <td>100</td>\n",
              "      <td>100</td>\n",
              "      <td>100</td>\n",
              "      <td>100.00</td>\n",
              "      <td>100</td>\n",
              "      <td>100</td>\n",
              "    </tr>\n",
              "    <tr>\n",
              "      <th>unique</th>\n",
              "      <td>100</td>\n",
              "      <td>2</td>\n",
              "      <td>2</td>\n",
              "      <td>94.00</td>\n",
              "      <td>2</td>\n",
              "      <td>3</td>\n",
              "    </tr>\n",
              "    <tr>\n",
              "      <th>top</th>\n",
              "      <td>546592</td>\n",
              "      <td>control</td>\n",
              "      <td>old</td>\n",
              "      <td>6.04</td>\n",
              "      <td>yes</td>\n",
              "      <td>Spanish</td>\n",
              "    </tr>\n",
              "    <tr>\n",
              "      <th>freq</th>\n",
              "      <td>1</td>\n",
              "      <td>50</td>\n",
              "      <td>50</td>\n",
              "      <td>2.00</td>\n",
              "      <td>54</td>\n",
              "      <td>34</td>\n",
              "    </tr>\n",
              "  </tbody>\n",
              "</table>\n",
              "</div>\n",
              "      <button class=\"colab-df-convert\" onclick=\"convertToInteractive('df-eef25a06-9066-4c61-a48e-2c1ecbcf219a')\"\n",
              "              title=\"Convert this dataframe to an interactive table.\"\n",
              "              style=\"display:none;\">\n",
              "        \n",
              "  <svg xmlns=\"http://www.w3.org/2000/svg\" height=\"24px\"viewBox=\"0 0 24 24\"\n",
              "       width=\"24px\">\n",
              "    <path d=\"M0 0h24v24H0V0z\" fill=\"none\"/>\n",
              "    <path d=\"M18.56 5.44l.94 2.06.94-2.06 2.06-.94-2.06-.94-.94-2.06-.94 2.06-2.06.94zm-11 1L8.5 8.5l.94-2.06 2.06-.94-2.06-.94L8.5 2.5l-.94 2.06-2.06.94zm10 10l.94 2.06.94-2.06 2.06-.94-2.06-.94-.94-2.06-.94 2.06-2.06.94z\"/><path d=\"M17.41 7.96l-1.37-1.37c-.4-.4-.92-.59-1.43-.59-.52 0-1.04.2-1.43.59L10.3 9.45l-7.72 7.72c-.78.78-.78 2.05 0 2.83L4 21.41c.39.39.9.59 1.41.59.51 0 1.02-.2 1.41-.59l7.78-7.78 2.81-2.81c.8-.78.8-2.07 0-2.86zM5.41 20L4 18.59l7.72-7.72 1.47 1.35L5.41 20z\"/>\n",
              "  </svg>\n",
              "      </button>\n",
              "      \n",
              "  <style>\n",
              "    .colab-df-container {\n",
              "      display:flex;\n",
              "      flex-wrap:wrap;\n",
              "      gap: 12px;\n",
              "    }\n",
              "\n",
              "    .colab-df-convert {\n",
              "      background-color: #E8F0FE;\n",
              "      border: none;\n",
              "      border-radius: 50%;\n",
              "      cursor: pointer;\n",
              "      display: none;\n",
              "      fill: #1967D2;\n",
              "      height: 32px;\n",
              "      padding: 0 0 0 0;\n",
              "      width: 32px;\n",
              "    }\n",
              "\n",
              "    .colab-df-convert:hover {\n",
              "      background-color: #E2EBFA;\n",
              "      box-shadow: 0px 1px 2px rgba(60, 64, 67, 0.3), 0px 1px 3px 1px rgba(60, 64, 67, 0.15);\n",
              "      fill: #174EA6;\n",
              "    }\n",
              "\n",
              "    [theme=dark] .colab-df-convert {\n",
              "      background-color: #3B4455;\n",
              "      fill: #D2E3FC;\n",
              "    }\n",
              "\n",
              "    [theme=dark] .colab-df-convert:hover {\n",
              "      background-color: #434B5C;\n",
              "      box-shadow: 0px 1px 3px 1px rgba(0, 0, 0, 0.15);\n",
              "      filter: drop-shadow(0px 1px 2px rgba(0, 0, 0, 0.3));\n",
              "      fill: #FFFFFF;\n",
              "    }\n",
              "  </style>\n",
              "\n",
              "      <script>\n",
              "        const buttonEl =\n",
              "          document.querySelector('#df-eef25a06-9066-4c61-a48e-2c1ecbcf219a button.colab-df-convert');\n",
              "        buttonEl.style.display =\n",
              "          google.colab.kernel.accessAllowed ? 'block' : 'none';\n",
              "\n",
              "        async function convertToInteractive(key) {\n",
              "          const element = document.querySelector('#df-eef25a06-9066-4c61-a48e-2c1ecbcf219a');\n",
              "          const dataTable =\n",
              "            await google.colab.kernel.invokeFunction('convertToInteractive',\n",
              "                                                     [key], {});\n",
              "          if (!dataTable) return;\n",
              "\n",
              "          const docLinkHtml = 'Like what you see? Visit the ' +\n",
              "            '<a target=\"_blank\" href=https://colab.research.google.com/notebooks/data_table.ipynb>data table notebook</a>'\n",
              "            + ' to learn more about interactive tables.';\n",
              "          element.innerHTML = '';\n",
              "          dataTable['output_type'] = 'display_data';\n",
              "          await google.colab.output.renderOutput(dataTable, element);\n",
              "          const docLink = document.createElement('div');\n",
              "          docLink.innerHTML = docLinkHtml;\n",
              "          element.appendChild(docLink);\n",
              "        }\n",
              "      </script>\n",
              "    </div>\n",
              "  </div>\n",
              "  "
            ]
          },
          "metadata": {},
          "execution_count": 33
        }
      ]
    },
    {
      "cell_type": "markdown",
      "source": [
        "1. There are 100 users sampled on the webpage.\n",
        "2. 100 users were shared equally into 2 groups (control and treatment).\n",
        "3. 3 languages (English, French and Spanish) were used alternatively by users as preferred.\n",
        "4. There are 2 landing pages (old and new)."
      ],
      "metadata": {
        "id": "MVdKaYO6TFgr"
      },
      "id": "MVdKaYO6TFgr"
    },
    {
      "cell_type": "markdown",
      "id": "UdbuWJTvukrz",
      "metadata": {
        "id": "UdbuWJTvukrz"
      },
      "source": [
        "### Check for missing values"
      ]
    },
    {
      "cell_type": "code",
      "execution_count": null,
      "id": "NPQfOZgAALLC",
      "metadata": {
        "id": "NPQfOZgAALLC",
        "colab": {
          "base_uri": "https://localhost:8080/"
        },
        "outputId": "651d460a-ed73-48ad-90f6-173379c69eb8"
      },
      "outputs": [
        {
          "output_type": "execute_result",
          "data": {
            "text/plain": [
              "user_id                   0\n",
              "group                     0\n",
              "landing_page              0\n",
              "time_spent_on_the_page    0\n",
              "converted                 0\n",
              "language_preferred        0\n",
              "dtype: int64"
            ]
          },
          "metadata": {},
          "execution_count": 34
        }
      ],
      "source": [
        "df.isnull().sum()"
      ]
    },
    {
      "cell_type": "markdown",
      "source": [
        "There are no missing values in the dataset"
      ],
      "metadata": {
        "id": "H7hkfMR-Tx-E"
      },
      "id": "H7hkfMR-Tx-E"
    },
    {
      "cell_type": "markdown",
      "metadata": {
        "id": "wKuSrs67zZ81"
      },
      "source": [
        "### Check for duplicates"
      ],
      "id": "wKuSrs67zZ81"
    },
    {
      "cell_type": "code",
      "source": [
        "df.duplicated()"
      ],
      "metadata": {
        "id": "JSUqAbuOI6W4",
        "colab": {
          "base_uri": "https://localhost:8080/"
        },
        "outputId": "02b54542-dac3-4ac2-8ed7-fec3c0c9aa7f"
      },
      "id": "JSUqAbuOI6W4",
      "execution_count": null,
      "outputs": [
        {
          "output_type": "execute_result",
          "data": {
            "text/plain": [
              "0     False\n",
              "1     False\n",
              "2     False\n",
              "3     False\n",
              "4     False\n",
              "      ...  \n",
              "95    False\n",
              "96    False\n",
              "97    False\n",
              "98    False\n",
              "99    False\n",
              "Length: 100, dtype: bool"
            ]
          },
          "metadata": {},
          "execution_count": 35
        }
      ]
    },
    {
      "cell_type": "markdown",
      "source": [
        "There are no duplicates in the dataset"
      ],
      "metadata": {
        "id": "z7aItqrSUQzA"
      },
      "id": "z7aItqrSUQzA"
    },
    {
      "cell_type": "markdown",
      "id": "68f3b2c9",
      "metadata": {
        "id": "68f3b2c9"
      },
      "source": [
        "### Univariate Analysis"
      ]
    },
    {
      "cell_type": "markdown",
      "id": "NAkPh1ThBTGD",
      "metadata": {
        "id": "NAkPh1ThBTGD"
      },
      "source": [
        "#### Time spent on the page"
      ]
    },
    {
      "cell_type": "code",
      "execution_count": null,
      "id": "3dsXz9R6BXIX",
      "metadata": {
        "id": "3dsXz9R6BXIX",
        "colab": {
          "base_uri": "https://localhost:8080/",
          "height": 543
        },
        "outputId": "d0760172-91bf-498d-e9dd-2f82036ba53a"
      },
      "outputs": [
        {
          "output_type": "display_data",
          "data": {
            "text/plain": [
              "<Figure size 432x288 with 1 Axes>"
            ],
            "image/png": "[encoded data removed]"
          },
          "metadata": {
            "needs_background": "light"
          }
        },
        {
          "output_type": "display_data",
          "data": {
            "text/plain": [
              "<Figure size 432x288 with 1 Axes>"
            ],
            "image/png": "[encoded data removed]"
          },
          "metadata": {
            "needs_background": "light"
          }
        }
      ],
      "source": [
        "sns.histplot(data=df,x='time_spent_on_the_page')\n",
        "plt.show()\n",
        "sns.boxplot(data=df,x='time_spent_on_the_page')\n",
        "plt.show()"
      ]
    },
    {
      "cell_type": "markdown",
      "source": [
        "1. The time spent on the page follows an almost normal distribution (median approximately equal to mean).\n",
        "2. Time spent on the page ranges between 0.19 seconds to 10.71 miniutes\n",
        "3. The median time spent on the page is 5.415\n",
        "4. There are no outliers\n",
        "5. Q1= 3.88, Q2=4.02\n"
      ],
      "metadata": {
        "id": "46SheGLcUcwB"
      },
      "id": "46SheGLcUcwB"
    },
    {
      "cell_type": "markdown",
      "id": "e6f99481",
      "metadata": {
        "id": "e6f99481"
      },
      "source": [
        "#### Group"
      ]
    },
    {
      "cell_type": "code",
      "execution_count": null,
      "id": "-EckQbpMAsp1",
      "metadata": {
        "id": "-EckQbpMAsp1",
        "colab": {
          "base_uri": "https://localhost:8080/"
        },
        "outputId": "081bcd37-0bc3-408c-af0d-150fb52a5265"
      },
      "outputs": [
        {
          "output_type": "execute_result",
          "data": {
            "text/plain": [
              "control      50\n",
              "treatment    50\n",
              "Name: group, dtype: int64"
            ]
          },
          "metadata": {},
          "execution_count": 37
        }
      ],
      "source": [
        "df['group'].value_counts()"
      ]
    },
    {
      "cell_type": "code",
      "execution_count": null,
      "id": "ROvZjuEGBm0t",
      "metadata": {
        "id": "ROvZjuEGBm0t",
        "colab": {
          "base_uri": "https://localhost:8080/",
          "height": 279
        },
        "outputId": "85e12d8b-d273-4de3-8c5f-478092c70c8a"
      },
      "outputs": [
        {
          "output_type": "display_data",
          "data": {
            "text/plain": [
              "<Figure size 432x288 with 1 Axes>"
            ],
            "image/png": "[encoded data removed]"
          },
          "metadata": {
            "needs_background": "light"
          }
        }
      ],
      "source": [
        "sns.countplot(data=df,x='group')\n",
        "plt.show()"
      ]
    },
    {
      "cell_type": "markdown",
      "source": [
        "1. There are two groups (control and treatment) with equal number of users.\n",
        "2. Each group has 50 users each."
      ],
      "metadata": {
        "id": "DUNYtlE_2-qa"
      },
      "id": "DUNYtlE_2-qa"
    },
    {
      "cell_type": "markdown",
      "id": "sSdc8YDbBr9Y",
      "metadata": {
        "id": "sSdc8YDbBr9Y"
      },
      "source": [
        "#### Landing page"
      ]
    },
    {
      "cell_type": "code",
      "execution_count": null,
      "id": "6LlJXjzBA_jP",
      "metadata": {
        "id": "6LlJXjzBA_jP",
        "colab": {
          "base_uri": "https://localhost:8080/"
        },
        "outputId": "6c922216-8c5c-4976-f61f-963e84ab48eb"
      },
      "outputs": [
        {
          "output_type": "execute_result",
          "data": {
            "text/plain": [
              "old    50\n",
              "new    50\n",
              "Name: landing_page, dtype: int64"
            ]
          },
          "metadata": {},
          "execution_count": 39
        }
      ],
      "source": [
        "df['landing_page'].value_counts()"
      ]
    },
    {
      "cell_type": "code",
      "execution_count": null,
      "id": "CbIZgbOzBuxF",
      "metadata": {
        "id": "CbIZgbOzBuxF",
        "colab": {
          "base_uri": "https://localhost:8080/",
          "height": 280
        },
        "outputId": "0fc6ac7f-d893-40eb-f0f9-96a5c12d9055"
      },
      "outputs": [
        {
          "output_type": "display_data",
          "data": {
            "text/plain": [
              "<Figure size 432x288 with 1 Axes>"
            ],
            "image/png": "[encoded data removed]"
          },
          "metadata": {
            "needs_background": "light"
          }
        }
      ],
      "source": [
        "sns.countplot(data=df,x='landing_page')\n",
        "plt.show()"
      ]
    },
    {
      "cell_type": "markdown",
      "source": [
        "1. There are two landing pages (old and new) designated for the use of the two groups, control and treatment.\n",
        "2. Each landing page is being used by equal amount of users each (50 users each)."
      ],
      "metadata": {
        "id": "Wa1sSTG13YM7"
      },
      "id": "Wa1sSTG13YM7"
    },
    {
      "cell_type": "markdown",
      "id": "3Rex1rUxB3YZ",
      "metadata": {
        "id": "3Rex1rUxB3YZ"
      },
      "source": [
        "#### Converted"
      ]
    },
    {
      "cell_type": "code",
      "execution_count": null,
      "id": "z80t7LK5BCBT",
      "metadata": {
        "id": "z80t7LK5BCBT",
        "colab": {
          "base_uri": "https://localhost:8080/"
        },
        "outputId": "403b022a-e583-4c17-9c1b-e6ceb025330f"
      },
      "outputs": [
        {
          "output_type": "execute_result",
          "data": {
            "text/plain": [
              "yes    54\n",
              "no     46\n",
              "Name: converted, dtype: int64"
            ]
          },
          "metadata": {},
          "execution_count": 41
        }
      ],
      "source": [
        "df['converted'].value_counts()"
      ]
    },
    {
      "cell_type": "code",
      "execution_count": null,
      "id": "qIMrpxF4B7an",
      "metadata": {
        "id": "qIMrpxF4B7an",
        "colab": {
          "base_uri": "https://localhost:8080/",
          "height": 279
        },
        "outputId": "c5346e38-7de6-4b0d-fdfa-69a44fe34eec"
      },
      "outputs": [
        {
          "output_type": "display_data",
          "data": {
            "text/plain": [
              "<Figure size 432x288 with 1 Axes>"
            ],
            "image/png": "[encoded data removed]"
          },
          "metadata": {
            "needs_background": "light"
          }
        }
      ],
      "source": [
        "sns.countplot(data=df,x='converted')\n",
        "plt.show()"
      ]
    },
    {
      "cell_type": "markdown",
      "source": [
        "1. 54 users converted after spending time on the web page.\n",
        "2. 46 users were not converted after spending time on the web page."
      ],
      "metadata": {
        "id": "3bv9penK5UY9"
      },
      "id": "3bv9penK5UY9"
    },
    {
      "cell_type": "markdown",
      "id": "agkGFqokCOb8",
      "metadata": {
        "id": "agkGFqokCOb8"
      },
      "source": [
        "#### Language preferred"
      ]
    },
    {
      "cell_type": "code",
      "execution_count": null,
      "id": "_g2CBicdBDF0",
      "metadata": {
        "id": "_g2CBicdBDF0",
        "colab": {
          "base_uri": "https://localhost:8080/"
        },
        "outputId": "64b611e1-b2c3-4195-97b1-527060452e19"
      },
      "outputs": [
        {
          "output_type": "execute_result",
          "data": {
            "text/plain": [
              "Spanish    34\n",
              "French     34\n",
              "English    32\n",
              "Name: language_preferred, dtype: int64"
            ]
          },
          "metadata": {},
          "execution_count": 43
        }
      ],
      "source": [
        "df['language_preferred'].value_counts()"
      ]
    },
    {
      "cell_type": "code",
      "execution_count": null,
      "id": "BYnVZH8ECQaY",
      "metadata": {
        "id": "BYnVZH8ECQaY",
        "colab": {
          "base_uri": "https://localhost:8080/",
          "height": 280
        },
        "outputId": "be113f90-ede3-4e57-a251-dd08bd288d88"
      },
      "outputs": [
        {
          "output_type": "display_data",
          "data": {
            "text/plain": [
              "<Figure size 432x288 with 1 Axes>"
            ],
            "image/png": "[encoded data removed]"
          },
          "metadata": {
            "needs_background": "light"
          }
        }
      ],
      "source": [
        "sns.countplot(data=df,x='language_preferred')\n",
        "plt.show()"
      ]
    },
    {
      "cell_type": "markdown",
      "source": [
        "1. There are 3 preferred languages\n",
        "2. 34 users prefer Spanish language\n",
        "3. 34 users prefer  French language\n",
        "4. 32 users prefer Engliah langusge\n",
        "5. The users are a bit more of French and Spanish users"
      ],
      "metadata": {
        "id": "zzrO_Aal6AoO"
      },
      "id": "zzrO_Aal6AoO"
    },
    {
      "cell_type": "markdown",
      "id": "fad2de2f",
      "metadata": {
        "id": "fad2de2f"
      },
      "source": [
        "### Bivariate Analysis"
      ]
    },
    {
      "cell_type": "markdown",
      "id": "58e9a1d0",
      "metadata": {
        "id": "58e9a1d0"
      },
      "source": [
        "#### Landing page vs Time spent on the page"
      ]
    },
    {
      "cell_type": "code",
      "execution_count": null,
      "id": "2y7N8qQiDEfn",
      "metadata": {
        "id": "2y7N8qQiDEfn",
        "colab": {
          "base_uri": "https://localhost:8080/",
          "height": 389
        },
        "outputId": "e0da6152-170b-444a-a02d-3a23d9f33ad8"
      },
      "outputs": [
        {
          "output_type": "display_data",
          "data": {
            "text/plain": [
              "<Figure size 720x432 with 1 Axes>"
            ],
            "image/png": "[encoded data removed]"
          },
          "metadata": {
            "needs_background": "light"
          }
        }
      ],
      "source": [
        "plt.figure(figsize=(10,6))\n",
        "sns.boxplot(data=df,x='landing_page',y='time_spent_on_the_page')\n",
        "plt.show()"
      ]
    },
    {
      "cell_type": "markdown",
      "source": [
        "1. Users spend longer time on the new landing page (1.15 minutes to 10.71 minutes) compared to the old landing page(0.19 minutes to 10.20 minutes).\n",
        "2. There are presence of outliers on the distribution of time spent on the new landing page."
      ],
      "metadata": {
        "id": "T61hYEII7VWm"
      },
      "id": "T61hYEII7VWm"
    },
    {
      "cell_type": "markdown",
      "id": "q9dW3eB-DTBF",
      "metadata": {
        "id": "q9dW3eB-DTBF"
      },
      "source": [
        "#### Conversion status vs Time spent on the page"
      ]
    },
    {
      "cell_type": "code",
      "execution_count": null,
      "id": "yPqV_UsvDURc",
      "metadata": {
        "id": "yPqV_UsvDURc",
        "colab": {
          "base_uri": "https://localhost:8080/",
          "height": 552
        },
        "outputId": "25e1b93d-22f7-4527-fb69-fdfdf32ef7d0"
      },
      "outputs": [
        {
          "output_type": "display_data",
          "data": {
            "text/plain": [
              "<Figure size 648x648 with 1 Axes>"
            ],
            "image/png": "[encoded data removed]"
          },
          "metadata": {
            "needs_background": "light"
          }
        }
      ],
      "source": [
        "plt.figure(figsize=(9, 9))\n",
        "sns.boxplot(data = df, x = 'time_spent_on_the_page', hue = 'converted')\n",
        "plt.show()\n"
      ]
    },
    {
      "cell_type": "markdown",
      "source": [
        "1. The boxplot is normally distributed\n",
        "2. The users of the new landing page spent more time on the page and had a higher conversion rate or status.\n",
        "3. Users spent a range of 0.15 to 10.71 minutes on the page.\n",
        "4. The distribution does not contain outliers."
      ],
      "metadata": {
        "id": "172AKd4CLhmb"
      },
      "id": "172AKd4CLhmb"
    },
    {
      "cell_type": "markdown",
      "id": "67Ozc0p8Dmbe",
      "metadata": {
        "id": "67Ozc0p8Dmbe"
      },
      "source": [
        "#### Language preferred vs Time spent on the page"
      ]
    },
    {
      "cell_type": "code",
      "execution_count": null,
      "id": "IaFp53rDDn2W",
      "metadata": {
        "id": "IaFp53rDDn2W",
        "colab": {
          "base_uri": "https://localhost:8080/",
          "height": 552
        },
        "outputId": "f7818a5d-c28c-4874-f195-36fa5137b1ac"
      },
      "outputs": [
        {
          "output_type": "display_data",
          "data": {
            "text/plain": [
              "<Figure size 648x648 with 1 Axes>"
            ],
            "image/png": "[encoded data removed]"
          },
          "metadata": {
            "needs_background": "light"
          }
        }
      ],
      "source": [
        "plt.figure(figsize=(9, 9))\n",
        "sns.boxplot(data = df, x = 'time_spent_on_the_page', hue = 'language_preferred')\n",
        "plt.show()"
      ]
    },
    {
      "cell_type": "markdown",
      "source": [
        "1. The boxplot is normally distributed.\n",
        "2. Language preferred did not influence the time spent on the page by users.\n",
        "3. Users spent a range of 0.15 to 10.71 minutes on the page.\n",
        "4. The distribution does not contain outliers."
      ],
      "metadata": {
        "id": "OGXivtrWMX6r"
      },
      "id": "OGXivtrWMX6r"
    },
    {
      "cell_type": "markdown",
      "id": "e5fdf0c8",
      "metadata": {
        "id": "e5fdf0c8"
      },
      "source": [
        "### Visual Analysis"
      ]
    },
    {
      "cell_type": "code",
      "execution_count": null,
      "id": "6eZJa41eg21n",
      "metadata": {
        "id": "6eZJa41eg21n",
        "colab": {
          "base_uri": "https://localhost:8080/",
          "height": 389
        },
        "outputId": "6de5d394-0198-4c23-e91f-3d3c8b7ab940"
      },
      "outputs": [
        {
          "output_type": "display_data",
          "data": {
            "text/plain": [
              "<Figure size 576x432 with 1 Axes>"
            ],
            "image/png": "[encoded data removed]"
          },
          "metadata": {
            "needs_background": "light"
          }
        }
      ],
      "source": [
        "plt.figure(figsize=(8,6))\n",
        "sns.boxplot(x = 'landing_page', y = 'time_spent_on_the_page', data = df)\n",
        "plt.show()"
      ]
    },
    {
      "cell_type": "markdown",
      "source": [
        "1. Presence of outliers in the distribution of the time spent on the new landing page.\n",
        "2. Users spend longer time on the new landing page ( minimum of 1.15 minutes to  a maximum of 10.71 minutes) compared to the old landing page( minimum of 0.19 minutes to a maximum of 10.20 minutes).\n",
        "3. The interquartile range of the new landing page is conspicously higher than that of the old landing page.\n",
        "3. The distribution of the time spent on the old and new landing page is slightly skewed to the right."
      ],
      "metadata": {
        "id": "737xh-RGsb8w"
      },
      "id": "737xh-RGsb8w"
    },
    {
      "cell_type": "markdown",
      "id": "56b3dafd",
      "metadata": {
        "id": "56b3dafd"
      },
      "source": [
        "### Null and alternate hypotheses"
      ]
    },
    {
      "cell_type": "markdown",
      "id": "d2ac77ef",
      "metadata": {
        "id": "d2ac77ef"
      },
      "source": [
        "$H_0$: Users spend equal mean time on the new landing page and the existing landing page.\n",
        "\n",
        "$H_a$: Users spend more (greater) mean time on the new landing page than the existing landing page\n",
        "\n"
      ]
    },
    {
      "cell_type": "markdown",
      "source": [
        "Let μ1 and μ2 the time spent on the new landing page and the existing landing page respectively.\n",
        "Mathematically, the above formulated hypothesis can be written as.\n",
        "1. $H_0$: μ1 = μ2\n",
        "2. $H_a$: μ1 > μ2"
      ],
      "metadata": {
        "id": "RBGgSMXWCFR9"
      },
      "id": "RBGgSMXWCFR9"
    },
    {
      "cell_type": "markdown",
      "id": "c7ee4907",
      "metadata": {
        "id": "c7ee4907"
      },
      "source": [
        "### Appropriate test"
      ]
    },
    {
      "cell_type": "markdown",
      "source": [
        "The appropriate test is a two independent sample T-test for equality of means"
      ],
      "metadata": {
        "id": "YE2wvzxFkE2t"
      },
      "id": "YE2wvzxFkE2t"
    },
    {
      "cell_type": "markdown",
      "id": "92d7d7ee",
      "metadata": {
        "id": "92d7d7ee"
      },
      "source": [
        " $\\alpha = 0.05$."
      ]
    },
    {
      "cell_type": "markdown",
      "id": "5fed2eac",
      "metadata": {
        "id": "5fed2eac"
      },
      "source": [
        "### Collection and preparation of data"
      ]
    },
    {
      "cell_type": "code",
      "execution_count": null,
      "id": "f5a59495",
      "metadata": {
        "id": "f5a59495"
      },
      "outputs": [],
      "source": [
        "time_spent_new = df[df['landing_page'] == 'new']['time_spent_on_the_page']\n",
        "\n",
        "time_spent_old = df[df['landing_page'] == 'old']['time_spent_on_the_page']"
      ]
    },
    {
      "cell_type": "code",
      "execution_count": null,
      "id": "tNGXW88MFxFz",
      "metadata": {
        "id": "tNGXW88MFxFz",
        "colab": {
          "base_uri": "https://localhost:8080/"
        },
        "outputId": "9274073e-432d-4ed2-db36-329327f4be43"
      },
      "outputs": [
        {
          "output_type": "stream",
          "name": "stdout",
          "text": [
            "The sample standard deviation of the time spent on the new page is: 1.82\n",
            "The sample standard deviation of the time spent on the old page is: 2.58\n"
          ]
        }
      ],
      "source": [
        "print('The sample standard deviation of the time spent on the new page is:', round(time_spent_new.std(),2))\n",
        "print('The sample standard deviation of the time spent on the old page is:', round(time_spent_old.std(),2))"
      ]
    },
    {
      "cell_type": "markdown",
      "id": "f5c5258d",
      "metadata": {
        "id": "f5c5258d"
      },
      "source": [
        "### P-value"
      ]
    },
    {
      "cell_type": "code",
      "execution_count": null,
      "id": "fac8594a",
      "metadata": {
        "id": "fac8594a",
        "colab": {
          "base_uri": "https://localhost:8080/"
        },
        "outputId": "520f342a-5f9d-46da-ad87-36be5363f1a6"
      },
      "outputs": [
        {
          "output_type": "stream",
          "name": "stdout",
          "text": [
            "The p-value is 0.0001392381225166549\n"
          ]
        }
      ],
      "source": [
        "from scipy.stats import ttest_ind\n",
        "\n",
        "test_stat, p_value =  ttest_ind(time_spent_new, time_spent_old, equal_var = False, alternative = 'greater') \n",
        "\n",
        "print('The p-value is', p_value)"
      ]
    },
    {
      "cell_type": "markdown",
      "id": "359b12f8",
      "metadata": {
        "id": "359b12f8"
      },
      "source": [
        "### Compare the p-value with $\\alpha$"
      ]
    },
    {
      "cell_type": "code",
      "execution_count": null,
      "id": "7be47289",
      "metadata": {
        "id": "7be47289",
        "colab": {
          "base_uri": "https://localhost:8080/"
        },
        "outputId": "b05775eb-730b-40d5-e67b-11ed3ad59414"
      },
      "outputs": [
        {
          "output_type": "stream",
          "name": "stdout",
          "text": [
            "As the p-value 0.0001392381225166549 is less than the level of significance, we reject the null hypothesis.\n"
          ]
        }
      ],
      "source": [
        "if p_value < 0.05:\n",
        "    print(f'As the p-value {p_value} is less than the level of significance, we reject the null hypothesis.')\n",
        "else:\n",
        "    print(f'As the p-value {p_value} is greater than the level of significance, we fail to reject the null hypothesis.')"
      ]
    },
    {
      "cell_type": "markdown",
      "id": "d9affc84",
      "metadata": {
        "id": "d9affc84"
      },
      "source": [
        "### Inference"
      ]
    },
    {
      "cell_type": "markdown",
      "id": "6b16dd4b",
      "metadata": {
        "id": "6b16dd4b"
      },
      "source": [
        "Since the p-value (~0.00014) is much less than the level of significance, we reject the null hypothesis. Hence we have enough significance to conclude that the mean time spent on the new landing page is greater than the mean time spent on the existing landing page.\n",
        "\n"
      ]
    },
    {
      "cell_type": "markdown",
      "id": "ZmZfv9znHmuI",
      "metadata": {
        "id": "ZmZfv9znHmuI"
      },
      "source": [
        "### Visual Analysis"
      ]
    },
    {
      "cell_type": "code",
      "execution_count": null,
      "id": "b7f52898",
      "metadata": {
        "id": "b7f52898",
        "colab": {
          "base_uri": "https://localhost:8080/",
          "height": 508
        },
        "outputId": "48423574-03a1-459e-b504-2153153bc0f5"
      },
      "outputs": [
        {
          "output_type": "display_data",
          "data": {
            "text/plain": [
              "<Figure size 432x576 with 1 Axes>"
            ],
            "image/png": "[encoded data removed]"
          },
          "metadata": {
            "needs_background": "light"
          }
        }
      ],
      "source": [
        "pd.crosstab(df['landing_page'],df['converted'],normalize='index').plot(kind=\"bar\", figsize=(6,8),stacked=True)\n",
        "plt.legend()\n",
        "plt.show()"
      ]
    },
    {
      "cell_type": "markdown",
      "source": [
        "1. Approximately 34% of users on the new landing page did not convert, while 66% of users converted.\n",
        "2. Approximately 58% of users on the old landing page did not covert, while approximately 42% of users converted."
      ],
      "metadata": {
        "id": "Lr7AzpyaN47L"
      },
      "id": "Lr7AzpyaN47L"
    },
    {
      "cell_type": "markdown",
      "metadata": {
        "id": "VjdHgQQPLIim"
      },
      "source": [
        "$H_0$: The conversion rate of the new landing page is equal to the conversion rate of the old landing page.\n",
        "\n",
        "$H_a$: The conversion rate of the new landing page is greater the conversion rate of the old landing page.\n",
        "\n",
        "Let μ1 and μ2 be the conversion rate for the new and the old page respectively; The mathematical representation is given below;\n",
        "\n",
        "1. $H_0:$ μ1 = μ2\n",
        "\n",
        "2. $H_a:$ μ1 > μ2\n",
        "\n"
      ],
      "id": "VjdHgQQPLIim"
    },
    {
      "cell_type": "markdown",
      "id": "3QVRe46rH7yx",
      "metadata": {
        "id": "3QVRe46rH7yx"
      },
      "source": [
        "### Appropriate test"
      ]
    },
    {
      "cell_type": "markdown",
      "source": [
        "The appropriate test is a two proportion Z-test"
      ],
      "metadata": {
        "id": "x3iJ6NByQpS8"
      },
      "id": "x3iJ6NByQpS8"
    },
    {
      "cell_type": "markdown",
      "id": "NLuVA-hpIM9k",
      "metadata": {
        "id": "NLuVA-hpIM9k"
      },
      "source": [
        " α = 0.05."
      ]
    },
    {
      "cell_type": "code",
      "execution_count": null,
      "id": "Sbtfr2N6INtG",
      "metadata": {
        "id": "Sbtfr2N6INtG",
        "colab": {
          "base_uri": "https://localhost:8080/"
        },
        "outputId": "3a5cf6a4-3fd8-471b-dfff-c047c2b6aedb"
      },
      "outputs": [
        {
          "output_type": "stream",
          "name": "stdout",
          "text": [
            "The numbers of users served the new and old pages are 50 and 50 respectively\n"
          ]
        }
      ],
      "source": [
        "new_converted = df[df['group'] == 'treatment']['converted'].value_counts()['yes']\n",
        "\n",
        "old_converted = df[df['group'] == 'control']['converted'].value_counts()['yes'] \n",
        "\n",
        "n_control = df.group.value_counts()['control']\n",
        "n_treatment = df.group.value_counts()['treatment'] \n",
        "\n",
        "print('The numbers of users served the new and old pages are {0} and {1} respectively'.format(n_control, n_treatment ))"
      ]
    },
    {
      "cell_type": "markdown",
      "id": "Szx7nkG-I-87",
      "metadata": {
        "id": "Szx7nkG-I-87"
      },
      "source": [
        "### P-value"
      ]
    },
    {
      "cell_type": "code",
      "execution_count": null,
      "id": "0kAItTuKI-88",
      "metadata": {
        "id": "0kAItTuKI-88",
        "colab": {
          "base_uri": "https://localhost:8080/"
        },
        "outputId": "17973800-8cfd-458b-dcdf-42b47621ced7"
      },
      "outputs": [
        {
          "output_type": "stream",
          "name": "stdout",
          "text": [
            "The p-value is 0.008026308204056278\n"
          ]
        },
        {
          "output_type": "stream",
          "name": "stderr",
          "text": [
            "/usr/local/lib/python3.7/dist-packages/statsmodels/tools/_testing.py:19: FutureWarning: pandas.util.testing is deprecated. Use the functions in the public API at pandas.testing instead.\n",
            "  import pandas.util.testing as tm\n"
          ]
        }
      ],
      "source": [
        "from statsmodels.stats.proportion import proportions_ztest\n",
        "\n",
        "test_stat, p_value = proportions_ztest([new_converted, old_converted] , [n_treatment, n_control], alternative = 'larger')   #complete the code by filling appropriate parameters in the blanks\n",
        "\n",
        "\n",
        "print('The p-value is', p_value)"
      ]
    },
    {
      "cell_type": "markdown",
      "id": "3koFwBllI-88",
      "metadata": {
        "id": "3koFwBllI-88"
      },
      "source": [
        "### Compare the p-value with $\\alpha$"
      ]
    },
    {
      "cell_type": "code",
      "execution_count": null,
      "id": "OTR1ANvmI-88",
      "metadata": {
        "id": "OTR1ANvmI-88",
        "colab": {
          "base_uri": "https://localhost:8080/"
        },
        "outputId": "3f0bca0a-ad9f-4650-ec35-7e74d0016b6b"
      },
      "outputs": [
        {
          "output_type": "stream",
          "name": "stdout",
          "text": [
            "As the p-value 0.008026308204056278 is less than the level of significance, we reject the null hypothesis.\n"
          ]
        }
      ],
      "source": [
        "if p_value < 0.05:\n",
        "    print(f'As the p-value {p_value} is less than the level of significance, we reject the null hypothesis.')\n",
        "else:\n",
        "    print(f'As the p-value {p_value} is greater than the level of significance, we fail to reject the null hypothesis.')"
      ]
    },
    {
      "cell_type": "markdown",
      "id": "LzcK3E4rI-89",
      "metadata": {
        "id": "LzcK3E4rI-89"
      },
      "source": [
        "### Inference"
      ]
    },
    {
      "cell_type": "markdown",
      "id": "u_KsjYc_I-89",
      "metadata": {
        "id": "u_KsjYc_I-89"
      },
      "source": [
        "As the P-value (~0.008) is less than the level of significance, we reject the null hypotheses. Hence, we have enough significance to conclude that the conversion rate of the new landing page is greater than the conversion rate of the old landing page.\n",
        "\n"
      ]
    },
    {
      "cell_type": "markdown",
      "id": "0Yx13sMQJUHR",
      "metadata": {
        "id": "0Yx13sMQJUHR"
      },
      "source": [
        "### Visual Analysis"
      ]
    },
    {
      "cell_type": "code",
      "execution_count": null,
      "id": "1l_ue1yEJUHf",
      "metadata": {
        "id": "1l_ue1yEJUHf",
        "colab": {
          "base_uri": "https://localhost:8080/",
          "height": 527
        },
        "outputId": "d8dba467-5b28-4d81-a49a-8e3899f763ad"
      },
      "outputs": [
        {
          "output_type": "display_data",
          "data": {
            "text/plain": [
              "<Figure size 432x576 with 1 Axes>"
            ],
            "image/png": "[encoded data removed]"
          },
          "metadata": {
            "needs_background": "light"
          }
        }
      ],
      "source": [
        "pd.crosstab(df['language_preferred'],df['converted'],normalize='index').plot(kind=\"bar\", figsize=(6,8), stacked=True)\n",
        "plt.legend()\n",
        "plt.show()\n"
      ]
    },
    {
      "cell_type": "markdown",
      "source": [
        "1. Approximately 36% of English users did not convert, while about 64% of English users converted.\n",
        "2. About 57% of French users did not convert, while about 43% converted.\n",
        "3. About 49% of Spanish users did not convert, while approximately 51% of Spanish users converted."
      ],
      "metadata": {
        "id": "j8shQRm2eZoz"
      },
      "id": "j8shQRm2eZoz"
    },
    {
      "cell_type": "markdown",
      "metadata": {
        "id": "q86NUDAZLnbR"
      },
      "source": [
        "Let μ1 and μ2 be the coversion status and preferred language of users respectively. Mathematically represented below;\n",
        "\n",
        "1. $H_0:$ : Conversion status is independent of preferred language.\n",
        "\n",
        "2. $H_a:$ : Conversion status depends on preferred language.\n",
        "\n"
      ],
      "id": "q86NUDAZLnbR"
    },
    {
      "cell_type": "markdown",
      "id": "TQTrplAaJUHg",
      "metadata": {
        "id": "TQTrplAaJUHg"
      },
      "source": [
        "### Appropriate test"
      ]
    },
    {
      "cell_type": "markdown",
      "source": [
        "The appropriate test is a Chi-square test of independence."
      ],
      "metadata": {
        "id": "KQ6lAciJgfkj"
      },
      "id": "KQ6lAciJgfkj"
    },
    {
      "cell_type": "markdown",
      "id": "hOZSCAvrJUHg",
      "metadata": {
        "id": "hOZSCAvrJUHg"
      },
      "source": [
        "### The significance level"
      ]
    },
    {
      "cell_type": "markdown",
      "id": "wDGvFYjRJUHg",
      "metadata": {
        "id": "wDGvFYjRJUHg"
      },
      "source": [
        "As given in the problem statement, we select α = 0.05."
      ]
    },
    {
      "cell_type": "markdown",
      "id": "rRZiuBfOJUHg",
      "metadata": {
        "id": "rRZiuBfOJUHg"
      },
      "source": [
        "### Data Collection and preparation"
      ]
    },
    {
      "cell_type": "code",
      "execution_count": null,
      "id": "zzvjITNZJUHh",
      "metadata": {
        "id": "zzvjITNZJUHh",
        "colab": {
          "base_uri": "https://localhost:8080/",
          "height": 143
        },
        "outputId": "9971fd4e-810e-4133-d213-d89d81e954d6"
      },
      "outputs": [
        {
          "output_type": "execute_result",
          "data": {
            "text/plain": [
              "language_preferred  English  French  Spanish\n",
              "converted                                   \n",
              "no                       11      19       16\n",
              "yes                      21      15       18"
            ],
            "text/html": [
              "\n",
              "  <div id=\"df-fbd2977d-93d2-4f63-bd51-acff534f9f9b\">\n",
              "    <div class=\"colab-df-container\">\n",
              "      <div>\n",
              "<style scoped>\n",
              "    .dataframe tbody tr th:only-of-type {\n",
              "        vertical-align: middle;\n",
              "    }\n",
              "\n",
              "    .dataframe tbody tr th {\n",
              "        vertical-align: top;\n",
              "    }\n",
              "\n",
              "    .dataframe thead th {\n",
              "        text-align: right;\n",
              "    }\n",
              "</style>\n",
              "<table border=\"1\" class=\"dataframe\">\n",
              "  <thead>\n",
              "    <tr style=\"text-align: right;\">\n",
              "      <th>language_preferred</th>\n",
              "      <th>English</th>\n",
              "      <th>French</th>\n",
              "      <th>Spanish</th>\n",
              "    </tr>\n",
              "    <tr>\n",
              "      <th>converted</th>\n",
              "      <th></th>\n",
              "      <th></th>\n",
              "      <th></th>\n",
              "    </tr>\n",
              "  </thead>\n",
              "  <tbody>\n",
              "    <tr>\n",
              "      <th>no</th>\n",
              "      <td>11</td>\n",
              "      <td>19</td>\n",
              "      <td>16</td>\n",
              "    </tr>\n",
              "    <tr>\n",
              "      <th>yes</th>\n",
              "      <td>21</td>\n",
              "      <td>15</td>\n",
              "      <td>18</td>\n",
              "    </tr>\n",
              "  </tbody>\n",
              "</table>\n",
              "</div>\n",
              "      <button class=\"colab-df-convert\" onclick=\"convertToInteractive('df-fbd2977d-93d2-4f63-bd51-acff534f9f9b')\"\n",
              "              title=\"Convert this dataframe to an interactive table.\"\n",
              "              style=\"display:none;\">\n",
              "        \n",
              "  <svg xmlns=\"http://www.w3.org/2000/svg\" height=\"24px\"viewBox=\"0 0 24 24\"\n",
              "       width=\"24px\">\n",
              "    <path d=\"M0 0h24v24H0V0z\" fill=\"none\"/>\n",
              "    <path d=\"M18.56 5.44l.94 2.06.94-2.06 2.06-.94-2.06-.94-.94-2.06-.94 2.06-2.06.94zm-11 1L8.5 8.5l.94-2.06 2.06-.94-2.06-.94L8.5 2.5l-.94 2.06-2.06.94zm10 10l.94 2.06.94-2.06 2.06-.94-2.06-.94-.94-2.06-.94 2.06-2.06.94z\"/><path d=\"M17.41 7.96l-1.37-1.37c-.4-.4-.92-.59-1.43-.59-.52 0-1.04.2-1.43.59L10.3 9.45l-7.72 7.72c-.78.78-.78 2.05 0 2.83L4 21.41c.39.39.9.59 1.41.59.51 0 1.02-.2 1.41-.59l7.78-7.78 2.81-2.81c.8-.78.8-2.07 0-2.86zM5.41 20L4 18.59l7.72-7.72 1.47 1.35L5.41 20z\"/>\n",
              "  </svg>\n",
              "      </button>\n",
              "      \n",
              "  <style>\n",
              "    .colab-df-container {\n",
              "      display:flex;\n",
              "      flex-wrap:wrap;\n",
              "      gap: 12px;\n",
              "    }\n",
              "\n",
              "    .colab-df-convert {\n",
              "      background-color: #E8F0FE;\n",
              "      border: none;\n",
              "      border-radius: 50%;\n",
              "      cursor: pointer;\n",
              "      display: none;\n",
              "      fill: #1967D2;\n",
              "      height: 32px;\n",
              "      padding: 0 0 0 0;\n",
              "      width: 32px;\n",
              "    }\n",
              "\n",
              "    .colab-df-convert:hover {\n",
              "      background-color: #E2EBFA;\n",
              "      box-shadow: 0px 1px 2px rgba(60, 64, 67, 0.3), 0px 1px 3px 1px rgba(60, 64, 67, 0.15);\n",
              "      fill: #174EA6;\n",
              "    }\n",
              "\n",
              "    [theme=dark] .colab-df-convert {\n",
              "      background-color: #3B4455;\n",
              "      fill: #D2E3FC;\n",
              "    }\n",
              "\n",
              "    [theme=dark] .colab-df-convert:hover {\n",
              "      background-color: #434B5C;\n",
              "      box-shadow: 0px 1px 3px 1px rgba(0, 0, 0, 0.15);\n",
              "      filter: drop-shadow(0px 1px 2px rgba(0, 0, 0, 0.3));\n",
              "      fill: #FFFFFF;\n",
              "    }\n",
              "  </style>\n",
              "\n",
              "      <script>\n",
              "        const buttonEl =\n",
              "          document.querySelector('#df-fbd2977d-93d2-4f63-bd51-acff534f9f9b button.colab-df-convert');\n",
              "        buttonEl.style.display =\n",
              "          google.colab.kernel.accessAllowed ? 'block' : 'none';\n",
              "\n",
              "        async function convertToInteractive(key) {\n",
              "          const element = document.querySelector('#df-fbd2977d-93d2-4f63-bd51-acff534f9f9b');\n",
              "          const dataTable =\n",
              "            await google.colab.kernel.invokeFunction('convertToInteractive',\n",
              "                                                     [key], {});\n",
              "          if (!dataTable) return;\n",
              "\n",
              "          const docLinkHtml = 'Like what you see? Visit the ' +\n",
              "            '<a target=\"_blank\" href=https://colab.research.google.com/notebooks/data_table.ipynb>data table notebook</a>'\n",
              "            + ' to learn more about interactive tables.';\n",
              "          element.innerHTML = '';\n",
              "          dataTable['output_type'] = 'display_data';\n",
              "          await google.colab.output.renderOutput(dataTable, element);\n",
              "          const docLink = document.createElement('div');\n",
              "          docLink.innerHTML = docLinkHtml;\n",
              "          element.appendChild(docLink);\n",
              "        }\n",
              "      </script>\n",
              "    </div>\n",
              "  </div>\n",
              "  "
            ]
          },
          "metadata": {},
          "execution_count": 58
        }
      ],
      "source": [
        "contingency_table = pd.crosstab(df['converted'], df['language_preferred'])  \n",
        "\n",
        "contingency_table"
      ]
    },
    {
      "cell_type": "markdown",
      "id": "WKsL1bnGJUHh",
      "metadata": {
        "id": "WKsL1bnGJUHh"
      },
      "source": [
        "### P-value"
      ]
    },
    {
      "cell_type": "code",
      "execution_count": null,
      "id": "5T87wmlEJUHh",
      "metadata": {
        "id": "5T87wmlEJUHh",
        "colab": {
          "base_uri": "https://localhost:8080/"
        },
        "outputId": "03e25432-23f5-4966-c904-78e454f5ab2d"
      },
      "outputs": [
        {
          "output_type": "stream",
          "name": "stdout",
          "text": [
            "The p-value is 0.21298887487543447\n"
          ]
        }
      ],
      "source": [
        "\n",
        "from scipy.stats import chi2_contingency\n",
        "\n",
        "chi2, p_value, dof, exp_freq = chi2_contingency(contingency_table)  \n",
        "print('The p-value is', p_value)"
      ]
    },
    {
      "cell_type": "markdown",
      "id": "O7hxW9bhJUHh",
      "metadata": {
        "id": "O7hxW9bhJUHh"
      },
      "source": [
        "### Compare the p-value with $\\alpha$"
      ]
    },
    {
      "cell_type": "code",
      "execution_count": null,
      "id": "z4i5F7TTJUHh",
      "metadata": {
        "id": "z4i5F7TTJUHh",
        "colab": {
          "base_uri": "https://localhost:8080/"
        },
        "outputId": "954de5b8-aa18-4e70-d75e-b51f5507b159"
      },
      "outputs": [
        {
          "output_type": "stream",
          "name": "stdout",
          "text": [
            "As the p-value 0.21298887487543447 is greater than the level of significance, we fail to reject the null hypothesis.\n"
          ]
        }
      ],
      "source": [
        "if p_value < 0.05:\n",
        "    print(f'As the p-value {p_value} is less than the level of significance, we reject the null hypothesis.')\n",
        "else:\n",
        "    print(f'As the p-value {p_value} is greater than the level of significance, we fail to reject the null hypothesis.')"
      ]
    },
    {
      "cell_type": "markdown",
      "id": "NpQs87d3JUHh",
      "metadata": {
        "id": "NpQs87d3JUHh"
      },
      "source": [
        "### Inference"
      ]
    },
    {
      "cell_type": "markdown",
      "id": "nWL_M80mJUHi",
      "metadata": {
        "id": "nWL_M80mJUHi"
      },
      "source": [
        "As the P-value (~0.213) is greater than the level of significance, we will fail to reject the null hypotheses. Hence, we have enough significance to conclude that the conversion status is independent of preferred language.\n",
        "\n"
      ]
    },
    {
      "cell_type": "markdown",
      "id": "Zv5zTG0_KmOM",
      "metadata": {
        "id": "Zv5zTG0_KmOM"
      },
      "source": [
        "### Visual Analysis"
      ]
    },
    {
      "cell_type": "code",
      "execution_count": null,
      "id": "c8f1e4d4",
      "metadata": {
        "id": "c8f1e4d4"
      },
      "outputs": [],
      "source": [
        "df_new = df[df['landing_page'] == 'new']"
      ]
    },
    {
      "cell_type": "code",
      "execution_count": null,
      "id": "juWwwrwzKmOa",
      "metadata": {
        "id": "juWwwrwzKmOa",
        "colab": {
          "base_uri": "https://localhost:8080/",
          "height": 498
        },
        "outputId": "014c966c-1b91-4bb6-c089-48a38296b318"
      },
      "outputs": [
        {
          "output_type": "display_data",
          "data": {
            "text/plain": [
              "<Figure size 576x576 with 1 Axes>"
            ],
            "image/png": "[encoded data removed]"
          },
          "metadata": {
            "needs_background": "light"
          }
        }
      ],
      "source": [
        "plt.figure(figsize=(8,8))\n",
        "sns.boxplot(x = 'language_preferred', y = 'time_spent_on_the_page', showmeans = True, data = df_new)\n",
        "plt.show()\n"
      ]
    },
    {
      "cell_type": "markdown",
      "source": [
        "1. The distribution contains some outliers for Spanish and French users\n",
        "2. The distribution of French preferred users is right skewed\n",
        "3. The distribution of Spanish preferred users is left skewed\n",
        "4. The distribution of English preferred users is left skewed\n",
        "5. Spanish preferred users spent the lowest time (0.19 minutes) on the page\n",
        "6. French preferred users spent the highest amount of time (10.71 minutes) on the page.\n",
        "7. The distribution of the English preferred users contains no outliers. "
      ],
      "metadata": {
        "id": "PmBd-MJTlzXE"
      },
      "id": "PmBd-MJTlzXE"
    },
    {
      "cell_type": "code",
      "execution_count": null,
      "id": "9vqA04lsK_aZ",
      "metadata": {
        "id": "9vqA04lsK_aZ",
        "colab": {
          "base_uri": "https://localhost:8080/"
        },
        "outputId": "61e93624-b364-4cba-f607-0945aebd29b4"
      },
      "outputs": [
        {
          "output_type": "execute_result",
          "data": {
            "text/plain": [
              "language_preferred\n",
              "English    6.663750\n",
              "French     6.196471\n",
              "Spanish    5.835294\n",
              "Name: time_spent_on_the_page, dtype: float64"
            ]
          },
          "metadata": {},
          "execution_count": 63
        }
      ],
      "source": [
        "df_new.groupby(['language_preferred'])['time_spent_on_the_page'].mean()\n"
      ]
    },
    {
      "cell_type": "markdown",
      "id": "BGDAeivqKmOa",
      "metadata": {
        "id": "BGDAeivqKmOa"
      },
      "source": [
        "### Null and alternate hypotheses"
      ]
    },
    {
      "cell_type": "markdown",
      "metadata": {
        "id": "gz8FnmCvMio1"
      },
      "source": [
        "1. $H_0:$ The time spent on the new page for different languages are equal\n",
        "\n",
        "2. $H_a:$  The time spent on the new page for different languages are not equal\n",
        "\n",
        "\n",
        "\n"
      ],
      "id": "gz8FnmCvMio1"
    },
    {
      "cell_type": "markdown",
      "id": "GNjvZTS2KmOb",
      "metadata": {
        "id": "GNjvZTS2KmOb"
      },
      "source": [
        "### Appropriate test"
      ]
    },
    {
      "cell_type": "markdown",
      "source": [
        "The appropriate test is a one-way ANOVA F-test"
      ],
      "metadata": {
        "id": "bs19Y-DK9QQE"
      },
      "id": "bs19Y-DK9QQE"
    },
    {
      "cell_type": "markdown",
      "id": "VTouvcdxKmOc",
      "metadata": {
        "id": "VTouvcdxKmOc"
      },
      "source": [
        "### Decide the significance level"
      ]
    },
    {
      "cell_type": "markdown",
      "id": "cNtIWQCyKmOc",
      "metadata": {
        "id": "cNtIWQCyKmOc"
      },
      "source": [
        "As given in the problem statement, we select α = 0.05."
      ]
    },
    {
      "cell_type": "markdown",
      "id": "ni6wGl2MKmOc",
      "metadata": {
        "id": "ni6wGl2MKmOc"
      },
      "source": [
        "### Collect and prepare data"
      ]
    },
    {
      "cell_type": "code",
      "execution_count": null,
      "id": "XThNwfviKmOd",
      "metadata": {
        "id": "XThNwfviKmOd"
      },
      "outputs": [],
      "source": [
        "time_spent_English = df_new[df_new['language_preferred']==\"English\"]['time_spent_on_the_page']\n",
        "\n",
        "time_spent_French = df_new[df_new['language_preferred']==\"French\"]['time_spent_on_the_page'] \n",
        "time_spent_Spanish = df_new[df_new['language_preferred']==\"Spanish\"]['time_spent_on_the_page']   "
      ]
    },
    {
      "cell_type": "markdown",
      "id": "8F-VCtK7KmOd",
      "metadata": {
        "id": "8F-VCtK7KmOd"
      },
      "source": [
        "### P-value"
      ]
    },
    {
      "cell_type": "code",
      "execution_count": null,
      "id": "D_jngM0gKmOd",
      "metadata": {
        "id": "D_jngM0gKmOd",
        "colab": {
          "base_uri": "https://localhost:8080/"
        },
        "outputId": "23a9d899-3a48-47ec-93d7-3a92a47a157e"
      },
      "outputs": [
        {
          "output_type": "stream",
          "name": "stdout",
          "text": [
            "The p-value is 0.43204138694325955\n"
          ]
        }
      ],
      "source": [
        "from scipy.stats import f_oneway\n",
        "\n",
        "test_stat, p_value = f_oneway(time_spent_English, time_spent_French, time_spent_Spanish) \n",
        "\n",
        "print('The p-value is', p_value)"
      ]
    },
    {
      "cell_type": "markdown",
      "id": "a6MvtzfvKmOe",
      "metadata": {
        "id": "a6MvtzfvKmOe"
      },
      "source": [
        "### Compare the p-value with $\\alpha$"
      ]
    },
    {
      "cell_type": "code",
      "execution_count": null,
      "id": "Ep85AInOKmOe",
      "metadata": {
        "id": "Ep85AInOKmOe",
        "colab": {
          "base_uri": "https://localhost:8080/"
        },
        "outputId": "0f9ee312-74bd-44ee-88ae-12d8d4b1de58"
      },
      "outputs": [
        {
          "output_type": "stream",
          "name": "stdout",
          "text": [
            "As the p-value 0.43204138694325955 is greater than the level of significance, we fail to reject the null hypothesis.\n"
          ]
        }
      ],
      "source": [
        "if p_value < 0.05:\n",
        "    print(f'As the p-value {p_value} is less than the level of significance, we reject the null hypothesis.')\n",
        "else:\n",
        "    print(f'As the p-value {p_value} is greater than the level of significance, we fail to reject the null hypothesis.')"
      ]
    },
    {
      "cell_type": "markdown",
      "id": "TNt8JyugKmOf",
      "metadata": {
        "id": "TNt8JyugKmOf"
      },
      "source": [
        "### Inference"
      ]
    },
    {
      "cell_type": "markdown",
      "id": "i24loRuKKmOf",
      "metadata": {
        "id": "i24loRuKKmOf"
      },
      "source": [
        "As the P-value (~0.432) is greater than the level of significance, we will fail to reject the null hypotheses. Hence, we have enough significance to conclude that the time spent on the new page is the same for different language users."
      ]
    },
    {
      "cell_type": "markdown",
      "id": "3acbc947",
      "metadata": {
        "id": "3acbc947"
      },
      "source": [
        "## Conclusion and Business Recommendations\n"
      ]
    },
    {
      "cell_type": "markdown",
      "id": "ckDGNsMNT2On",
      "metadata": {
        "id": "ckDGNsMNT2On"
      },
      "source": [
        "Conclusion\n",
        "1. Users spend more time on the new landing page than on the existing landing page.\n",
        "\n",
        "2. The conversion rate (the proportion of users who visit the landing page and get converted) for the new page is greater than the conversion rate for the old page.\n",
        "\n",
        "3. The converted status is independent on the preferred language.\n",
        "\n",
        "4. The time spent on the new page is the same for the different language users.\n"
      ]
    },
    {
      "cell_type": "markdown",
      "source": [
        "Recommendations\n",
        "1. E-News should discard the old landing page and activate the new landing page.\n"
      ],
      "metadata": {
        "id": "vlF5_yckm8S4"
      },
      "id": "vlF5_yckm8S4"
    },
    {
      "cell_type": "markdown",
      "source": [
        "___"
      ],
      "metadata": {
        "id": "LePUSkNSx8ML"
      },
      "id": "LePUSkNSx8ML"
    }
  ],
  "metadata": {
    "colab": {
      "collapsed_sections": [],
      "provenance": []
    },
    "kernelspec": {
      "display_name": "Python 3",
      "language": "python",
      "name": "python3"
    },
    "language_info": {
      "codemirror_mode": {
        "name": "ipython",
        "version": 3
      },
      "file_extension": ".py",
      "mimetype": "text/x-python",
      "name": "python",
      "nbconvert_exporter": "python",
      "pygments_lexer": "ipython3",
      "version": "3.8.8"
    }
  },
  "nbformat": 4,
  "nbformat_minor": 5
}