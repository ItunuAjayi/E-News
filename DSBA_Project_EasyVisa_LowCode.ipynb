{
  "cells": [
    {
      "cell_type": "markdown",
      "metadata": {
        "id": "view-in-github",
        "colab_type": "text"
      },
      "source": [
        "<a href=\"https://colab.research.google.com/github/ItunuAjayi/E-News/blob/main/DSBA_Project_EasyVisa_LowCode.ipynb\" target=\"_parent\"><img src=\"https://colab.research.google.com/assets/colab-badge.svg\" alt=\"Open In Colab\"/></a>"
      ]
    },
    {
      "cell_type": "markdown",
      "source": [
        "## EasyVisa Project\n",
        "***Marks: 60***"
      ],
      "metadata": {
        "id": "5i1Du122jTeM"
      },
      "id": "5i1Du122jTeM"
    },
    {
      "cell_type": "markdown",
      "source": [
        "## Problem Statement"
      ],
      "metadata": {
        "id": "2xUfZBo9JM9e"
      },
      "id": "2xUfZBo9JM9e"
    },
    {
      "cell_type": "markdown",
      "id": "empty-shanghai",
      "metadata": {
        "id": "empty-shanghai"
      },
      "source": [
        "### Context:\n",
        "\n",
        "Business communities in the United States are facing high demand for human resources, but one of the constant challenges is identifying and attracting the right talent, which is perhaps the most important element in remaining competitive. Companies in the United States look for hard-working, talented, and qualified individuals both locally as well as abroad.\n",
        "\n",
        "The Immigration and Nationality Act (INA) of the US permits foreign workers to come to the United States to work on either a temporary or permanent basis. The act also protects US workers against adverse impacts on their wages or working conditions by ensuring US employers' compliance with statutory requirements when they hire foreign workers to fill workforce shortages. The immigration programs are administered by the Office of Foreign Labor Certification (OFLC).\n",
        "\n",
        "OFLC processes job certification applications for employers seeking to bring foreign workers into the United States and grants certifications in those cases where employers can demonstrate that there are not sufficient US workers available to perform the work at wages that meet or exceed the wage paid for the occupation in the area of intended employment.\n",
        "\n",
        "### Objective:\n",
        "\n",
        "In FY 2016, the OFLC processed 775,979 employer applications for 1,699,957 positions for temporary and permanent labor certifications. This was a nine percent increase in the overall number of processed applications from the previous year. The process of reviewing every case is becoming a tedious task as the number of applicants is increasing every year.\n",
        "\n",
        "The increasing number of applicants every year calls for a Machine Learning based solution that can help in shortlisting the candidates having higher chances of VISA approval. OFLC has hired the firm EasyVisa for data-driven solutions. You as a data  scientist at EasyVisa have to analyze the data provided and, with the help of a classification model:\n",
        "\n",
        "* Facilitate the process of visa approvals.\n",
        "* Recommend a suitable profile for the applicants for whom the visa should be certified or denied based on the drivers that significantly influence the case status.\n",
        "\n",
        "### Data Description\n",
        "\n",
        "The data contains the different attributes of employee and the employer. The detailed data dictionary is given below.\n",
        "\n",
        "* case_id: ID of each visa application\n",
        "* continent: Information of continent the employee\n",
        "* education_of_employee: Information of education of the employee\n",
        "* has_job_experience: Does the employee has any job experience? Y= Yes; N = No\n",
        "* requires_job_training: Does the employee require any job training? Y = Yes; N = No\n",
        "* no_of_employees: Number of employees in the employer's company\n",
        "* yr_of_estab: Year in which the employer's company was established\n",
        "* region_of_employment: Information of foreign worker's intended region of employment in the US.\n",
        "* prevailing_wage:  Average wage paid to similarly employed workers in a specific occupation in the area of intended employment. The purpose of the prevailing wage is to ensure that the foreign worker is not underpaid compared to other workers offering the same or similar service in the same area of employment.\n",
        "* unit_of_wage: Unit of prevailing wage. Values include Hourly, Weekly, Monthly, and Yearly.\n",
        "* full_time_position: Is the position of work full-time? Y = Full Time Position; N = Part Time Position\n",
        "* case_status:  Flag indicating if the Visa was certified or denied"
      ]
    },
    {
      "cell_type": "markdown",
      "id": "0202dc63",
      "metadata": {
        "id": "0202dc63"
      },
      "source": [
        "### **Please read the instructions carefully before starting the project.**\n",
        "This is a commented Jupyter IPython Notebook file in which all the instructions and tasks to be performed are mentioned.\n",
        "* Blanks '_______' are provided in the notebook that\n",
        "needs to be filled with an appropriate code to get the correct result. With every '_______' blank, there is a comment that briefly describes what needs to be filled in the blank space.\n",
        "* Identify the task to be performed correctly, and only then proceed to write the required code.\n",
        "* Fill the code wherever asked by the commented lines like \"# write your code here\" or \"# complete the code\". Running incomplete code may throw error.\n",
        "* Please run the codes in a sequential manner from the beginning to avoid any unnecessary errors.\n",
        "* Add the results/observations (wherever mentioned) derived from the analysis in the presentation and submit the same."
      ]
    },
    {
      "cell_type": "markdown",
      "id": "c1cd4628",
      "metadata": {
        "id": "c1cd4628"
      },
      "source": [
        "## Importing necessary libraries"
      ]
    },
    {
      "cell_type": "code",
      "execution_count": null,
      "id": "canadian-maple",
      "metadata": {
        "id": "canadian-maple"
      },
      "outputs": [],
      "source": [
        "# this will help in making the Python code more structured automatically (good coding practice)\n",
        "#%load_ext nb_black\n",
        "\n",
        "import warnings\n",
        "\n",
        "warnings.filterwarnings(\"ignore\")\n",
        "\n",
        "# Libraries to help with reading and manipulating data\n",
        "import numpy as np\n",
        "import pandas as pd\n",
        "\n",
        "# Library to split data\n",
        "from sklearn.model_selection import train_test_split\n",
        "\n",
        "# libaries to help with data visualization\n",
        "import matplotlib.pyplot as plt\n",
        "import seaborn as sns\n",
        "\n",
        "# Removes the limit for the number of displayed columns\n",
        "pd.set_option(\"display.max_columns\", None)\n",
        "# Sets the limit for the number of displayed rows\n",
        "pd.set_option(\"display.max_rows\", 100)\n",
        "\n",
        "\n",
        "# Libraries different ensemble classifiers\n",
        "from sklearn.ensemble import (\n",
        "    BaggingClassifier,\n",
        "    RandomForestClassifier,\n",
        "    AdaBoostClassifier,\n",
        "    GradientBoostingClassifier,\n",
        "    StackingClassifier,\n",
        ")\n",
        "\n",
        "from xgboost import XGBClassifier\n",
        "from sklearn.tree import DecisionTreeClassifier\n",
        "\n",
        "# Libraries to get different metric scores\n",
        "from sklearn import metrics\n",
        "from sklearn.metrics import (\n",
        "    confusion_matrix,\n",
        "    accuracy_score,\n",
        "    precision_score,\n",
        "    recall_score,\n",
        "    f1_score,\n",
        ")\n",
        "\n",
        "# To tune different models\n",
        "from sklearn.model_selection import GridSearchCV"
      ]
    },
    {
      "cell_type": "markdown",
      "id": "thorough-passion",
      "metadata": {
        "id": "thorough-passion"
      },
      "source": [
        "## Importing Dataset"
      ]
    },
    {
      "cell_type": "code",
      "source": [
        "from google.colab import drive\n",
        "drive.mount('/content/drive')"
      ],
      "metadata": {
        "colab": {
          "base_uri": "https://localhost:8080/"
        },
        "id": "zREtryha8Pjv",
        "outputId": "eeda857f-cadc-450f-d141-1cfab17aa2ac"
      },
      "id": "zREtryha8Pjv",
      "execution_count": null,
      "outputs": [
        {
          "output_type": "stream",
          "name": "stdout",
          "text": [
            "Drive already mounted at /content/drive; to attempt to forcibly remount, call drive.mount(\"/content/drive\", force_remount=True).\n"
          ]
        }
      ]
    },
    {
      "cell_type": "code",
      "execution_count": null,
      "id": "alleged-teaching",
      "metadata": {
        "id": "alleged-teaching"
      },
      "outputs": [],
      "source": [
        "visa = pd.read_csv('/content/drive/MyDrive/Colab Notebooks/EasyVisa.csv') ##  Fill the blank to read the data"
      ]
    },
    {
      "cell_type": "code",
      "execution_count": null,
      "id": "falling-annual",
      "metadata": {
        "id": "falling-annual"
      },
      "outputs": [],
      "source": [
        "# copying data to another variable to avoid any changes to original data\n",
        "data = visa.copy()"
      ]
    },
    {
      "cell_type": "markdown",
      "source": [
        "## Overview of the Dataset"
      ],
      "metadata": {
        "id": "6vlJXoQkgcGI"
      },
      "id": "6vlJXoQkgcGI"
    },
    {
      "cell_type": "markdown",
      "id": "aboriginal-wrist",
      "metadata": {
        "id": "aboriginal-wrist"
      },
      "source": [
        "### View the first and last 5 rows of the dataset"
      ]
    },
    {
      "cell_type": "code",
      "execution_count": null,
      "id": "judicial-lease",
      "metadata": {
        "id": "judicial-lease",
        "colab": {
          "base_uri": "https://localhost:8080/",
          "height": 270
        },
        "outputId": "f672aac8-b6a3-4039-8796-023e508e3ca2"
      },
      "outputs": [
        {
          "output_type": "execute_result",
          "data": {
            "text/plain": [
              "  case_id continent education_of_employee has_job_experience  \\\n",
              "0  EZYV01      Asia           High School                  N   \n",
              "1  EZYV02      Asia              Master's                  Y   \n",
              "2  EZYV03      Asia            Bachelor's                  N   \n",
              "3  EZYV04      Asia            Bachelor's                  N   \n",
              "4  EZYV05    Africa              Master's                  Y   \n",
              "\n",
              "  requires_job_training  no_of_employees  yr_of_estab region_of_employment  \\\n",
              "0                     N            14513         2007                 West   \n",
              "1                     N             2412         2002            Northeast   \n",
              "2                     Y            44444         2008                 West   \n",
              "3                     N               98         1897                 West   \n",
              "4                     N             1082         2005                South   \n",
              "\n",
              "   prevailing_wage unit_of_wage full_time_position case_status  \n",
              "0         592.2029         Hour                  Y      Denied  \n",
              "1       83425.6500         Year                  Y   Certified  \n",
              "2      122996.8600         Year                  Y      Denied  \n",
              "3       83434.0300         Year                  Y      Denied  \n",
              "4      149907.3900         Year                  Y   Certified  "
            ],
            "text/html": [
              "\n",
              "  <div id=\"df-b01df0d5-e09c-4b9c-ad33-060c4adad45f\">\n",
              "    <div class=\"colab-df-container\">\n",
              "      <div>\n",
              "<style scoped>\n",
              "    .dataframe tbody tr th:only-of-type {\n",
              "        vertical-align: middle;\n",
              "    }\n",
              "\n",
              "    .dataframe tbody tr th {\n",
              "        vertical-align: top;\n",
              "    }\n",
              "\n",
              "    .dataframe thead th {\n",
              "        text-align: right;\n",
              "    }\n",
              "</style>\n",
              "<table border=\"1\" class=\"dataframe\">\n",
              "  <thead>\n",
              "    <tr style=\"text-align: right;\">\n",
              "      <th></th>\n",
              "      <th>case_id</th>\n",
              "      <th>continent</th>\n",
              "      <th>education_of_employee</th>\n",
              "      <th>has_job_experience</th>\n",
              "      <th>requires_job_training</th>\n",
              "      <th>no_of_employees</th>\n",
              "      <th>yr_of_estab</th>\n",
              "      <th>region_of_employment</th>\n",
              "      <th>prevailing_wage</th>\n",
              "      <th>unit_of_wage</th>\n",
              "      <th>full_time_position</th>\n",
              "      <th>case_status</th>\n",
              "    </tr>\n",
              "  </thead>\n",
              "  <tbody>\n",
              "    <tr>\n",
              "      <th>0</th>\n",
              "      <td>EZYV01</td>\n",
              "      <td>Asia</td>\n",
              "      <td>High School</td>\n",
              "      <td>N</td>\n",
              "      <td>N</td>\n",
              "      <td>14513</td>\n",
              "      <td>2007</td>\n",
              "      <td>West</td>\n",
              "      <td>592.2029</td>\n",
              "      <td>Hour</td>\n",
              "      <td>Y</td>\n",
              "      <td>Denied</td>\n",
              "    </tr>\n",
              "    <tr>\n",
              "      <th>1</th>\n",
              "      <td>EZYV02</td>\n",
              "      <td>Asia</td>\n",
              "      <td>Master's</td>\n",
              "      <td>Y</td>\n",
              "      <td>N</td>\n",
              "      <td>2412</td>\n",
              "      <td>2002</td>\n",
              "      <td>Northeast</td>\n",
              "      <td>83425.6500</td>\n",
              "      <td>Year</td>\n",
              "      <td>Y</td>\n",
              "      <td>Certified</td>\n",
              "    </tr>\n",
              "    <tr>\n",
              "      <th>2</th>\n",
              "      <td>EZYV03</td>\n",
              "      <td>Asia</td>\n",
              "      <td>Bachelor's</td>\n",
              "      <td>N</td>\n",
              "      <td>Y</td>\n",
              "      <td>44444</td>\n",
              "      <td>2008</td>\n",
              "      <td>West</td>\n",
              "      <td>122996.8600</td>\n",
              "      <td>Year</td>\n",
              "      <td>Y</td>\n",
              "      <td>Denied</td>\n",
              "    </tr>\n",
              "    <tr>\n",
              "      <th>3</th>\n",
              "      <td>EZYV04</td>\n",
              "      <td>Asia</td>\n",
              "      <td>Bachelor's</td>\n",
              "      <td>N</td>\n",
              "      <td>N</td>\n",
              "      <td>98</td>\n",
              "      <td>1897</td>\n",
              "      <td>West</td>\n",
              "      <td>83434.0300</td>\n",
              "      <td>Year</td>\n",
              "      <td>Y</td>\n",
              "      <td>Denied</td>\n",
              "    </tr>\n",
              "    <tr>\n",
              "      <th>4</th>\n",
              "      <td>EZYV05</td>\n",
              "      <td>Africa</td>\n",
              "      <td>Master's</td>\n",
              "      <td>Y</td>\n",
              "      <td>N</td>\n",
              "      <td>1082</td>\n",
              "      <td>2005</td>\n",
              "      <td>South</td>\n",
              "      <td>149907.3900</td>\n",
              "      <td>Year</td>\n",
              "      <td>Y</td>\n",
              "      <td>Certified</td>\n",
              "    </tr>\n",
              "  </tbody>\n",
              "</table>\n",
              "</div>\n",
              "      <button class=\"colab-df-convert\" onclick=\"convertToInteractive('df-b01df0d5-e09c-4b9c-ad33-060c4adad45f')\"\n",
              "              title=\"Convert this dataframe to an interactive table.\"\n",
              "              style=\"display:none;\">\n",
              "        \n",
              "  <svg xmlns=\"http://www.w3.org/2000/svg\" height=\"24px\"viewBox=\"0 0 24 24\"\n",
              "       width=\"24px\">\n",
              "    <path d=\"M0 0h24v24H0V0z\" fill=\"none\"/>\n",
              "    <path d=\"M18.56 5.44l.94 2.06.94-2.06 2.06-.94-2.06-.94-.94-2.06-.94 2.06-2.06.94zm-11 1L8.5 8.5l.94-2.06 2.06-.94-2.06-.94L8.5 2.5l-.94 2.06-2.06.94zm10 10l.94 2.06.94-2.06 2.06-.94-2.06-.94-.94-2.06-.94 2.06-2.06.94z\"/><path d=\"M17.41 7.96l-1.37-1.37c-.4-.4-.92-.59-1.43-.59-.52 0-1.04.2-1.43.59L10.3 9.45l-7.72 7.72c-.78.78-.78 2.05 0 2.83L4 21.41c.39.39.9.59 1.41.59.51 0 1.02-.2 1.41-.59l7.78-7.78 2.81-2.81c.8-.78.8-2.07 0-2.86zM5.41 20L4 18.59l7.72-7.72 1.47 1.35L5.41 20z\"/>\n",
              "  </svg>\n",
              "      </button>\n",
              "      \n",
              "  <style>\n",
              "    .colab-df-container {\n",
              "      display:flex;\n",
              "      flex-wrap:wrap;\n",
              "      gap: 12px;\n",
              "    }\n",
              "\n",
              "    .colab-df-convert {\n",
              "      background-color: #E8F0FE;\n",
              "      border: none;\n",
              "      border-radius: 50%;\n",
              "      cursor: pointer;\n",
              "      display: none;\n",
              "      fill: #1967D2;\n",
              "      height: 32px;\n",
              "      padding: 0 0 0 0;\n",
              "      width: 32px;\n",
              "    }\n",
              "\n",
              "    .colab-df-convert:hover {\n",
              "      background-color: #E2EBFA;\n",
              "      box-shadow: 0px 1px 2px rgba(60, 64, 67, 0.3), 0px 1px 3px 1px rgba(60, 64, 67, 0.15);\n",
              "      fill: #174EA6;\n",
              "    }\n",
              "\n",
              "    [theme=dark] .colab-df-convert {\n",
              "      background-color: #3B4455;\n",
              "      fill: #D2E3FC;\n",
              "    }\n",
              "\n",
              "    [theme=dark] .colab-df-convert:hover {\n",
              "      background-color: #434B5C;\n",
              "      box-shadow: 0px 1px 3px 1px rgba(0, 0, 0, 0.15);\n",
              "      filter: drop-shadow(0px 1px 2px rgba(0, 0, 0, 0.3));\n",
              "      fill: #FFFFFF;\n",
              "    }\n",
              "  </style>\n",
              "\n",
              "      <script>\n",
              "        const buttonEl =\n",
              "          document.querySelector('#df-b01df0d5-e09c-4b9c-ad33-060c4adad45f button.colab-df-convert');\n",
              "        buttonEl.style.display =\n",
              "          google.colab.kernel.accessAllowed ? 'block' : 'none';\n",
              "\n",
              "        async function convertToInteractive(key) {\n",
              "          const element = document.querySelector('#df-b01df0d5-e09c-4b9c-ad33-060c4adad45f');\n",
              "          const dataTable =\n",
              "            await google.colab.kernel.invokeFunction('convertToInteractive',\n",
              "                                                     [key], {});\n",
              "          if (!dataTable) return;\n",
              "\n",
              "          const docLinkHtml = 'Like what you see? Visit the ' +\n",
              "            '<a target=\"_blank\" href=https://colab.research.google.com/notebooks/data_table.ipynb>data table notebook</a>'\n",
              "            + ' to learn more about interactive tables.';\n",
              "          element.innerHTML = '';\n",
              "          dataTable['output_type'] = 'display_data';\n",
              "          await google.colab.output.renderOutput(dataTable, element);\n",
              "          const docLink = document.createElement('div');\n",
              "          docLink.innerHTML = docLinkHtml;\n",
              "          element.appendChild(docLink);\n",
              "        }\n",
              "      </script>\n",
              "    </div>\n",
              "  </div>\n",
              "  "
            ]
          },
          "metadata": {},
          "execution_count": 5
        }
      ],
      "source": [
        "data.head() ##  Complete the code to view top 5 rows of the data"
      ]
    },
    {
      "cell_type": "markdown",
      "source": [
        "There are 12 variables (columns) in the data set."
      ],
      "metadata": {
        "id": "Nxgu1GSp-Jks"
      },
      "id": "Nxgu1GSp-Jks"
    },
    {
      "cell_type": "code",
      "execution_count": null,
      "id": "descending-david",
      "metadata": {
        "id": "descending-david",
        "colab": {
          "base_uri": "https://localhost:8080/",
          "height": 270
        },
        "outputId": "c4d7363a-9696-4daa-c490-178963352dc4"
      },
      "outputs": [
        {
          "output_type": "execute_result",
          "data": {
            "text/plain": [
              "         case_id continent education_of_employee has_job_experience  \\\n",
              "25475  EZYV25476      Asia            Bachelor's                  Y   \n",
              "25476  EZYV25477      Asia           High School                  Y   \n",
              "25477  EZYV25478      Asia              Master's                  Y   \n",
              "25478  EZYV25479      Asia              Master's                  Y   \n",
              "25479  EZYV25480      Asia            Bachelor's                  Y   \n",
              "\n",
              "      requires_job_training  no_of_employees  yr_of_estab  \\\n",
              "25475                     Y             2601         2008   \n",
              "25476                     N             3274         2006   \n",
              "25477                     N             1121         1910   \n",
              "25478                     Y             1918         1887   \n",
              "25479                     N             3195         1960   \n",
              "\n",
              "      region_of_employment  prevailing_wage unit_of_wage full_time_position  \\\n",
              "25475                South         77092.57         Year                  Y   \n",
              "25476            Northeast        279174.79         Year                  Y   \n",
              "25477                South        146298.85         Year                  N   \n",
              "25478                 West         86154.77         Year                  Y   \n",
              "25479              Midwest         70876.91         Year                  Y   \n",
              "\n",
              "      case_status  \n",
              "25475   Certified  \n",
              "25476   Certified  \n",
              "25477   Certified  \n",
              "25478   Certified  \n",
              "25479   Certified  "
            ],
            "text/html": [
              "\n",
              "  <div id=\"df-2d67fcfe-d102-401b-bc11-ea3e794897d8\">\n",
              "    <div class=\"colab-df-container\">\n",
              "      <div>\n",
              "<style scoped>\n",
              "    .dataframe tbody tr th:only-of-type {\n",
              "        vertical-align: middle;\n",
              "    }\n",
              "\n",
              "    .dataframe tbody tr th {\n",
              "        vertical-align: top;\n",
              "    }\n",
              "\n",
              "    .dataframe thead th {\n",
              "        text-align: right;\n",
              "    }\n",
              "</style>\n",
              "<table border=\"1\" class=\"dataframe\">\n",
              "  <thead>\n",
              "    <tr style=\"text-align: right;\">\n",
              "      <th></th>\n",
              "      <th>case_id</th>\n",
              "      <th>continent</th>\n",
              "      <th>education_of_employee</th>\n",
              "      <th>has_job_experience</th>\n",
              "      <th>requires_job_training</th>\n",
              "      <th>no_of_employees</th>\n",
              "      <th>yr_of_estab</th>\n",
              "      <th>region_of_employment</th>\n",
              "      <th>prevailing_wage</th>\n",
              "      <th>unit_of_wage</th>\n",
              "      <th>full_time_position</th>\n",
              "      <th>case_status</th>\n",
              "    </tr>\n",
              "  </thead>\n",
              "  <tbody>\n",
              "    <tr>\n",
              "      <th>25475</th>\n",
              "      <td>EZYV25476</td>\n",
              "      <td>Asia</td>\n",
              "      <td>Bachelor's</td>\n",
              "      <td>Y</td>\n",
              "      <td>Y</td>\n",
              "      <td>2601</td>\n",
              "      <td>2008</td>\n",
              "      <td>South</td>\n",
              "      <td>77092.57</td>\n",
              "      <td>Year</td>\n",
              "      <td>Y</td>\n",
              "      <td>Certified</td>\n",
              "    </tr>\n",
              "    <tr>\n",
              "      <th>25476</th>\n",
              "      <td>EZYV25477</td>\n",
              "      <td>Asia</td>\n",
              "      <td>High School</td>\n",
              "      <td>Y</td>\n",
              "      <td>N</td>\n",
              "      <td>3274</td>\n",
              "      <td>2006</td>\n",
              "      <td>Northeast</td>\n",
              "      <td>279174.79</td>\n",
              "      <td>Year</td>\n",
              "      <td>Y</td>\n",
              "      <td>Certified</td>\n",
              "    </tr>\n",
              "    <tr>\n",
              "      <th>25477</th>\n",
              "      <td>EZYV25478</td>\n",
              "      <td>Asia</td>\n",
              "      <td>Master's</td>\n",
              "      <td>Y</td>\n",
              "      <td>N</td>\n",
              "      <td>1121</td>\n",
              "      <td>1910</td>\n",
              "      <td>South</td>\n",
              "      <td>146298.85</td>\n",
              "      <td>Year</td>\n",
              "      <td>N</td>\n",
              "      <td>Certified</td>\n",
              "    </tr>\n",
              "    <tr>\n",
              "      <th>25478</th>\n",
              "      <td>EZYV25479</td>\n",
              "      <td>Asia</td>\n",
              "      <td>Master's</td>\n",
              "      <td>Y</td>\n",
              "      <td>Y</td>\n",
              "      <td>1918</td>\n",
              "      <td>1887</td>\n",
              "      <td>West</td>\n",
              "      <td>86154.77</td>\n",
              "      <td>Year</td>\n",
              "      <td>Y</td>\n",
              "      <td>Certified</td>\n",
              "    </tr>\n",
              "    <tr>\n",
              "      <th>25479</th>\n",
              "      <td>EZYV25480</td>\n",
              "      <td>Asia</td>\n",
              "      <td>Bachelor's</td>\n",
              "      <td>Y</td>\n",
              "      <td>N</td>\n",
              "      <td>3195</td>\n",
              "      <td>1960</td>\n",
              "      <td>Midwest</td>\n",
              "      <td>70876.91</td>\n",
              "      <td>Year</td>\n",
              "      <td>Y</td>\n",
              "      <td>Certified</td>\n",
              "    </tr>\n",
              "  </tbody>\n",
              "</table>\n",
              "</div>\n",
              "      <button class=\"colab-df-convert\" onclick=\"convertToInteractive('df-2d67fcfe-d102-401b-bc11-ea3e794897d8')\"\n",
              "              title=\"Convert this dataframe to an interactive table.\"\n",
              "              style=\"display:none;\">\n",
              "        \n",
              "  <svg xmlns=\"http://www.w3.org/2000/svg\" height=\"24px\"viewBox=\"0 0 24 24\"\n",
              "       width=\"24px\">\n",
              "    <path d=\"M0 0h24v24H0V0z\" fill=\"none\"/>\n",
              "    <path d=\"M18.56 5.44l.94 2.06.94-2.06 2.06-.94-2.06-.94-.94-2.06-.94 2.06-2.06.94zm-11 1L8.5 8.5l.94-2.06 2.06-.94-2.06-.94L8.5 2.5l-.94 2.06-2.06.94zm10 10l.94 2.06.94-2.06 2.06-.94-2.06-.94-.94-2.06-.94 2.06-2.06.94z\"/><path d=\"M17.41 7.96l-1.37-1.37c-.4-.4-.92-.59-1.43-.59-.52 0-1.04.2-1.43.59L10.3 9.45l-7.72 7.72c-.78.78-.78 2.05 0 2.83L4 21.41c.39.39.9.59 1.41.59.51 0 1.02-.2 1.41-.59l7.78-7.78 2.81-2.81c.8-.78.8-2.07 0-2.86zM5.41 20L4 18.59l7.72-7.72 1.47 1.35L5.41 20z\"/>\n",
              "  </svg>\n",
              "      </button>\n",
              "      \n",
              "  <style>\n",
              "    .colab-df-container {\n",
              "      display:flex;\n",
              "      flex-wrap:wrap;\n",
              "      gap: 12px;\n",
              "    }\n",
              "\n",
              "    .colab-df-convert {\n",
              "      background-color: #E8F0FE;\n",
              "      border: none;\n",
              "      border-radius: 50%;\n",
              "      cursor: pointer;\n",
              "      display: none;\n",
              "      fill: #1967D2;\n",
              "      height: 32px;\n",
              "      padding: 0 0 0 0;\n",
              "      width: 32px;\n",
              "    }\n",
              "\n",
              "    .colab-df-convert:hover {\n",
              "      background-color: #E2EBFA;\n",
              "      box-shadow: 0px 1px 2px rgba(60, 64, 67, 0.3), 0px 1px 3px 1px rgba(60, 64, 67, 0.15);\n",
              "      fill: #174EA6;\n",
              "    }\n",
              "\n",
              "    [theme=dark] .colab-df-convert {\n",
              "      background-color: #3B4455;\n",
              "      fill: #D2E3FC;\n",
              "    }\n",
              "\n",
              "    [theme=dark] .colab-df-convert:hover {\n",
              "      background-color: #434B5C;\n",
              "      box-shadow: 0px 1px 3px 1px rgba(0, 0, 0, 0.15);\n",
              "      filter: drop-shadow(0px 1px 2px rgba(0, 0, 0, 0.3));\n",
              "      fill: #FFFFFF;\n",
              "    }\n",
              "  </style>\n",
              "\n",
              "      <script>\n",
              "        const buttonEl =\n",
              "          document.querySelector('#df-2d67fcfe-d102-401b-bc11-ea3e794897d8 button.colab-df-convert');\n",
              "        buttonEl.style.display =\n",
              "          google.colab.kernel.accessAllowed ? 'block' : 'none';\n",
              "\n",
              "        async function convertToInteractive(key) {\n",
              "          const element = document.querySelector('#df-2d67fcfe-d102-401b-bc11-ea3e794897d8');\n",
              "          const dataTable =\n",
              "            await google.colab.kernel.invokeFunction('convertToInteractive',\n",
              "                                                     [key], {});\n",
              "          if (!dataTable) return;\n",
              "\n",
              "          const docLinkHtml = 'Like what you see? Visit the ' +\n",
              "            '<a target=\"_blank\" href=https://colab.research.google.com/notebooks/data_table.ipynb>data table notebook</a>'\n",
              "            + ' to learn more about interactive tables.';\n",
              "          element.innerHTML = '';\n",
              "          dataTable['output_type'] = 'display_data';\n",
              "          await google.colab.output.renderOutput(dataTable, element);\n",
              "          const docLink = document.createElement('div');\n",
              "          docLink.innerHTML = docLinkHtml;\n",
              "          element.appendChild(docLink);\n",
              "        }\n",
              "      </script>\n",
              "    </div>\n",
              "  </div>\n",
              "  "
            ]
          },
          "metadata": {},
          "execution_count": 6
        }
      ],
      "source": [
        "data.tail() ##  Complete the code to view last 5 rows of the data"
      ]
    },
    {
      "cell_type": "markdown",
      "id": "accessory-camel",
      "metadata": {
        "id": "accessory-camel"
      },
      "source": [
        "### Understand the shape of the dataset"
      ]
    },
    {
      "cell_type": "code",
      "execution_count": null,
      "id": "regulation-elder",
      "metadata": {
        "id": "regulation-elder",
        "colab": {
          "base_uri": "https://localhost:8080/"
        },
        "outputId": "b509c120-eba2-4e50-f897-c51ff2f841d7"
      },
      "outputs": [
        {
          "output_type": "execute_result",
          "data": {
            "text/plain": [
              "(25480, 12)"
            ]
          },
          "metadata": {},
          "execution_count": 7
        }
      ],
      "source": [
        "data.shape ##  Complete the code to view dimensions of the data"
      ]
    },
    {
      "cell_type": "markdown",
      "source": [
        "The dataset contains 12 variables from 25,480 data points from 25,480 users (12 rows, 25,480 columns)"
      ],
      "metadata": {
        "id": "2NnjZ3F--cKu"
      },
      "id": "2NnjZ3F--cKu"
    },
    {
      "cell_type": "markdown",
      "id": "assigned-berkeley",
      "metadata": {
        "id": "assigned-berkeley"
      },
      "source": [
        "### Check the data types of the columns for the dataset"
      ]
    },
    {
      "cell_type": "code",
      "execution_count": null,
      "id": "judicial-institute",
      "metadata": {
        "id": "judicial-institute",
        "colab": {
          "base_uri": "https://localhost:8080/"
        },
        "outputId": "34383105-3e5b-49bc-9d4d-91c32cf3333b"
      },
      "outputs": [
        {
          "output_type": "stream",
          "name": "stdout",
          "text": [
            "<class 'pandas.core.frame.DataFrame'>\n",
            "RangeIndex: 25480 entries, 0 to 25479\n",
            "Data columns (total 12 columns):\n",
            " #   Column                 Non-Null Count  Dtype  \n",
            "---  ------                 --------------  -----  \n",
            " 0   case_id                25480 non-null  object \n",
            " 1   continent              25480 non-null  object \n",
            " 2   education_of_employee  25480 non-null  object \n",
            " 3   has_job_experience     25480 non-null  object \n",
            " 4   requires_job_training  25480 non-null  object \n",
            " 5   no_of_employees        25480 non-null  int64  \n",
            " 6   yr_of_estab            25480 non-null  int64  \n",
            " 7   region_of_employment   25480 non-null  object \n",
            " 8   prevailing_wage        25480 non-null  float64\n",
            " 9   unit_of_wage           25480 non-null  object \n",
            " 10  full_time_position     25480 non-null  object \n",
            " 11  case_status            25480 non-null  object \n",
            "dtypes: float64(1), int64(2), object(9)\n",
            "memory usage: 2.3+ MB\n"
          ]
        }
      ],
      "source": [
        "data.info()"
      ]
    },
    {
      "cell_type": "markdown",
      "source": [
        "The data set contains data types, objects, integers and float."
      ],
      "metadata": {
        "id": "8vijBNLN-vYD"
      },
      "id": "8vijBNLN-vYD"
    },
    {
      "cell_type": "code",
      "execution_count": null,
      "id": "going-validation",
      "metadata": {
        "id": "going-validation",
        "colab": {
          "base_uri": "https://localhost:8080/"
        },
        "outputId": "03910cd3-4574-48a9-f6c2-b3c91913bacd"
      },
      "outputs": [
        {
          "output_type": "execute_result",
          "data": {
            "text/plain": [
              "0        False\n",
              "1        False\n",
              "2        False\n",
              "3        False\n",
              "4        False\n",
              "         ...  \n",
              "25475    False\n",
              "25476    False\n",
              "25477    False\n",
              "25478    False\n",
              "25479    False\n",
              "Length: 25480, dtype: bool"
            ]
          },
          "metadata": {},
          "execution_count": 9
        }
      ],
      "source": [
        "# checking for duplicate values\n",
        "data.duplicated() ##  Complete the code to check duplicate entries in the data"
      ]
    },
    {
      "cell_type": "markdown",
      "source": [
        "There are no duplicate values in the dataset"
      ],
      "metadata": {
        "id": "DtWrpaJ_--1F"
      },
      "id": "DtWrpaJ_--1F"
    },
    {
      "cell_type": "markdown",
      "id": "standing-horizontal",
      "metadata": {
        "id": "standing-horizontal"
      },
      "source": [
        "## Exploratory Data Analysis"
      ]
    },
    {
      "cell_type": "markdown",
      "id": "american-venue",
      "metadata": {
        "id": "american-venue"
      },
      "source": [
        "#### Let's check the statistical summary of the data"
      ]
    },
    {
      "cell_type": "code",
      "execution_count": null,
      "id": "premium-wagner",
      "metadata": {
        "id": "premium-wagner",
        "colab": {
          "base_uri": "https://localhost:8080/",
          "height": 143
        },
        "outputId": "cc02fcf1-e16d-4a7c-b04f-d1a86b26159a"
      },
      "outputs": [
        {
          "output_type": "execute_result",
          "data": {
            "text/plain": [
              "                   count          mean           std        min       25%  \\\n",
              "no_of_employees  25480.0   5667.043210  22877.928848   -26.0000   1022.00   \n",
              "yr_of_estab      25480.0   1979.409929     42.366929  1800.0000   1976.00   \n",
              "prevailing_wage  25480.0  74455.814592  52815.942327     2.1367  34015.48   \n",
              "\n",
              "                      50%          75%        max  \n",
              "no_of_employees   2109.00    3504.0000  602069.00  \n",
              "yr_of_estab       1997.00    2005.0000    2016.00  \n",
              "prevailing_wage  70308.21  107735.5125  319210.27  "
            ],
            "text/html": [
              "\n",
              "  <div id=\"df-6cf7cb52-eff7-4be1-aff9-2c8b05e6e08c\">\n",
              "    <div class=\"colab-df-container\">\n",
              "      <div>\n",
              "<style scoped>\n",
              "    .dataframe tbody tr th:only-of-type {\n",
              "        vertical-align: middle;\n",
              "    }\n",
              "\n",
              "    .dataframe tbody tr th {\n",
              "        vertical-align: top;\n",
              "    }\n",
              "\n",
              "    .dataframe thead th {\n",
              "        text-align: right;\n",
              "    }\n",
              "</style>\n",
              "<table border=\"1\" class=\"dataframe\">\n",
              "  <thead>\n",
              "    <tr style=\"text-align: right;\">\n",
              "      <th></th>\n",
              "      <th>count</th>\n",
              "      <th>mean</th>\n",
              "      <th>std</th>\n",
              "      <th>min</th>\n",
              "      <th>25%</th>\n",
              "      <th>50%</th>\n",
              "      <th>75%</th>\n",
              "      <th>max</th>\n",
              "    </tr>\n",
              "  </thead>\n",
              "  <tbody>\n",
              "    <tr>\n",
              "      <th>no_of_employees</th>\n",
              "      <td>25480.0</td>\n",
              "      <td>5667.043210</td>\n",
              "      <td>22877.928848</td>\n",
              "      <td>-26.0000</td>\n",
              "      <td>1022.00</td>\n",
              "      <td>2109.00</td>\n",
              "      <td>3504.0000</td>\n",
              "      <td>602069.00</td>\n",
              "    </tr>\n",
              "    <tr>\n",
              "      <th>yr_of_estab</th>\n",
              "      <td>25480.0</td>\n",
              "      <td>1979.409929</td>\n",
              "      <td>42.366929</td>\n",
              "      <td>1800.0000</td>\n",
              "      <td>1976.00</td>\n",
              "      <td>1997.00</td>\n",
              "      <td>2005.0000</td>\n",
              "      <td>2016.00</td>\n",
              "    </tr>\n",
              "    <tr>\n",
              "      <th>prevailing_wage</th>\n",
              "      <td>25480.0</td>\n",
              "      <td>74455.814592</td>\n",
              "      <td>52815.942327</td>\n",
              "      <td>2.1367</td>\n",
              "      <td>34015.48</td>\n",
              "      <td>70308.21</td>\n",
              "      <td>107735.5125</td>\n",
              "      <td>319210.27</td>\n",
              "    </tr>\n",
              "  </tbody>\n",
              "</table>\n",
              "</div>\n",
              "      <button class=\"colab-df-convert\" onclick=\"convertToInteractive('df-6cf7cb52-eff7-4be1-aff9-2c8b05e6e08c')\"\n",
              "              title=\"Convert this dataframe to an interactive table.\"\n",
              "              style=\"display:none;\">\n",
              "        \n",
              "  <svg xmlns=\"http://www.w3.org/2000/svg\" height=\"24px\"viewBox=\"0 0 24 24\"\n",
              "       width=\"24px\">\n",
              "    <path d=\"M0 0h24v24H0V0z\" fill=\"none\"/>\n",
              "    <path d=\"M18.56 5.44l.94 2.06.94-2.06 2.06-.94-2.06-.94-.94-2.06-.94 2.06-2.06.94zm-11 1L8.5 8.5l.94-2.06 2.06-.94-2.06-.94L8.5 2.5l-.94 2.06-2.06.94zm10 10l.94 2.06.94-2.06 2.06-.94-2.06-.94-.94-2.06-.94 2.06-2.06.94z\"/><path d=\"M17.41 7.96l-1.37-1.37c-.4-.4-.92-.59-1.43-.59-.52 0-1.04.2-1.43.59L10.3 9.45l-7.72 7.72c-.78.78-.78 2.05 0 2.83L4 21.41c.39.39.9.59 1.41.59.51 0 1.02-.2 1.41-.59l7.78-7.78 2.81-2.81c.8-.78.8-2.07 0-2.86zM5.41 20L4 18.59l7.72-7.72 1.47 1.35L5.41 20z\"/>\n",
              "  </svg>\n",
              "      </button>\n",
              "      \n",
              "  <style>\n",
              "    .colab-df-container {\n",
              "      display:flex;\n",
              "      flex-wrap:wrap;\n",
              "      gap: 12px;\n",
              "    }\n",
              "\n",
              "    .colab-df-convert {\n",
              "      background-color: #E8F0FE;\n",
              "      border: none;\n",
              "      border-radius: 50%;\n",
              "      cursor: pointer;\n",
              "      display: none;\n",
              "      fill: #1967D2;\n",
              "      height: 32px;\n",
              "      padding: 0 0 0 0;\n",
              "      width: 32px;\n",
              "    }\n",
              "\n",
              "    .colab-df-convert:hover {\n",
              "      background-color: #E2EBFA;\n",
              "      box-shadow: 0px 1px 2px rgba(60, 64, 67, 0.3), 0px 1px 3px 1px rgba(60, 64, 67, 0.15);\n",
              "      fill: #174EA6;\n",
              "    }\n",
              "\n",
              "    [theme=dark] .colab-df-convert {\n",
              "      background-color: #3B4455;\n",
              "      fill: #D2E3FC;\n",
              "    }\n",
              "\n",
              "    [theme=dark] .colab-df-convert:hover {\n",
              "      background-color: #434B5C;\n",
              "      box-shadow: 0px 1px 3px 1px rgba(0, 0, 0, 0.15);\n",
              "      filter: drop-shadow(0px 1px 2px rgba(0, 0, 0, 0.3));\n",
              "      fill: #FFFFFF;\n",
              "    }\n",
              "  </style>\n",
              "\n",
              "      <script>\n",
              "        const buttonEl =\n",
              "          document.querySelector('#df-6cf7cb52-eff7-4be1-aff9-2c8b05e6e08c button.colab-df-convert');\n",
              "        buttonEl.style.display =\n",
              "          google.colab.kernel.accessAllowed ? 'block' : 'none';\n",
              "\n",
              "        async function convertToInteractive(key) {\n",
              "          const element = document.querySelector('#df-6cf7cb52-eff7-4be1-aff9-2c8b05e6e08c');\n",
              "          const dataTable =\n",
              "            await google.colab.kernel.invokeFunction('convertToInteractive',\n",
              "                                                     [key], {});\n",
              "          if (!dataTable) return;\n",
              "\n",
              "          const docLinkHtml = 'Like what you see? Visit the ' +\n",
              "            '<a target=\"_blank\" href=https://colab.research.google.com/notebooks/data_table.ipynb>data table notebook</a>'\n",
              "            + ' to learn more about interactive tables.';\n",
              "          element.innerHTML = '';\n",
              "          dataTable['output_type'] = 'display_data';\n",
              "          await google.colab.output.renderOutput(dataTable, element);\n",
              "          const docLink = document.createElement('div');\n",
              "          docLink.innerHTML = docLinkHtml;\n",
              "          element.appendChild(docLink);\n",
              "        }\n",
              "      </script>\n",
              "    </div>\n",
              "  </div>\n",
              "  "
            ]
          },
          "metadata": {},
          "execution_count": 10
        }
      ],
      "source": [
        "data.describe().T ##  Complete the code to print the statistical summary of the data"
      ]
    },
    {
      "cell_type": "markdown",
      "source": [
        "1. The average number of employees in the employer's company is 5667 and the median is 2109\n",
        "2. The mean and the median for year of establishment is 1979 and 1997 respectively.\n",
        "3. The minimum number of prevailing wage is 2 and the maximum is 319,210.\n",
        "2. The average prevailing wage paid to workers is 74,455.81 USD\n",
        "3. 25% of employees get a prevailing wage of 34,015.48 while 75% get 107,735.51"
      ],
      "metadata": {
        "id": "WGJU1SkjEWJV"
      },
      "id": "WGJU1SkjEWJV"
    },
    {
      "cell_type": "markdown",
      "id": "competent-timing",
      "metadata": {
        "id": "competent-timing"
      },
      "source": [
        "#### Fixing the negative values in number of employees columns"
      ]
    },
    {
      "cell_type": "code",
      "source": [
        "data[data['no_of_employees']<0].shape ## Complete the code to check negative values in the employee column"
      ],
      "metadata": {
        "colab": {
          "base_uri": "https://localhost:8080/"
        },
        "id": "N5SXpBp-ODez",
        "outputId": "d14cf15b-d97c-4c6f-e87e-2491993ce660"
      },
      "id": "N5SXpBp-ODez",
      "execution_count": null,
      "outputs": [
        {
          "output_type": "execute_result",
          "data": {
            "text/plain": [
              "(33, 12)"
            ]
          },
          "metadata": {},
          "execution_count": 11
        }
      ]
    },
    {
      "cell_type": "markdown",
      "source": [
        "There are 33 negative number of employees column in the dataset"
      ],
      "metadata": {
        "id": "jFMlLcMDQO06"
      },
      "id": "jFMlLcMDQO06"
    },
    {
      "cell_type": "code",
      "execution_count": null,
      "id": "prescription-bosnia",
      "metadata": {
        "id": "prescription-bosnia"
      },
      "outputs": [],
      "source": [
        "# taking the absolute values for number of employees\n",
        "data[\"no_of_employees\"] = abs(data[\"no_of_employees\"]) ## Write the function to convert the values to a positive number"
      ]
    },
    {
      "cell_type": "markdown",
      "id": "cutting-bookmark",
      "metadata": {
        "id": "cutting-bookmark"
      },
      "source": [
        "#### Let's check the count of each unique category in each of the categorical variables"
      ]
    },
    {
      "cell_type": "code",
      "execution_count": null,
      "id": "minute-helmet",
      "metadata": {
        "id": "minute-helmet",
        "colab": {
          "base_uri": "https://localhost:8080/"
        },
        "outputId": "a5084797-389d-4bc0-9712-61fdc9209538"
      },
      "outputs": [
        {
          "output_type": "stream",
          "name": "stdout",
          "text": [
            "EZYV01       1\n",
            "EZYV16995    1\n",
            "EZYV16993    1\n",
            "EZYV16992    1\n",
            "EZYV16991    1\n",
            "            ..\n",
            "EZYV8492     1\n",
            "EZYV8491     1\n",
            "EZYV8490     1\n",
            "EZYV8489     1\n",
            "EZYV25480    1\n",
            "Name: case_id, Length: 25480, dtype: int64\n",
            "--------------------------------------------------\n",
            "Asia             16861\n",
            "Europe            3732\n",
            "North America     3292\n",
            "South America      852\n",
            "Africa             551\n",
            "Oceania            192\n",
            "Name: continent, dtype: int64\n",
            "--------------------------------------------------\n",
            "Bachelor's     10234\n",
            "Master's        9634\n",
            "High School     3420\n",
            "Doctorate       2192\n",
            "Name: education_of_employee, dtype: int64\n",
            "--------------------------------------------------\n",
            "Y    14802\n",
            "N    10678\n",
            "Name: has_job_experience, dtype: int64\n",
            "--------------------------------------------------\n",
            "N    22525\n",
            "Y     2955\n",
            "Name: requires_job_training, dtype: int64\n",
            "--------------------------------------------------\n",
            "Northeast    7195\n",
            "South        7017\n",
            "West         6586\n",
            "Midwest      4307\n",
            "Island        375\n",
            "Name: region_of_employment, dtype: int64\n",
            "--------------------------------------------------\n",
            "Year     22962\n",
            "Hour      2157\n",
            "Week       272\n",
            "Month       89\n",
            "Name: unit_of_wage, dtype: int64\n",
            "--------------------------------------------------\n",
            "Y    22773\n",
            "N     2707\n",
            "Name: full_time_position, dtype: int64\n",
            "--------------------------------------------------\n",
            "Certified    17018\n",
            "Denied        8462\n",
            "Name: case_status, dtype: int64\n",
            "--------------------------------------------------\n"
          ]
        }
      ],
      "source": [
        "# Making a list of all catrgorical variables\n",
        "cat_col = list(data.select_dtypes(\"object\").columns)\n",
        "\n",
        "# Printing number of count of each unique value in each column\n",
        "for column in cat_col:\n",
        "    print(data[column].value_counts())\n",
        "    print(\"-\" * 50)"
      ]
    },
    {
      "cell_type": "markdown",
      "source": [
        "1. 22773 employees are employed for Full time positions\n",
        "2. 8462 employees are employed for part time positions\n",
        "3. The unit of prevailing wage yearly is 22962, monthly is 89, weekly is 272, and hourly is 2157.\n",
        "4. Foreigners who intend to work in the North-east region are 7195, south are 7017, west are 6586, midwest are 4307, and the island are 375.\n",
        "5. 22525 employees do not require job training while 2955 employees require job training.\n",
        "6. 14802 employees has job experience, while 10678 do not have experience\n",
        "7. 10234 employees have a bachelor's degree, 9634 employees have a master's degree, 3420 employees have high school degrees and 2192 employees have a doctorate degree.\n",
        "8. Number of employees from each continent are as follows;\n",
        "Asia             16861\n",
        "Europe            3732\n",
        "North America     3292\n",
        "South America      852\n",
        "Africa             551\n",
        "Oceania            192"
      ],
      "metadata": {
        "id": "fuxCrKxQTnLQ"
      },
      "id": "fuxCrKxQTnLQ"
    },
    {
      "cell_type": "code",
      "execution_count": null,
      "id": "occupied-classroom",
      "metadata": {
        "id": "occupied-classroom",
        "colab": {
          "base_uri": "https://localhost:8080/"
        },
        "outputId": "8bb2d46a-98ab-439b-e264-2aba835c5980"
      },
      "outputs": [
        {
          "output_type": "execute_result",
          "data": {
            "text/plain": [
              "array(['EZYV01', 'EZYV02', 'EZYV03', ..., 'EZYV25478', 'EZYV25479',\n",
              "       'EZYV25480'], dtype=object)"
            ]
          },
          "metadata": {},
          "execution_count": 14
        }
      ],
      "source": [
        "# checking the number of unique values\n",
        "data[\"case_id\"].unique() ## Complete the code to check unique values in the mentioned column"
      ]
    },
    {
      "cell_type": "code",
      "execution_count": null,
      "id": "existing-sociology",
      "metadata": {
        "id": "existing-sociology"
      },
      "outputs": [],
      "source": [
        "data.drop([\"case_id\"], axis=1, inplace=True) ## Complete the code to drop 'case_id' column from the data"
      ]
    },
    {
      "cell_type": "markdown",
      "id": "wooden-christian",
      "metadata": {
        "id": "wooden-christian"
      },
      "source": [
        "### Univariate Analysis"
      ]
    },
    {
      "cell_type": "code",
      "execution_count": null,
      "id": "superb-springfield",
      "metadata": {
        "id": "superb-springfield"
      },
      "outputs": [],
      "source": [
        "def histogram_boxplot(data, feature, figsize=(15, 10), kde=False, bins=None):\n",
        "    \"\"\"\n",
        "    Boxplot and histogram combined\n",
        "\n",
        "    data: dataframe\n",
        "    feature: dataframe column\n",
        "    figsize: size of figure (default (15,10))\n",
        "    kde: whether to show the density curve (default False)\n",
        "    bins: number of bins for histogram (default None)\n",
        "    \"\"\"\n",
        "    f2, (ax_box2, ax_hist2) = plt.subplots(\n",
        "        nrows=2,  # Number of rows of the subplot grid= 2\n",
        "        sharex=True,  # x-axis will be shared among all subplots\n",
        "        gridspec_kw={\"height_ratios\": (0.25, 0.75)},\n",
        "        figsize=figsize,\n",
        "    )  # creating the 2 subplots\n",
        "    sns.boxplot(\n",
        "        data=data, x=feature, ax=ax_box2, showmeans=True, color=\"violet\"\n",
        "    )  # boxplot will be created and a triangle will indicate the mean value of the column\n",
        "    sns.histplot(\n",
        "        data=data, x=feature, kde=kde, ax=ax_hist2, bins=bins\n",
        "    ) if bins else sns.histplot(\n",
        "        data=data, x=feature, kde=kde, ax=ax_hist2\n",
        "    )  # For histogram\n",
        "    ax_hist2.axvline(\n",
        "        data[feature].mean(), color=\"green\", linestyle=\"--\"\n",
        "    )  # Add mean to the histogram\n",
        "    ax_hist2.axvline(\n",
        "        data[feature].median(), color=\"black\", linestyle=\"-\"\n",
        "    )  # Add median to the histogram"
      ]
    },
    {
      "cell_type": "markdown",
      "id": "comic-inventory",
      "metadata": {
        "id": "comic-inventory"
      },
      "source": [
        "#### Observations on number of employees"
      ]
    },
    {
      "cell_type": "code",
      "execution_count": null,
      "id": "loaded-commercial",
      "metadata": {
        "id": "loaded-commercial",
        "colab": {
          "base_uri": "https://localhost:8080/",
          "height": 606
        },
        "outputId": "68cd9833-824c-4b90-8a31-a9addc21393d"
      },
      "outputs": [
        {
          "output_type": "display_data",
          "data": {
            "text/plain": [
              "<Figure size 1080x720 with 2 Axes>"
            ],
            "image/png": "[encoded data removed]"
          },
          "metadata": {
            "needs_background": "light"
          }
        }
      ],
      "source": [
        "histogram_boxplot(data, \"no_of_employees\")"
      ]
    },
    {
      "cell_type": "markdown",
      "source": [
        "1. The distribution is heavily right skewed.\n",
        "2. There are many outliers in the distribution.\n",
        "3. The bulk of the number of employees are cloggged around 0 to 100 approximately."
      ],
      "metadata": {
        "id": "-rI9sPCTW6-V"
      },
      "id": "-rI9sPCTW6-V"
    },
    {
      "cell_type": "markdown",
      "id": "metric-apparel",
      "metadata": {
        "id": "metric-apparel"
      },
      "source": [
        "#### Observations on prevailing wage"
      ]
    },
    {
      "cell_type": "code",
      "execution_count": null,
      "id": "duplicate-theater",
      "metadata": {
        "id": "duplicate-theater",
        "colab": {
          "base_uri": "https://localhost:8080/",
          "height": 606
        },
        "outputId": "4a87b64d-d1bf-4e3d-bfd9-377259127edd"
      },
      "outputs": [
        {
          "output_type": "display_data",
          "data": {
            "text/plain": [
              "<Figure size 1080x720 with 2 Axes>"
            ],
            "image/png": "[encoded data removed]"
          },
          "metadata": {
            "needs_background": "light"
          }
        }
      ],
      "source": [
        "histogram_boxplot(data, 'prevailing_wage') ## Complete the code to create histogram_boxplot for prevailing wage"
      ]
    },
    {
      "cell_type": "markdown",
      "source": [
        "1. Prevailing wage has a right skewed distribution and 0 has the highest count amongst all the distribution.\n",
        "2. The distribution is not symmetric but the mean(74455) is slightly higher .than the median (70308)\n",
        "3. There are many outliers in the variable."
      ],
      "metadata": {
        "id": "V3NXc5Fhfozq"
      },
      "id": "V3NXc5Fhfozq"
    },
    {
      "cell_type": "code",
      "execution_count": null,
      "id": "legendary-stone",
      "metadata": {
        "id": "legendary-stone",
        "colab": {
          "base_uri": "https://localhost:8080/",
          "height": 522
        },
        "outputId": "177c0f5e-351d-4680-dfcb-59d728548e4f"
      },
      "outputs": [
        {
          "output_type": "execute_result",
          "data": {
            "text/plain": [
              "           continent education_of_employee has_job_experience  \\\n",
              "338             Asia            Bachelor's                  Y   \n",
              "634             Asia              Master's                  N   \n",
              "839             Asia           High School                  Y   \n",
              "876    South America            Bachelor's                  Y   \n",
              "995             Asia              Master's                  N   \n",
              "...              ...                   ...                ...   \n",
              "25023           Asia            Bachelor's                  N   \n",
              "25258           Asia            Bachelor's                  Y   \n",
              "25308  North America              Master's                  N   \n",
              "25329         Africa            Bachelor's                  N   \n",
              "25461           Asia              Master's                  Y   \n",
              "\n",
              "      requires_job_training  no_of_employees  yr_of_estab  \\\n",
              "338                       N             2114         2012   \n",
              "634                       N              834         1977   \n",
              "839                       N             4537         1999   \n",
              "876                       N              731         2004   \n",
              "995                       N              302         2000   \n",
              "...                     ...              ...          ...   \n",
              "25023                     Y             3200         1994   \n",
              "25258                     N             3659         1997   \n",
              "25308                     N            82953         1977   \n",
              "25329                     N             2172         1993   \n",
              "25461                     N             2861         2004   \n",
              "\n",
              "      region_of_employment  prevailing_wage unit_of_wage full_time_position  \\\n",
              "338              Northeast          15.7716         Hour                  Y   \n",
              "634              Northeast           3.3188         Hour                  Y   \n",
              "839                   West          61.1329         Hour                  Y   \n",
              "876              Northeast          82.0029         Hour                  Y   \n",
              "995                  South          47.4872         Hour                  Y   \n",
              "...                    ...              ...          ...                ...   \n",
              "25023                South          94.1546         Hour                  Y   \n",
              "25258                South          79.1099         Hour                  Y   \n",
              "25308            Northeast          42.7705         Hour                  Y   \n",
              "25329            Northeast          32.9286         Hour                  Y   \n",
              "25461                 West          54.9196         Hour                  Y   \n",
              "\n",
              "      case_status  \n",
              "338     Certified  \n",
              "634        Denied  \n",
              "839        Denied  \n",
              "876        Denied  \n",
              "995     Certified  \n",
              "...           ...  \n",
              "25023      Denied  \n",
              "25258      Denied  \n",
              "25308      Denied  \n",
              "25329      Denied  \n",
              "25461      Denied  \n",
              "\n",
              "[176 rows x 11 columns]"
            ],
            "text/html": [
              "\n",
              "  <div id=\"df-4caa5581-edd9-4831-adcf-c60e1547206d\">\n",
              "    <div class=\"colab-df-container\">\n",
              "      <div>\n",
              "<style scoped>\n",
              "    .dataframe tbody tr th:only-of-type {\n",
              "        vertical-align: middle;\n",
              "    }\n",
              "\n",
              "    .dataframe tbody tr th {\n",
              "        vertical-align: top;\n",
              "    }\n",
              "\n",
              "    .dataframe thead th {\n",
              "        text-align: right;\n",
              "    }\n",
              "</style>\n",
              "<table border=\"1\" class=\"dataframe\">\n",
              "  <thead>\n",
              "    <tr style=\"text-align: right;\">\n",
              "      <th></th>\n",
              "      <th>continent</th>\n",
              "      <th>education_of_employee</th>\n",
              "      <th>has_job_experience</th>\n",
              "      <th>requires_job_training</th>\n",
              "      <th>no_of_employees</th>\n",
              "      <th>yr_of_estab</th>\n",
              "      <th>region_of_employment</th>\n",
              "      <th>prevailing_wage</th>\n",
              "      <th>unit_of_wage</th>\n",
              "      <th>full_time_position</th>\n",
              "      <th>case_status</th>\n",
              "    </tr>\n",
              "  </thead>\n",
              "  <tbody>\n",
              "    <tr>\n",
              "      <th>338</th>\n",
              "      <td>Asia</td>\n",
              "      <td>Bachelor's</td>\n",
              "      <td>Y</td>\n",
              "      <td>N</td>\n",
              "      <td>2114</td>\n",
              "      <td>2012</td>\n",
              "      <td>Northeast</td>\n",
              "      <td>15.7716</td>\n",
              "      <td>Hour</td>\n",
              "      <td>Y</td>\n",
              "      <td>Certified</td>\n",
              "    </tr>\n",
              "    <tr>\n",
              "      <th>634</th>\n",
              "      <td>Asia</td>\n",
              "      <td>Master's</td>\n",
              "      <td>N</td>\n",
              "      <td>N</td>\n",
              "      <td>834</td>\n",
              "      <td>1977</td>\n",
              "      <td>Northeast</td>\n",
              "      <td>3.3188</td>\n",
              "      <td>Hour</td>\n",
              "      <td>Y</td>\n",
              "      <td>Denied</td>\n",
              "    </tr>\n",
              "    <tr>\n",
              "      <th>839</th>\n",
              "      <td>Asia</td>\n",
              "      <td>High School</td>\n",
              "      <td>Y</td>\n",
              "      <td>N</td>\n",
              "      <td>4537</td>\n",
              "      <td>1999</td>\n",
              "      <td>West</td>\n",
              "      <td>61.1329</td>\n",
              "      <td>Hour</td>\n",
              "      <td>Y</td>\n",
              "      <td>Denied</td>\n",
              "    </tr>\n",
              "    <tr>\n",
              "      <th>876</th>\n",
              "      <td>South America</td>\n",
              "      <td>Bachelor's</td>\n",
              "      <td>Y</td>\n",
              "      <td>N</td>\n",
              "      <td>731</td>\n",
              "      <td>2004</td>\n",
              "      <td>Northeast</td>\n",
              "      <td>82.0029</td>\n",
              "      <td>Hour</td>\n",
              "      <td>Y</td>\n",
              "      <td>Denied</td>\n",
              "    </tr>\n",
              "    <tr>\n",
              "      <th>995</th>\n",
              "      <td>Asia</td>\n",
              "      <td>Master's</td>\n",
              "      <td>N</td>\n",
              "      <td>N</td>\n",
              "      <td>302</td>\n",
              "      <td>2000</td>\n",
              "      <td>South</td>\n",
              "      <td>47.4872</td>\n",
              "      <td>Hour</td>\n",
              "      <td>Y</td>\n",
              "      <td>Certified</td>\n",
              "    </tr>\n",
              "    <tr>\n",
              "      <th>...</th>\n",
              "      <td>...</td>\n",
              "      <td>...</td>\n",
              "      <td>...</td>\n",
              "      <td>...</td>\n",
              "      <td>...</td>\n",
              "      <td>...</td>\n",
              "      <td>...</td>\n",
              "      <td>...</td>\n",
              "      <td>...</td>\n",
              "      <td>...</td>\n",
              "      <td>...</td>\n",
              "    </tr>\n",
              "    <tr>\n",
              "      <th>25023</th>\n",
              "      <td>Asia</td>\n",
              "      <td>Bachelor's</td>\n",
              "      <td>N</td>\n",
              "      <td>Y</td>\n",
              "      <td>3200</td>\n",
              "      <td>1994</td>\n",
              "      <td>South</td>\n",
              "      <td>94.1546</td>\n",
              "      <td>Hour</td>\n",
              "      <td>Y</td>\n",
              "      <td>Denied</td>\n",
              "    </tr>\n",
              "    <tr>\n",
              "      <th>25258</th>\n",
              "      <td>Asia</td>\n",
              "      <td>Bachelor's</td>\n",
              "      <td>Y</td>\n",
              "      <td>N</td>\n",
              "      <td>3659</td>\n",
              "      <td>1997</td>\n",
              "      <td>South</td>\n",
              "      <td>79.1099</td>\n",
              "      <td>Hour</td>\n",
              "      <td>Y</td>\n",
              "      <td>Denied</td>\n",
              "    </tr>\n",
              "    <tr>\n",
              "      <th>25308</th>\n",
              "      <td>North America</td>\n",
              "      <td>Master's</td>\n",
              "      <td>N</td>\n",
              "      <td>N</td>\n",
              "      <td>82953</td>\n",
              "      <td>1977</td>\n",
              "      <td>Northeast</td>\n",
              "      <td>42.7705</td>\n",
              "      <td>Hour</td>\n",
              "      <td>Y</td>\n",
              "      <td>Denied</td>\n",
              "    </tr>\n",
              "    <tr>\n",
              "      <th>25329</th>\n",
              "      <td>Africa</td>\n",
              "      <td>Bachelor's</td>\n",
              "      <td>N</td>\n",
              "      <td>N</td>\n",
              "      <td>2172</td>\n",
              "      <td>1993</td>\n",
              "      <td>Northeast</td>\n",
              "      <td>32.9286</td>\n",
              "      <td>Hour</td>\n",
              "      <td>Y</td>\n",
              "      <td>Denied</td>\n",
              "    </tr>\n",
              "    <tr>\n",
              "      <th>25461</th>\n",
              "      <td>Asia</td>\n",
              "      <td>Master's</td>\n",
              "      <td>Y</td>\n",
              "      <td>N</td>\n",
              "      <td>2861</td>\n",
              "      <td>2004</td>\n",
              "      <td>West</td>\n",
              "      <td>54.9196</td>\n",
              "      <td>Hour</td>\n",
              "      <td>Y</td>\n",
              "      <td>Denied</td>\n",
              "    </tr>\n",
              "  </tbody>\n",
              "</table>\n",
              "<p>176 rows × 11 columns</p>\n",
              "</div>\n",
              "      <button class=\"colab-df-convert\" onclick=\"convertToInteractive('df-4caa5581-edd9-4831-adcf-c60e1547206d')\"\n",
              "              title=\"Convert this dataframe to an interactive table.\"\n",
              "              style=\"display:none;\">\n",
              "        \n",
              "  <svg xmlns=\"http://www.w3.org/2000/svg\" height=\"24px\"viewBox=\"0 0 24 24\"\n",
              "       width=\"24px\">\n",
              "    <path d=\"M0 0h24v24H0V0z\" fill=\"none\"/>\n",
              "    <path d=\"M18.56 5.44l.94 2.06.94-2.06 2.06-.94-2.06-.94-.94-2.06-.94 2.06-2.06.94zm-11 1L8.5 8.5l.94-2.06 2.06-.94-2.06-.94L8.5 2.5l-.94 2.06-2.06.94zm10 10l.94 2.06.94-2.06 2.06-.94-2.06-.94-.94-2.06-.94 2.06-2.06.94z\"/><path d=\"M17.41 7.96l-1.37-1.37c-.4-.4-.92-.59-1.43-.59-.52 0-1.04.2-1.43.59L10.3 9.45l-7.72 7.72c-.78.78-.78 2.05 0 2.83L4 21.41c.39.39.9.59 1.41.59.51 0 1.02-.2 1.41-.59l7.78-7.78 2.81-2.81c.8-.78.8-2.07 0-2.86zM5.41 20L4 18.59l7.72-7.72 1.47 1.35L5.41 20z\"/>\n",
              "  </svg>\n",
              "      </button>\n",
              "      \n",
              "  <style>\n",
              "    .colab-df-container {\n",
              "      display:flex;\n",
              "      flex-wrap:wrap;\n",
              "      gap: 12px;\n",
              "    }\n",
              "\n",
              "    .colab-df-convert {\n",
              "      background-color: #E8F0FE;\n",
              "      border: none;\n",
              "      border-radius: 50%;\n",
              "      cursor: pointer;\n",
              "      display: none;\n",
              "      fill: #1967D2;\n",
              "      height: 32px;\n",
              "      padding: 0 0 0 0;\n",
              "      width: 32px;\n",
              "    }\n",
              "\n",
              "    .colab-df-convert:hover {\n",
              "      background-color: #E2EBFA;\n",
              "      box-shadow: 0px 1px 2px rgba(60, 64, 67, 0.3), 0px 1px 3px 1px rgba(60, 64, 67, 0.15);\n",
              "      fill: #174EA6;\n",
              "    }\n",
              "\n",
              "    [theme=dark] .colab-df-convert {\n",
              "      background-color: #3B4455;\n",
              "      fill: #D2E3FC;\n",
              "    }\n",
              "\n",
              "    [theme=dark] .colab-df-convert:hover {\n",
              "      background-color: #434B5C;\n",
              "      box-shadow: 0px 1px 3px 1px rgba(0, 0, 0, 0.15);\n",
              "      filter: drop-shadow(0px 1px 2px rgba(0, 0, 0, 0.3));\n",
              "      fill: #FFFFFF;\n",
              "    }\n",
              "  </style>\n",
              "\n",
              "      <script>\n",
              "        const buttonEl =\n",
              "          document.querySelector('#df-4caa5581-edd9-4831-adcf-c60e1547206d button.colab-df-convert');\n",
              "        buttonEl.style.display =\n",
              "          google.colab.kernel.accessAllowed ? 'block' : 'none';\n",
              "\n",
              "        async function convertToInteractive(key) {\n",
              "          const element = document.querySelector('#df-4caa5581-edd9-4831-adcf-c60e1547206d');\n",
              "          const dataTable =\n",
              "            await google.colab.kernel.invokeFunction('convertToInteractive',\n",
              "                                                     [key], {});\n",
              "          if (!dataTable) return;\n",
              "\n",
              "          const docLinkHtml = 'Like what you see? Visit the ' +\n",
              "            '<a target=\"_blank\" href=https://colab.research.google.com/notebooks/data_table.ipynb>data table notebook</a>'\n",
              "            + ' to learn more about interactive tables.';\n",
              "          element.innerHTML = '';\n",
              "          dataTable['output_type'] = 'display_data';\n",
              "          await google.colab.output.renderOutput(dataTable, element);\n",
              "          const docLink = document.createElement('div');\n",
              "          docLink.innerHTML = docLinkHtml;\n",
              "          element.appendChild(docLink);\n",
              "        }\n",
              "      </script>\n",
              "    </div>\n",
              "  </div>\n",
              "  "
            ]
          },
          "metadata": {},
          "execution_count": 19
        }
      ],
      "source": [
        "# checking the observations which have less than 100 prevailing wage\n",
        "data[data['prevailing_wage']<100]\n",
        "#data.loc['_______'] ## Complete the code to find the rows with less than 100 prevailing wage"
      ]
    },
    {
      "cell_type": "markdown",
      "source": [
        "There are 176 rows of employees with less than 100 prevailing wage."
      ],
      "metadata": {
        "id": "_P4B3I4Yh6mX"
      },
      "id": "_P4B3I4Yh6mX"
    },
    {
      "cell_type": "code",
      "execution_count": null,
      "id": "handmade-carroll",
      "metadata": {
        "id": "handmade-carroll",
        "colab": {
          "base_uri": "https://localhost:8080/"
        },
        "outputId": "27e19153-78f2-47ed-c0a1-da69c36f8485"
      },
      "outputs": [
        {
          "output_type": "execute_result",
          "data": {
            "text/plain": [
              "<bound method Series.count of 338      Hour\n",
              "634      Hour\n",
              "839      Hour\n",
              "876      Hour\n",
              "995      Hour\n",
              "         ... \n",
              "25023    Hour\n",
              "25258    Hour\n",
              "25308    Hour\n",
              "25329    Hour\n",
              "25461    Hour\n",
              "Name: unit_of_wage, Length: 176, dtype: object>"
            ]
          },
          "metadata": {},
          "execution_count": 20
        }
      ],
      "source": [
        "data.loc[data[\"prevailing_wage\"] < 100, \"unit_of_wage\"].count ## Complete the code to get the count of the values in the mentioned column"
      ]
    },
    {
      "cell_type": "markdown",
      "source": [
        "The 176 employees with less than 100 prevailing wage work hourly."
      ],
      "metadata": {
        "id": "lOvQb5u7icGa"
      },
      "id": "lOvQb5u7icGa"
    },
    {
      "cell_type": "code",
      "execution_count": null,
      "id": "proof-drove",
      "metadata": {
        "id": "proof-drove"
      },
      "outputs": [],
      "source": [
        "# function to create labeled barplots\n",
        "\n",
        "\n",
        "def labeled_barplot(data, feature, perc=False, n=None):\n",
        "    \"\"\"\n",
        "    Barplot with percentage at the top\n",
        "\n",
        "    data: dataframe\n",
        "    feature: dataframe column\n",
        "    perc: whether to display percentages instead of count (default is False)\n",
        "    n: displays the top n category levels (default is None, i.e., display all levels)\n",
        "    \"\"\"\n",
        "\n",
        "    total = len(data[feature])  # length of the column\n",
        "    count = data[feature].nunique()\n",
        "    if n is None:\n",
        "        plt.figure(figsize=(count + 2, 6))\n",
        "    else:\n",
        "        plt.figure(figsize=(n + 2, 6))\n",
        "\n",
        "    plt.xticks(rotation=90, fontsize=15)\n",
        "    ax = sns.countplot(\n",
        "        data=data,\n",
        "        x=feature,\n",
        "        palette=\"Paired\",\n",
        "        order=data[feature].value_counts().index[:n],\n",
        "    )\n",
        "\n",
        "    for p in ax.patches:\n",
        "        if perc == True:\n",
        "            label = \"{:.1f}%\".format(\n",
        "                100 * p.get_height() / total\n",
        "            )  # percentage of each class of the category\n",
        "        else:\n",
        "            label = p.get_height()  # count of each level of the category\n",
        "\n",
        "        x = p.get_x() + p.get_width() / 2  # width of the plot\n",
        "        y = p.get_height()  # height of the plot\n",
        "\n",
        "        ax.annotate(\n",
        "            label,\n",
        "            (x, y),\n",
        "            ha=\"center\",\n",
        "            va=\"center\",\n",
        "            size=12,\n",
        "            xytext=(0, 5),\n",
        "            textcoords=\"offset points\",\n",
        "        )  # annotate the percentage\n",
        "\n",
        "    plt.show()  # show the plot"
      ]
    },
    {
      "cell_type": "markdown",
      "id": "bulgarian-parts",
      "metadata": {
        "id": "bulgarian-parts"
      },
      "source": [
        "#### Observations on continent"
      ]
    },
    {
      "cell_type": "code",
      "execution_count": null,
      "id": "artistic-accounting",
      "metadata": {
        "id": "artistic-accounting",
        "colab": {
          "base_uri": "https://localhost:8080/",
          "height": 489
        },
        "outputId": "11f25a27-2980-428a-e69d-9fe558f7bc5b"
      },
      "outputs": [
        {
          "output_type": "display_data",
          "data": {
            "text/plain": [
              "<Figure size 576x432 with 1 Axes>"
            ],
            "image/png": "[encoded data removed]"
          },
          "metadata": {
            "needs_background": "light"
          }
        }
      ],
      "source": [
        "labeled_barplot(data, \"continent\", perc=True)"
      ]
    },
    {
      "cell_type": "markdown",
      "source": [
        "1. Employees from Asia have the highest percentage count of 66.2%, followed by Europe 14.6% and North America 12.9%.\n",
        "2. Employees from Oceania have the lowest percentage count 0.8%"
      ],
      "metadata": {
        "id": "w_llX4n6kQFc"
      },
      "id": "w_llX4n6kQFc"
    },
    {
      "cell_type": "markdown",
      "id": "editorial-command",
      "metadata": {
        "id": "editorial-command"
      },
      "source": [
        "#### Observations on education of employee"
      ]
    },
    {
      "cell_type": "code",
      "execution_count": null,
      "id": "express-harrison",
      "metadata": {
        "id": "express-harrison",
        "colab": {
          "base_uri": "https://localhost:8080/",
          "height": 469
        },
        "outputId": "2edd4a3f-d087-4252-b162-fc944384bc52"
      },
      "outputs": [
        {
          "output_type": "display_data",
          "data": {
            "text/plain": [
              "<Figure size 432x432 with 1 Axes>"
            ],
            "image/png": "[encoded data removed]"
          },
          "metadata": {
            "needs_background": "light"
          }
        }
      ],
      "source": [
        "labeled_barplot(data, 'education_of_employee')  ## Complete the code to create labeled_barplot for education of employee"
      ]
    },
    {
      "cell_type": "markdown",
      "id": "forbidden-kidney",
      "metadata": {
        "id": "forbidden-kidney"
      },
      "source": [
        "#### Observations on job experience"
      ]
    },
    {
      "cell_type": "code",
      "execution_count": null,
      "id": "exterior-rings",
      "metadata": {
        "id": "exterior-rings",
        "colab": {
          "base_uri": "https://localhost:8080/",
          "height": 390
        },
        "outputId": "01845821-197b-4019-9d56-fd21c1ba3cb1"
      },
      "outputs": [
        {
          "output_type": "display_data",
          "data": {
            "text/plain": [
              "<Figure size 288x432 with 1 Axes>"
            ],
            "image/png": "[encoded data removed]"
          },
          "metadata": {
            "needs_background": "light"
          }
        }
      ],
      "source": [
        "labeled_barplot(data, 'has_job_experience')  ## Complete the code to create labeled_barplot for job experience"
      ]
    },
    {
      "cell_type": "markdown",
      "id": "amateur-above",
      "metadata": {
        "id": "amateur-above"
      },
      "source": [
        "#### Observations on job training"
      ]
    },
    {
      "cell_type": "code",
      "execution_count": null,
      "id": "serial-irrigation",
      "metadata": {
        "id": "serial-irrigation",
        "scrolled": false,
        "colab": {
          "base_uri": "https://localhost:8080/",
          "height": 390
        },
        "outputId": "483ee789-db14-47c8-a17d-d1c2ed270251"
      },
      "outputs": [
        {
          "output_type": "display_data",
          "data": {
            "text/plain": [
              "<Figure size 288x432 with 1 Axes>"
            ],
            "image/png": "[encoded data removed]"
          },
          "metadata": {
            "needs_background": "light"
          }
        }
      ],
      "source": [
        "labeled_barplot(data, 'requires_job_training')  ## Complete the code to create labeled_barplot for job training"
      ]
    },
    {
      "cell_type": "markdown",
      "id": "attempted-burlington",
      "metadata": {
        "id": "attempted-burlington"
      },
      "source": [
        "#### Observations on region of employment"
      ]
    },
    {
      "cell_type": "code",
      "execution_count": null,
      "id": "suited-tuner",
      "metadata": {
        "id": "suited-tuner",
        "colab": {
          "base_uri": "https://localhost:8080/"
        },
        "outputId": "00fa1c0c-c0e3-4e88-ef42-652193a78400"
      },
      "outputs": [
        {
          "output_type": "display_data",
          "data": {
            "text/plain": [
              "<Figure size 504x432 with 1 Axes>"
            ],
            "image/png": "[encoded data removed]"
          },
          "metadata": {
            "needs_background": "light"
          }
        }
      ],
      "source": [
        "labeled_barplot(data, 'region_of_employment')  ## Complete the code to create labeled_barplot for region of employment"
      ]
    },
    {
      "cell_type": "markdown",
      "id": "aging-curve",
      "metadata": {
        "id": "aging-curve"
      },
      "source": [
        "#### Observations on unit of wage"
      ]
    },
    {
      "cell_type": "code",
      "execution_count": null,
      "id": "modified-breed",
      "metadata": {
        "id": "modified-breed",
        "colab": {
          "base_uri": "https://localhost:8080/"
        },
        "outputId": "34468db0-b76d-4187-a0ec-f934275b84e7"
      },
      "outputs": [
        {
          "output_type": "display_data",
          "data": {
            "text/plain": [
              "<Figure size 432x432 with 1 Axes>"
            ],
            "image/png": "[encoded data removed]"
          },
          "metadata": {
            "needs_background": "light"
          }
        }
      ],
      "source": [
        "labeled_barplot(data, 'unit_of_wage')  ## Complete the code to create labeled_barplot for unit of wage"
      ]
    },
    {
      "cell_type": "markdown",
      "id": "stunning-surrey",
      "metadata": {
        "id": "stunning-surrey"
      },
      "source": [
        "#### Observations on case status"
      ]
    },
    {
      "cell_type": "code",
      "execution_count": null,
      "id": "potential-stroke",
      "metadata": {
        "id": "potential-stroke",
        "colab": {
          "base_uri": "https://localhost:8080/"
        },
        "outputId": "a92298ce-ee6c-4997-9b4e-61dfdd9d799b"
      },
      "outputs": [
        {
          "output_type": "display_data",
          "data": {
            "text/plain": [
              "<Figure size 288x432 with 1 Axes>"
            ],
            "image/png": "[encoded data removed]"
          },
          "metadata": {
            "needs_background": "light"
          }
        }
      ],
      "source": [
        "labeled_barplot(data, 'case_status')  ## Complete the code to create labeled_barplot for case status"
      ]
    },
    {
      "cell_type": "markdown",
      "id": "equivalent-aging",
      "metadata": {
        "id": "equivalent-aging"
      },
      "source": [
        "### Bivariate Analysis"
      ]
    },
    {
      "cell_type": "code",
      "execution_count": null,
      "id": "social-wagner",
      "metadata": {
        "id": "social-wagner",
        "colab": {
          "base_uri": "https://localhost:8080/"
        },
        "outputId": "ff914274-53f6-49a8-8314-62deeaefff42"
      },
      "outputs": [
        {
          "output_type": "display_data",
          "data": {
            "text/plain": [
              "<Figure size 720x360 with 2 Axes>"
            ],
            "image/png": "[encoded data removed]"
          },
          "metadata": {
            "needs_background": "light"
          }
        }
      ],
      "source": [
        "cols_list = data.select_dtypes(include=np.number).columns.tolist()\n",
        "\n",
        "plt.figure(figsize=(10, 5))\n",
        "sns.heatmap(\n",
        "    data[cols_list].corr(), annot=True, vmin=-1, vmax=1, fmt=\".2f\", cmap=\"Spectral\"\n",
        ") ## Complete the code to find the correlation between the variables\n",
        "plt.show()"
      ]
    },
    {
      "cell_type": "markdown",
      "source": [
        "1. Year of establishment is negatively correlated with number of employees\n",
        "2. Prevailing wage is positively correlated with year of establishment.\n",
        "3. Prevailing wage is negatively correlated with number of employees."
      ],
      "metadata": {
        "id": "utreI2f5qzOl"
      },
      "id": "utreI2f5qzOl"
    },
    {
      "cell_type": "markdown",
      "id": "blond-convertible",
      "metadata": {
        "id": "blond-convertible"
      },
      "source": [
        "**Creating functions that will help us with further analysis.**"
      ]
    },
    {
      "cell_type": "code",
      "execution_count": null,
      "id": "adaptive-recipient",
      "metadata": {
        "id": "adaptive-recipient"
      },
      "outputs": [],
      "source": [
        "### function to plot distributions wrt target\n",
        "\n",
        "\n",
        "def distribution_plot_wrt_target(data, predictor, target):\n",
        "\n",
        "    fig, axs = plt.subplots(2, 2, figsize=(12, 10))\n",
        "\n",
        "    target_uniq = data[target].unique()\n",
        "\n",
        "    axs[0, 0].set_title(\"Distribution of target for target=\" + str(target_uniq[0]))\n",
        "    sns.histplot(\n",
        "        data=data[data[target] == target_uniq[0]],\n",
        "        x=predictor,\n",
        "        kde=True,\n",
        "        ax=axs[0, 0],\n",
        "        color=\"teal\",\n",
        "        stat=\"density\",\n",
        "    )\n",
        "\n",
        "    axs[0, 1].set_title(\"Distribution of target for target=\" + str(target_uniq[1]))\n",
        "    sns.histplot(\n",
        "        data=data[data[target] == target_uniq[1]],\n",
        "        x=predictor,\n",
        "        kde=True,\n",
        "        ax=axs[0, 1],\n",
        "        color=\"orange\",\n",
        "        stat=\"density\",\n",
        "    )\n",
        "\n",
        "    axs[1, 0].set_title(\"Boxplot w.r.t target\")\n",
        "    sns.boxplot(data=data, x=target, y=predictor, ax=axs[1, 0], palette=\"gist_rainbow\")\n",
        "\n",
        "    axs[1, 1].set_title(\"Boxplot (without outliers) w.r.t target\")\n",
        "    sns.boxplot(\n",
        "        data=data,\n",
        "        x=target,\n",
        "        y=predictor,\n",
        "        ax=axs[1, 1],\n",
        "        showfliers=False,\n",
        "        palette=\"gist_rainbow\",\n",
        "    )\n",
        "\n",
        "    plt.tight_layout()\n",
        "    plt.show()"
      ]
    },
    {
      "cell_type": "code",
      "execution_count": null,
      "id": "third-sheriff",
      "metadata": {
        "id": "third-sheriff"
      },
      "outputs": [],
      "source": [
        "def stacked_barplot(data, predictor, target):\n",
        "    \"\"\"\n",
        "    Print the category counts and plot a stacked bar chart\n",
        "\n",
        "    data: dataframe\n",
        "    predictor: independent variable\n",
        "    target: target variable\n",
        "    \"\"\"\n",
        "    count = data[predictor].nunique()\n",
        "    sorter = data[target].value_counts().index[-1]\n",
        "    tab1 = pd.crosstab(data[predictor], data[target], margins=True).sort_values(\n",
        "        by=sorter, ascending=False\n",
        "    )\n",
        "    print(tab1)\n",
        "    print(\"-\" * 120)\n",
        "    tab = pd.crosstab(data[predictor], data[target], normalize=\"index\").sort_values(\n",
        "        by=sorter, ascending=False\n",
        "    )\n",
        "    tab.plot(kind=\"bar\", stacked=True, figsize=(count + 5, 5))\n",
        "    plt.legend(\n",
        "        loc=\"lower left\", frameon=False,\n",
        "    )\n",
        "    plt.legend(loc=\"upper left\", bbox_to_anchor=(1, 1))\n",
        "    plt.show()"
      ]
    },
    {
      "cell_type": "markdown",
      "id": "dressed-excuse",
      "metadata": {
        "id": "dressed-excuse"
      },
      "source": [
        "#### Those with higher education may want to travel abroad for a well-paid job. Let's find out if education has any impact on visa certification"
      ]
    },
    {
      "cell_type": "code",
      "execution_count": null,
      "id": "special-florist",
      "metadata": {
        "id": "special-florist",
        "colab": {
          "base_uri": "https://localhost:8080/"
        },
        "outputId": "49254956-a282-4074-abbe-bea614380c8d"
      },
      "outputs": [
        {
          "output_type": "stream",
          "name": "stdout",
          "text": [
            "case_status            Certified  Denied    All\n",
            "education_of_employee                          \n",
            "All                        17018    8462  25480\n",
            "Bachelor's                  6367    3867  10234\n",
            "High School                 1164    2256   3420\n",
            "Master's                    7575    2059   9634\n",
            "Doctorate                   1912     280   2192\n",
            "------------------------------------------------------------------------------------------------------------------------\n"
          ]
        },
        {
          "output_type": "display_data",
          "data": {
            "text/plain": [
              "<Figure size 648x360 with 1 Axes>"
            ],
            "image/png": "[encoded data removed]"
          },
          "metadata": {
            "needs_background": "light"
          }
        }
      ],
      "source": [
        "stacked_barplot(data, \"education_of_employee\", \"case_status\")"
      ]
    },
    {
      "cell_type": "markdown",
      "source": [
        "1. Those with Doctorate degrees have the highest count of certified visas, followed by Master's degree holders and followed by Bachelor's degree holders.\n",
        "2. High School holders have the highest count of denied visas\n",
        "3. It is safe to say that education has an impact on visa certification."
      ],
      "metadata": {
        "id": "NFatxqy_suH8"
      },
      "id": "NFatxqy_suH8"
    },
    {
      "cell_type": "markdown",
      "id": "wound-communication",
      "metadata": {
        "id": "wound-communication"
      },
      "source": [
        "#### Different regions have different requirements of talent having diverse educational backgrounds. Let's analyze it further"
      ]
    },
    {
      "cell_type": "code",
      "execution_count": null,
      "id": "tamil-intelligence",
      "metadata": {
        "id": "tamil-intelligence",
        "colab": {
          "base_uri": "https://localhost:8080/"
        },
        "outputId": "f1a70a74-5748-4875-fb8d-4d179ed82561"
      },
      "outputs": [
        {
          "output_type": "display_data",
          "data": {
            "text/plain": [
              "<Figure size 720x360 with 2 Axes>"
            ],
            "image/png": "[encoded data removed]"
          },
          "metadata": {
            "needs_background": "light"
          }
        }
      ],
      "source": [
        "plt.figure(figsize=(10, 5))\n",
        "sns.heatmap(pd.crosstab(data['region_of_employment'], data['education_of_employee']),\n",
        "    annot=True,\n",
        "    fmt=\"g\",\n",
        "    cmap=\"viridis\"\n",
        ") ## Complete the code to plot heatmap for the crosstab between education and region of employment\n",
        "\n",
        "plt.ylabel(\"Education\")\n",
        "plt.xlabel(\"Region\")\n",
        "plt.show()"
      ]
    },
    {
      "cell_type": "markdown",
      "source": [
        "1. The south have the highest count of Bachelor's degree holders, followed by the West(2925) and Northeast(2874). This region has a significantly low count of Doctorate degree holders.\n",
        "2. The Northeast have a high count (2760) of Master's degree holders. The south have 2551 and the West have 2162 count of Masters degree holders.\n",
        "3. The midwest have a count of 2000 master's degree holders and 1315 bachelor's degree holders.\n",
        "4. It is safe to say that the requirement or educational background in high demand in the West, South, Northeast and Midwest are Bachelor's and Master's degree.\n",
        "5. The demand for Doctorate in these regions are lower than that of high school leavers."
      ],
      "metadata": {
        "id": "vHS0C7Gy1hW8"
      },
      "id": "vHS0C7Gy1hW8"
    },
    {
      "cell_type": "markdown",
      "id": "theoretical-flexibility",
      "metadata": {
        "id": "theoretical-flexibility"
      },
      "source": [
        "#### Let's have a look at the percentage of visa certifications across each region"
      ]
    },
    {
      "cell_type": "code",
      "execution_count": null,
      "id": "hybrid-zealand",
      "metadata": {
        "id": "hybrid-zealand",
        "colab": {
          "base_uri": "https://localhost:8080/"
        },
        "outputId": "c83bdd43-fd9b-4361-a57e-0b12ee42a6b3"
      },
      "outputs": [
        {
          "output_type": "stream",
          "name": "stdout",
          "text": [
            "region_of_employment  Island  Midwest  Northeast  South  West    All\n",
            "case_status                                                         \n",
            "All                      375     4307       7195   7017  6586  25480\n",
            "Certified                226     3253       4526   4913  4100  17018\n",
            "Denied                   149     1054       2669   2104  2486   8462\n",
            "------------------------------------------------------------------------------------------------------------------------\n"
          ]
        },
        {
          "output_type": "display_data",
          "data": {
            "text/plain": [
              "<Figure size 504x360 with 1 Axes>"
            ],
            "image/png": "[encoded data removed]"
          },
          "metadata": {
            "needs_background": "light"
          }
        }
      ],
      "source": [
        "stacked_barplot(data, 'case_status', 'region_of_employment') ## Complete the code to plot stacked barplot for region of employment and case status"
      ]
    },
    {
      "cell_type": "markdown",
      "source": [
        "1. The South has the highest count of visa certifications, followed by Northeast, then West and midwest (in that order).\n",
        "2. The Northeast have the highest count of visa denied, followed by West and South and midwest (in that order)"
      ],
      "metadata": {
        "id": "ERI6if_84Fd8"
      },
      "id": "ERI6if_84Fd8"
    },
    {
      "cell_type": "markdown",
      "id": "attended-current",
      "metadata": {
        "id": "attended-current"
      },
      "source": [
        "#### Lets' similarly check for the continents and find out how the visa status vary across different continents."
      ]
    },
    {
      "cell_type": "code",
      "execution_count": null,
      "id": "alive-bloom",
      "metadata": {
        "id": "alive-bloom",
        "colab": {
          "base_uri": "https://localhost:8080/"
        },
        "outputId": "f7bdb448-b6bf-43e1-8b5b-831aecce0907"
      },
      "outputs": [
        {
          "output_type": "stream",
          "name": "stdout",
          "text": [
            "continent    Africa   Asia  Europe  North America  Oceania  South America  \\\n",
            "case_status                                                                 \n",
            "All             551  16861    3732           3292      192            852   \n",
            "Certified       397  11012    2957           2037      122            493   \n",
            "Denied          154   5849     775           1255       70            359   \n",
            "\n",
            "continent      All  \n",
            "case_status         \n",
            "All          25480  \n",
            "Certified    17018  \n",
            "Denied        8462  \n",
            "------------------------------------------------------------------------------------------------------------------------\n"
          ]
        },
        {
          "output_type": "display_data",
          "data": {
            "text/plain": [
              "<Figure size 504x360 with 1 Axes>"
            ],
            "image/png": "[encoded data removed]"
          },
          "metadata": {
            "needs_background": "light"
          }
        }
      ],
      "source": [
        "stacked_barplot(data, 'case_status', 'continent') ## Complete the code to plot stacked barplot for continent and case status"
      ]
    },
    {
      "cell_type": "markdown",
      "source": [
        "1. The top 3 continents with visa certified are Asia,Europe and North America.\n",
        "2. The top 3 continents with visa denied are Asia, North America and Europe"
      ],
      "metadata": {
        "id": "LIQ6fLkC5nLP"
      },
      "id": "LIQ6fLkC5nLP"
    },
    {
      "cell_type": "markdown",
      "id": "macro-decrease",
      "metadata": {
        "id": "macro-decrease"
      },
      "source": [
        "#### Experienced professionals might look abroad for opportunities to improve their lifestyles and career development. Let's see if having work experience has any influence over visa certification"
      ]
    },
    {
      "cell_type": "code",
      "execution_count": null,
      "id": "divine-dimension",
      "metadata": {
        "id": "divine-dimension",
        "colab": {
          "base_uri": "https://localhost:8080/"
        },
        "outputId": "524b674c-4ec7-4155-e790-0843da936a5a"
      },
      "outputs": [
        {
          "output_type": "stream",
          "name": "stdout",
          "text": [
            "has_job_experience      N      Y    All\n",
            "case_status                            \n",
            "All                 10678  14802  25480\n",
            "Certified            5994  11024  17018\n",
            "Denied               4684   3778   8462\n",
            "------------------------------------------------------------------------------------------------------------------------\n"
          ]
        },
        {
          "output_type": "display_data",
          "data": {
            "text/plain": [
              "<Figure size 504x360 with 1 Axes>"
            ],
            "image/png": "[encoded data removed]"
          },
          "metadata": {
            "needs_background": "light"
          }
        }
      ],
      "source": [
        "stacked_barplot(data, 'case_status', 'has_job_experience') ## Complete the code to plot stacked barplot for job experience and case status"
      ]
    },
    {
      "cell_type": "markdown",
      "source": [
        "1. Of those with job experience, 11024 were given visa, while 3778 were denied visa\n",
        "2. Of those without job experience, 5994 were given visa, while 4684 were denied visa.\n",
        "3. It is safe to say that those with work experience have a higher chance of securing visa certification."
      ],
      "metadata": {
        "id": "wbBWZG6-6ZR4"
      },
      "id": "wbBWZG6-6ZR4"
    },
    {
      "cell_type": "markdown",
      "id": "binding-charger",
      "metadata": {
        "id": "binding-charger"
      },
      "source": [
        "#### Do the employees who have prior work experience require any job training?"
      ]
    },
    {
      "cell_type": "code",
      "execution_count": null,
      "id": "temporal-dairy",
      "metadata": {
        "id": "temporal-dairy",
        "colab": {
          "base_uri": "https://localhost:8080/"
        },
        "outputId": "cc11069b-aff7-42cf-ad24-bf507c83fd0e"
      },
      "outputs": [
        {
          "output_type": "stream",
          "name": "stdout",
          "text": [
            "has_job_experience         N      Y    All\n",
            "requires_job_training                     \n",
            "All                    10678  14802  25480\n",
            "N                       8988  13537  22525\n",
            "Y                       1690   1265   2955\n",
            "------------------------------------------------------------------------------------------------------------------------\n"
          ]
        },
        {
          "output_type": "display_data",
          "data": {
            "text/plain": [
              "<Figure size 504x360 with 1 Axes>"
            ],
            "image/png": "[encoded data removed]"
          },
          "metadata": {
            "needs_background": "light"
          }
        }
      ],
      "source": [
        "stacked_barplot(data, 'requires_job_training', 'has_job_experience') ## Complete the code to plot stacked barplot for job experience and requires_job_training"
      ]
    },
    {
      "cell_type": "markdown",
      "source": [],
      "metadata": {
        "id": "-cHmjRc08l6o"
      },
      "id": "-cHmjRc08l6o"
    },
    {
      "cell_type": "markdown",
      "source": [
        "1. Out of 14,802 with work experience, 13,537 do not require job trianing but 1265 require job training.\n",
        "2. Out of 10678 without work experience, 8988 do not require job training, but 1690 require job training"
      ],
      "metadata": {
        "id": "vg1YX_RU8mgU"
      },
      "id": "vg1YX_RU8mgU"
    },
    {
      "cell_type": "markdown",
      "id": "lesser-bacteria",
      "metadata": {
        "id": "lesser-bacteria"
      },
      "source": [
        "#### The US government has established a prevailing wage to protect local talent and foreign workers. Let's analyze the data and see if the visa status changes with the prevailing wage"
      ]
    },
    {
      "cell_type": "code",
      "execution_count": null,
      "id": "perfect-haiti",
      "metadata": {
        "id": "perfect-haiti",
        "colab": {
          "base_uri": "https://localhost:8080/"
        },
        "outputId": "65a8dd5d-c4a8-462b-de4d-74c0d0ac6790"
      },
      "outputs": [
        {
          "output_type": "display_data",
          "data": {
            "text/plain": [
              "<Figure size 864x720 with 4 Axes>"
            ],
            "image/png": "[encoded data removed]"
          },
          "metadata": {
            "needs_background": "light"
          }
        }
      ],
      "source": [
        "distribution_plot_wrt_target(data, 'case_status', 'prevailing_wage') ## Complete the code to find distribution of prevailing wage and case status"
      ]
    },
    {
      "cell_type": "markdown",
      "source": [],
      "metadata": {
        "id": "CxJVPX_X_tjk"
      },
      "id": "CxJVPX_X_tjk"
    },
    {
      "cell_type": "markdown",
      "source": [
        "1. The distribution shows an overlap\n",
        "2. The differnce in high prevailing wages in visa certification and denial are really close.\n",
        "3. Those with low prevailing wages were still denied visa.\n",
        "4. It is safe to say prevailing wage has very little or nothing to do with visa status."
      ],
      "metadata": {
        "id": "tFYrwoNA_tzJ"
      },
      "id": "tFYrwoNA_tzJ"
    },
    {
      "cell_type": "markdown",
      "id": "changing-kansas",
      "metadata": {
        "id": "changing-kansas"
      },
      "source": [
        "#### Checking if the prevailing wage is similar across all the regions of the US"
      ]
    },
    {
      "cell_type": "code",
      "execution_count": null,
      "id": "dangerous-pride",
      "metadata": {
        "id": "dangerous-pride",
        "colab": {
          "base_uri": "https://localhost:8080/"
        },
        "outputId": "3f1dbd8b-6de1-4718-977f-5033f26c3589"
      },
      "outputs": [
        {
          "output_type": "display_data",
          "data": {
            "text/plain": [
              "<Figure size 720x360 with 1 Axes>"
            ],
            "image/png": "[encoded data removed]"
          },
          "metadata": {
            "needs_background": "light"
          }
        }
      ],
      "source": [
        "plt.figure(figsize=(10, 5))\n",
        "sns.boxplot(data=data, x='prevailing_wage', y='region_of_employment') ## Complete the code to create boxplot for region of employment and prevailing wage\n",
        "plt.show()"
      ]
    },
    {
      "cell_type": "markdown",
      "source": [
        "1. The distribution shows an overlap.\n",
        "2. The median prevailing wage increases across regions from west to the island.\n",
        "3. The distribution contains some outliers."
      ],
      "metadata": {
        "id": "ktaA8gjqCK8d"
      },
      "id": "ktaA8gjqCK8d"
    },
    {
      "cell_type": "markdown",
      "id": "suspected-asthma",
      "metadata": {
        "id": "suspected-asthma"
      },
      "source": [
        "#### The prevailing wage has different units (Hourly, Weekly, etc). Let's find out if it has any impact on visa applications getting certified."
      ]
    },
    {
      "cell_type": "code",
      "execution_count": null,
      "id": "impossible-aquatic",
      "metadata": {
        "id": "impossible-aquatic",
        "colab": {
          "base_uri": "https://localhost:8080/"
        },
        "outputId": "0641406f-51cf-440d-8991-9d92dad370f5"
      },
      "outputs": [
        {
          "output_type": "stream",
          "name": "stdout",
          "text": [
            "unit_of_wage  Hour  Month  Week   Year    All\n",
            "case_status                                  \n",
            "All           2157     89   272  22962  25480\n",
            "Certified      747     55   169  16047  17018\n",
            "Denied        1410     34   103   6915   8462\n",
            "------------------------------------------------------------------------------------------------------------------------\n"
          ]
        },
        {
          "output_type": "display_data",
          "data": {
            "text/plain": [
              "<Figure size 504x360 with 1 Axes>"
            ],
            "image/png": "[encoded data removed]"
          },
          "metadata": {
            "needs_background": "light"
          }
        }
      ],
      "source": [
        "stacked_barplot(data, 'case_status', 'unit_of_wage') ## Complete the code to plot stacked barplot for unit of wage and case status"
      ]
    },
    {
      "cell_type": "markdown",
      "source": [
        "The yearly unit of wage has the highest count of both visa certification and visa denial, followed by the hourly unit."
      ],
      "metadata": {
        "id": "e0zxdWm6DFJm"
      },
      "id": "e0zxdWm6DFJm"
    },
    {
      "cell_type": "markdown",
      "source": [
        "## Data Preprocessing"
      ],
      "metadata": {
        "id": "icaAgO2siAcs"
      },
      "id": "icaAgO2siAcs"
    },
    {
      "cell_type": "markdown",
      "id": "allied-association",
      "metadata": {
        "id": "allied-association"
      },
      "source": [
        "### Outlier Check\n",
        "\n",
        "- Let's check for outliers in the data."
      ]
    },
    {
      "cell_type": "code",
      "execution_count": null,
      "id": "certified-complaint",
      "metadata": {
        "id": "certified-complaint",
        "colab": {
          "base_uri": "https://localhost:8080/"
        },
        "outputId": "d47b4a21-eed6-45f4-8d50-4c120118546c"
      },
      "outputs": [
        {
          "output_type": "display_data",
          "data": {
            "text/plain": [
              "<Figure size 1080x864 with 3 Axes>"
            ],
            "image/png": "[encoded data removed]"
          },
          "metadata": {
            "needs_background": "light"
          }
        }
      ],
      "source": [
        "# outlier detection using boxplot\n",
        "numeric_columns = data.select_dtypes(include=np.number).columns.tolist()\n",
        "\n",
        "\n",
        "plt.figure(figsize=(15, 12))\n",
        "\n",
        "for i, variable in enumerate(numeric_columns):\n",
        "    plt.subplot(4, 4, i+1)\n",
        "    plt.boxplot(data[variable], whis=1.5)\n",
        "    plt.tight_layout()\n",
        "    plt.title(variable) ## Complete the code to create boxplots for all the numeric columns\n",
        "plt.show()"
      ]
    },
    {
      "cell_type": "markdown",
      "source": [
        "1. There are outliers in the distribution\n",
        "2. We will not treat them, because they are proper values."
      ],
      "metadata": {
        "id": "VungLdN-Fsfe"
      },
      "id": "VungLdN-Fsfe"
    },
    {
      "cell_type": "markdown",
      "id": "flexible-independence",
      "metadata": {
        "id": "flexible-independence"
      },
      "source": [
        "### Data Preparation for modeling\n",
        "\n",
        "- We want to predict which visa will be certified.\n",
        "- Before we proceed to build a model, we'll have to encode categorical features.\n",
        "- We'll split the data into train and test to be able to evaluate the model that we build on the train data."
      ]
    },
    {
      "cell_type": "code",
      "execution_count": null,
      "id": "genuine-evening",
      "metadata": {
        "id": "genuine-evening"
      },
      "outputs": [],
      "source": [
        "data[\"case_status\"] = data[\"case_status\"].apply(lambda x: 1 if x == \"Certified\" else 0)\n",
        "\n",
        "X = data.drop('case_status', axis=1) ## Complete the code to drop case status from the data\n",
        "Y = data[\"case_status\"]\n",
        "\n",
        "\n",
        "X = pd.get_dummies(X, drop_first=True)  ## Complete the code to create dummies for X\n",
        "\n",
        "# Splitting data in train and test sets\n",
        "X_train, X_test, y_train, y_test = train_test_split(X, Y, random_state=1, stratify=Y) ## Complete the code to split the data into train and test in the ratio 70:30"
      ]
    },
    {
      "cell_type": "code",
      "execution_count": null,
      "id": "empty-typing",
      "metadata": {
        "id": "empty-typing",
        "colab": {
          "base_uri": "https://localhost:8080/"
        },
        "outputId": "14dc96f4-392b-4c7d-ef90-206d322bd10e"
      },
      "outputs": [
        {
          "output_type": "stream",
          "name": "stdout",
          "text": [
            "Shape of Training set :  (19110, 21)\n",
            "Shape of test set :  (6370, 21)\n",
            "Percentage of classes in training set:\n",
            "1    0.66787\n",
            "0    0.33213\n",
            "Name: case_status, dtype: float64\n",
            "Percentage of classes in test set:\n",
            "1    0.667975\n",
            "0    0.332025\n",
            "Name: case_status, dtype: float64\n"
          ]
        }
      ],
      "source": [
        "print(\"Shape of Training set : \", X_train.shape)\n",
        "print(\"Shape of test set : \", X_test.shape)\n",
        "print(\"Percentage of classes in training set:\")\n",
        "print(y_train.value_counts(normalize=True))\n",
        "print(\"Percentage of classes in test set:\")\n",
        "print(y_test.value_counts(normalize=True))"
      ]
    },
    {
      "cell_type": "markdown",
      "source": [
        "1. We have 19110 observations in the train set and 6370 observations in the test set.\n",
        "2. 100% of classes are both on the training and test sets"
      ],
      "metadata": {
        "id": "OhnGJaZGMB6R"
      },
      "id": "OhnGJaZGMB6R"
    },
    {
      "cell_type": "markdown",
      "source": [],
      "metadata": {
        "id": "uv10eeTGDDjK"
      },
      "id": "uv10eeTGDDjK"
    },
    {
      "cell_type": "markdown",
      "source": [
        "## Model evaluation criterion"
      ],
      "metadata": {
        "id": "teKIRZIDdzpK"
      },
      "id": "teKIRZIDdzpK"
    },
    {
      "cell_type": "markdown",
      "id": "71450807",
      "metadata": {
        "id": "71450807"
      },
      "source": [
        "### Model can make wrong predictions as:\n",
        "\n",
        "1. Model predicts that the visa application will get certified but in reality, the visa application should get denied.\n",
        "2. Model predicts that the visa application will not get certified but in reality, the visa application should get certified.\n",
        "\n",
        "### Which case is more important?\n",
        "* Both the cases are important as:\n",
        "\n",
        "* If a visa is certified when it had to be denied a wrong employee will get the job position while US citizens will miss the opportunity to work on that position.\n",
        "\n",
        "* If a visa is denied when it had to be certified the U.S. will lose a suitable human resource that can contribute to the economy.\n",
        "\n",
        "\n",
        "\n",
        "### How to reduce the losses?\n",
        "\n",
        "* `F1 Score` can be used a the metric for evaluation of the model, greater the F1  score higher are the chances of minimizing False Negatives and False Positives.\n",
        "* We will use balanced class weights so that model focuses equally on both classes."
      ]
    },
    {
      "cell_type": "markdown",
      "id": "capital-charlotte",
      "metadata": {
        "id": "capital-charlotte"
      },
      "source": [
        "**First, let's create functions to calculate different metrics and confusion matrix so that we don't have to use the same code repeatedly for each model.**\n",
        "* The model_performance_classification_sklearn function will be used to check the model performance of models.\n",
        "* The confusion_matrix_sklearn function will be used to plot the confusion matrix."
      ]
    },
    {
      "cell_type": "code",
      "execution_count": null,
      "id": "mexican-database",
      "metadata": {
        "id": "mexican-database"
      },
      "outputs": [],
      "source": [
        "# defining a function to compute different metrics to check performance of a classification model built using sklearn\n",
        "\n",
        "\n",
        "def model_performance_classification_sklearn(model, predictors, target):\n",
        "    \"\"\"\n",
        "    Function to compute different metrics to check classification model performance\n",
        "\n",
        "    model: classifier\n",
        "    predictors: independent variables\n",
        "    target: dependent variable\n",
        "    \"\"\"\n",
        "\n",
        "    # predicting using the independent variables\n",
        "    pred = model.predict(predictors)\n",
        "\n",
        "    acc = accuracy_score(target, pred)  # to compute Accuracy\n",
        "    recall = recall_score(target, pred)  # to compute Recall\n",
        "    precision = precision_score(target, pred)  # to compute Precision\n",
        "    f1 = f1_score(target, pred)  # to compute F1-score\n",
        "\n",
        "    # creating a dataframe of metrics\n",
        "    df_perf = pd.DataFrame(\n",
        "        {\"Accuracy\": acc, \"Recall\": recall, \"Precision\": precision, \"F1\": f1,},\n",
        "        index=[0],\n",
        "    )\n",
        "\n",
        "    return df_perf"
      ]
    },
    {
      "cell_type": "code",
      "execution_count": null,
      "id": "recreational-topic",
      "metadata": {
        "id": "recreational-topic"
      },
      "outputs": [],
      "source": [
        "def confusion_matrix_sklearn(model, predictors, target):\n",
        "    \"\"\"\n",
        "    To plot the confusion_matrix with percentages\n",
        "\n",
        "    model: classifier\n",
        "    predictors: independent variables\n",
        "    target: dependent variable\n",
        "    \"\"\"\n",
        "    y_pred = model.predict(predictors)\n",
        "    cm = confusion_matrix(target, y_pred)\n",
        "    labels = np.asarray(\n",
        "        [\n",
        "            [\"{0:0.0f}\".format(item) + \"\\n{0:.2%}\".format(item / cm.flatten().sum())]\n",
        "            for item in cm.flatten()\n",
        "        ]\n",
        "    ).reshape(2, 2)\n",
        "\n",
        "    plt.figure(figsize=(6, 4))\n",
        "    sns.heatmap(cm, annot=labels, fmt=\"\")\n",
        "    plt.ylabel(\"True label\")\n",
        "    plt.xlabel(\"Predicted label\")"
      ]
    },
    {
      "cell_type": "markdown",
      "source": [
        "## Decision Tree - Model Building and Hyperparameter Tuning"
      ],
      "metadata": {
        "id": "ICezcLI4iL0a"
      },
      "id": "ICezcLI4iL0a"
    },
    {
      "cell_type": "markdown",
      "id": "blank-ballet",
      "metadata": {
        "id": "blank-ballet"
      },
      "source": [
        "### Decision Tree Model"
      ]
    },
    {
      "cell_type": "code",
      "execution_count": null,
      "id": "hourly-hormone",
      "metadata": {
        "id": "hourly-hormone",
        "colab": {
          "base_uri": "https://localhost:8080/"
        },
        "outputId": "5ea38ec1-3d88-4fa2-db16-6fe7bceff490"
      },
      "outputs": [
        {
          "output_type": "execute_result",
          "data": {
            "text/plain": [
              "DecisionTreeClassifier(random_state=1)"
            ]
          },
          "metadata": {},
          "execution_count": 46
        }
      ],
      "source": [
        "\n",
        "model = DecisionTreeClassifier(random_state=1) ## Complete the code to define decision tree classifier with random state = 1\n",
        "model.fit(X_train, y_train) ## Complete the code to fit decision tree classifier on the train data"
      ]
    },
    {
      "cell_type": "markdown",
      "id": "increasing-diversity",
      "metadata": {
        "id": "increasing-diversity"
      },
      "source": [
        "#### Checking model performance on training set"
      ]
    },
    {
      "cell_type": "code",
      "execution_count": null,
      "id": "irish-noise",
      "metadata": {
        "id": "irish-noise",
        "colab": {
          "base_uri": "https://localhost:8080/",
          "height": 279
        },
        "outputId": "fc09f78f-10ce-4fa0-dfa6-53208803cbe8"
      },
      "outputs": [
        {
          "output_type": "display_data",
          "data": {
            "text/plain": [
              "<Figure size 432x288 with 2 Axes>"
            ],
            "image/png": "[encoded data removed]"
          },
          "metadata": {
            "needs_background": "light"
          }
        }
      ],
      "source": [
        "confusion_matrix_sklearn(model, X_train, y_train) ## Complete the code to create confusion matrix for train data"
      ]
    },
    {
      "cell_type": "code",
      "execution_count": null,
      "id": "multiple-union",
      "metadata": {
        "id": "multiple-union",
        "colab": {
          "base_uri": "https://localhost:8080/",
          "height": 81
        },
        "outputId": "ba970ef2-8b17-4b72-9f69-0212ea1124a7"
      },
      "outputs": [
        {
          "output_type": "execute_result",
          "data": {
            "text/plain": [
              "   Accuracy  Recall  Precision   F1\n",
              "0       1.0     1.0        1.0  1.0"
            ],
            "text/html": [
              "\n",
              "  <div id=\"df-65dcd579-8f80-4775-8564-7c541290c883\">\n",
              "    <div class=\"colab-df-container\">\n",
              "      <div>\n",
              "<style scoped>\n",
              "    .dataframe tbody tr th:only-of-type {\n",
              "        vertical-align: middle;\n",
              "    }\n",
              "\n",
              "    .dataframe tbody tr th {\n",
              "        vertical-align: top;\n",
              "    }\n",
              "\n",
              "    .dataframe thead th {\n",
              "        text-align: right;\n",
              "    }\n",
              "</style>\n",
              "<table border=\"1\" class=\"dataframe\">\n",
              "  <thead>\n",
              "    <tr style=\"text-align: right;\">\n",
              "      <th></th>\n",
              "      <th>Accuracy</th>\n",
              "      <th>Recall</th>\n",
              "      <th>Precision</th>\n",
              "      <th>F1</th>\n",
              "    </tr>\n",
              "  </thead>\n",
              "  <tbody>\n",
              "    <tr>\n",
              "      <th>0</th>\n",
              "      <td>1.0</td>\n",
              "      <td>1.0</td>\n",
              "      <td>1.0</td>\n",
              "      <td>1.0</td>\n",
              "    </tr>\n",
              "  </tbody>\n",
              "</table>\n",
              "</div>\n",
              "      <button class=\"colab-df-convert\" onclick=\"convertToInteractive('df-65dcd579-8f80-4775-8564-7c541290c883')\"\n",
              "              title=\"Convert this dataframe to an interactive table.\"\n",
              "              style=\"display:none;\">\n",
              "        \n",
              "  <svg xmlns=\"http://www.w3.org/2000/svg\" height=\"24px\"viewBox=\"0 0 24 24\"\n",
              "       width=\"24px\">\n",
              "    <path d=\"M0 0h24v24H0V0z\" fill=\"none\"/>\n",
              "    <path d=\"M18.56 5.44l.94 2.06.94-2.06 2.06-.94-2.06-.94-.94-2.06-.94 2.06-2.06.94zm-11 1L8.5 8.5l.94-2.06 2.06-.94-2.06-.94L8.5 2.5l-.94 2.06-2.06.94zm10 10l.94 2.06.94-2.06 2.06-.94-2.06-.94-.94-2.06-.94 2.06-2.06.94z\"/><path d=\"M17.41 7.96l-1.37-1.37c-.4-.4-.92-.59-1.43-.59-.52 0-1.04.2-1.43.59L10.3 9.45l-7.72 7.72c-.78.78-.78 2.05 0 2.83L4 21.41c.39.39.9.59 1.41.59.51 0 1.02-.2 1.41-.59l7.78-7.78 2.81-2.81c.8-.78.8-2.07 0-2.86zM5.41 20L4 18.59l7.72-7.72 1.47 1.35L5.41 20z\"/>\n",
              "  </svg>\n",
              "      </button>\n",
              "      \n",
              "  <style>\n",
              "    .colab-df-container {\n",
              "      display:flex;\n",
              "      flex-wrap:wrap;\n",
              "      gap: 12px;\n",
              "    }\n",
              "\n",
              "    .colab-df-convert {\n",
              "      background-color: #E8F0FE;\n",
              "      border: none;\n",
              "      border-radius: 50%;\n",
              "      cursor: pointer;\n",
              "      display: none;\n",
              "      fill: #1967D2;\n",
              "      height: 32px;\n",
              "      padding: 0 0 0 0;\n",
              "      width: 32px;\n",
              "    }\n",
              "\n",
              "    .colab-df-convert:hover {\n",
              "      background-color: #E2EBFA;\n",
              "      box-shadow: 0px 1px 2px rgba(60, 64, 67, 0.3), 0px 1px 3px 1px rgba(60, 64, 67, 0.15);\n",
              "      fill: #174EA6;\n",
              "    }\n",
              "\n",
              "    [theme=dark] .colab-df-convert {\n",
              "      background-color: #3B4455;\n",
              "      fill: #D2E3FC;\n",
              "    }\n",
              "\n",
              "    [theme=dark] .colab-df-convert:hover {\n",
              "      background-color: #434B5C;\n",
              "      box-shadow: 0px 1px 3px 1px rgba(0, 0, 0, 0.15);\n",
              "      filter: drop-shadow(0px 1px 2px rgba(0, 0, 0, 0.3));\n",
              "      fill: #FFFFFF;\n",
              "    }\n",
              "  </style>\n",
              "\n",
              "      <script>\n",
              "        const buttonEl =\n",
              "          document.querySelector('#df-65dcd579-8f80-4775-8564-7c541290c883 button.colab-df-convert');\n",
              "        buttonEl.style.display =\n",
              "          google.colab.kernel.accessAllowed ? 'block' : 'none';\n",
              "\n",
              "        async function convertToInteractive(key) {\n",
              "          const element = document.querySelector('#df-65dcd579-8f80-4775-8564-7c541290c883');\n",
              "          const dataTable =\n",
              "            await google.colab.kernel.invokeFunction('convertToInteractive',\n",
              "                                                     [key], {});\n",
              "          if (!dataTable) return;\n",
              "\n",
              "          const docLinkHtml = 'Like what you see? Visit the ' +\n",
              "            '<a target=\"_blank\" href=https://colab.research.google.com/notebooks/data_table.ipynb>data table notebook</a>'\n",
              "            + ' to learn more about interactive tables.';\n",
              "          element.innerHTML = '';\n",
              "          dataTable['output_type'] = 'display_data';\n",
              "          await google.colab.output.renderOutput(dataTable, element);\n",
              "          const docLink = document.createElement('div');\n",
              "          docLink.innerHTML = docLinkHtml;\n",
              "          element.appendChild(docLink);\n",
              "        }\n",
              "      </script>\n",
              "    </div>\n",
              "  </div>\n",
              "  "
            ]
          },
          "metadata": {},
          "execution_count": 49
        }
      ],
      "source": [
        "decision_tree_perf_train = model_performance_classification_sklearn(model, X_train, y_train) ## Complete the code to check performance on train data\n",
        "decision_tree_perf_train"
      ]
    },
    {
      "cell_type": "markdown",
      "id": "material-reduction",
      "metadata": {
        "id": "material-reduction"
      },
      "source": [
        "#### Checking model performance on test set"
      ]
    },
    {
      "cell_type": "code",
      "execution_count": null,
      "id": "touched-survey",
      "metadata": {
        "id": "touched-survey",
        "colab": {
          "base_uri": "https://localhost:8080/",
          "height": 279
        },
        "outputId": "c3824eca-c110-4275-d479-e518cfe76c84"
      },
      "outputs": [
        {
          "output_type": "display_data",
          "data": {
            "text/plain": [
              "<Figure size 432x288 with 2 Axes>"
            ],
            "image/png": "[encoded data removed]"
          },
          "metadata": {
            "needs_background": "light"
          }
        }
      ],
      "source": [
        "confusion_matrix_sklearn(model, X_test, y_test) ## Complete the code to create confusion matrix for test data"
      ]
    },
    {
      "cell_type": "code",
      "execution_count": null,
      "id": "perceived-memorial",
      "metadata": {
        "id": "perceived-memorial",
        "colab": {
          "base_uri": "https://localhost:8080/",
          "height": 81
        },
        "outputId": "19e0569e-7010-4c44-f2af-2c33bdbff01d"
      },
      "outputs": [
        {
          "output_type": "execute_result",
          "data": {
            "text/plain": [
              "   Accuracy   Recall  Precision        F1\n",
              "0  0.652433  0.73678    0.74131  0.739038"
            ],
            "text/html": [
              "\n",
              "  <div id=\"df-3153f635-2a94-4405-8a82-9f7eda7a5079\">\n",
              "    <div class=\"colab-df-container\">\n",
              "      <div>\n",
              "<style scoped>\n",
              "    .dataframe tbody tr th:only-of-type {\n",
              "        vertical-align: middle;\n",
              "    }\n",
              "\n",
              "    .dataframe tbody tr th {\n",
              "        vertical-align: top;\n",
              "    }\n",
              "\n",
              "    .dataframe thead th {\n",
              "        text-align: right;\n",
              "    }\n",
              "</style>\n",
              "<table border=\"1\" class=\"dataframe\">\n",
              "  <thead>\n",
              "    <tr style=\"text-align: right;\">\n",
              "      <th></th>\n",
              "      <th>Accuracy</th>\n",
              "      <th>Recall</th>\n",
              "      <th>Precision</th>\n",
              "      <th>F1</th>\n",
              "    </tr>\n",
              "  </thead>\n",
              "  <tbody>\n",
              "    <tr>\n",
              "      <th>0</th>\n",
              "      <td>0.652433</td>\n",
              "      <td>0.73678</td>\n",
              "      <td>0.74131</td>\n",
              "      <td>0.739038</td>\n",
              "    </tr>\n",
              "  </tbody>\n",
              "</table>\n",
              "</div>\n",
              "      <button class=\"colab-df-convert\" onclick=\"convertToInteractive('df-3153f635-2a94-4405-8a82-9f7eda7a5079')\"\n",
              "              title=\"Convert this dataframe to an interactive table.\"\n",
              "              style=\"display:none;\">\n",
              "        \n",
              "  <svg xmlns=\"http://www.w3.org/2000/svg\" height=\"24px\"viewBox=\"0 0 24 24\"\n",
              "       width=\"24px\">\n",
              "    <path d=\"M0 0h24v24H0V0z\" fill=\"none\"/>\n",
              "    <path d=\"M18.56 5.44l.94 2.06.94-2.06 2.06-.94-2.06-.94-.94-2.06-.94 2.06-2.06.94zm-11 1L8.5 8.5l.94-2.06 2.06-.94-2.06-.94L8.5 2.5l-.94 2.06-2.06.94zm10 10l.94 2.06.94-2.06 2.06-.94-2.06-.94-.94-2.06-.94 2.06-2.06.94z\"/><path d=\"M17.41 7.96l-1.37-1.37c-.4-.4-.92-.59-1.43-.59-.52 0-1.04.2-1.43.59L10.3 9.45l-7.72 7.72c-.78.78-.78 2.05 0 2.83L4 21.41c.39.39.9.59 1.41.59.51 0 1.02-.2 1.41-.59l7.78-7.78 2.81-2.81c.8-.78.8-2.07 0-2.86zM5.41 20L4 18.59l7.72-7.72 1.47 1.35L5.41 20z\"/>\n",
              "  </svg>\n",
              "      </button>\n",
              "      \n",
              "  <style>\n",
              "    .colab-df-container {\n",
              "      display:flex;\n",
              "      flex-wrap:wrap;\n",
              "      gap: 12px;\n",
              "    }\n",
              "\n",
              "    .colab-df-convert {\n",
              "      background-color: #E8F0FE;\n",
              "      border: none;\n",
              "      border-radius: 50%;\n",
              "      cursor: pointer;\n",
              "      display: none;\n",
              "      fill: #1967D2;\n",
              "      height: 32px;\n",
              "      padding: 0 0 0 0;\n",
              "      width: 32px;\n",
              "    }\n",
              "\n",
              "    .colab-df-convert:hover {\n",
              "      background-color: #E2EBFA;\n",
              "      box-shadow: 0px 1px 2px rgba(60, 64, 67, 0.3), 0px 1px 3px 1px rgba(60, 64, 67, 0.15);\n",
              "      fill: #174EA6;\n",
              "    }\n",
              "\n",
              "    [theme=dark] .colab-df-convert {\n",
              "      background-color: #3B4455;\n",
              "      fill: #D2E3FC;\n",
              "    }\n",
              "\n",
              "    [theme=dark] .colab-df-convert:hover {\n",
              "      background-color: #434B5C;\n",
              "      box-shadow: 0px 1px 3px 1px rgba(0, 0, 0, 0.15);\n",
              "      filter: drop-shadow(0px 1px 2px rgba(0, 0, 0, 0.3));\n",
              "      fill: #FFFFFF;\n",
              "    }\n",
              "  </style>\n",
              "\n",
              "      <script>\n",
              "        const buttonEl =\n",
              "          document.querySelector('#df-3153f635-2a94-4405-8a82-9f7eda7a5079 button.colab-df-convert');\n",
              "        buttonEl.style.display =\n",
              "          google.colab.kernel.accessAllowed ? 'block' : 'none';\n",
              "\n",
              "        async function convertToInteractive(key) {\n",
              "          const element = document.querySelector('#df-3153f635-2a94-4405-8a82-9f7eda7a5079');\n",
              "          const dataTable =\n",
              "            await google.colab.kernel.invokeFunction('convertToInteractive',\n",
              "                                                     [key], {});\n",
              "          if (!dataTable) return;\n",
              "\n",
              "          const docLinkHtml = 'Like what you see? Visit the ' +\n",
              "            '<a target=\"_blank\" href=https://colab.research.google.com/notebooks/data_table.ipynb>data table notebook</a>'\n",
              "            + ' to learn more about interactive tables.';\n",
              "          element.innerHTML = '';\n",
              "          dataTable['output_type'] = 'display_data';\n",
              "          await google.colab.output.renderOutput(dataTable, element);\n",
              "          const docLink = document.createElement('div');\n",
              "          docLink.innerHTML = docLinkHtml;\n",
              "          element.appendChild(docLink);\n",
              "        }\n",
              "      </script>\n",
              "    </div>\n",
              "  </div>\n",
              "  "
            ]
          },
          "metadata": {},
          "execution_count": 51
        }
      ],
      "source": [
        "decision_tree_perf_test = model_performance_classification_sklearn(model, X_test, y_test) ## Complete the code to check performance for test data\n",
        "decision_tree_perf_test"
      ]
    },
    {
      "cell_type": "markdown",
      "id": "protected-romantic",
      "metadata": {
        "id": "protected-romantic"
      },
      "source": [
        "### Hyperparameter Tuning - Decision Tree"
      ]
    },
    {
      "cell_type": "code",
      "execution_count": null,
      "id": "tested-building",
      "metadata": {
        "id": "tested-building"
      },
      "outputs": [],
      "source": [
        "# Choose the type of classifier.\n",
        "dtree_estimator = DecisionTreeClassifier(class_weight=\"balanced\", random_state=1)\n",
        "\n",
        "# Grid of parameters to choose from\n",
        "parameters = {\n",
        "    \"max_depth\": np.arange(5, 16, 5),\n",
        "    \"min_samples_leaf\": [3, 5, 7],\n",
        "    \"max_leaf_nodes\": [2, 5],\n",
        "    \"min_impurity_decrease\": [0.0001, 0.001],\n",
        "}\n",
        "\n",
        "# Type of scoring used to compare parameter combinations\n",
        "scorer = metrics.make_scorer(metrics.f1_score)\n",
        "\n",
        "# Run the grid search\n",
        "grid_obj = GridSearchCV(dtree_estimator, parameters, scoring=scorer, cv=5) ## Complete the code to run grid search with n_jobs = -1\n",
        "\n",
        "grid_obj = grid_obj.fit(X_train, y_train) ## Complete the code to fit the grid_obj on the train data\n",
        "\n",
        "# Set the clf to the best combination of parameters\n",
        "dtree_estimator = grid_obj.best_estimator_\n",
        "\n",
        "# Fit the best algorithm to the data.\n",
        "dtree_estimator.fit(X_train, y_train)"
      ]
    },
    {
      "cell_type": "code",
      "execution_count": null,
      "id": "affected-thailand",
      "metadata": {
        "id": "affected-thailand"
      },
      "outputs": [],
      "source": [
        "'_______' ## Complete the code to create confusion matrix for train data on tuned estimator"
      ]
    },
    {
      "cell_type": "code",
      "execution_count": null,
      "id": "enormous-hunger",
      "metadata": {
        "id": "enormous-hunger"
      },
      "outputs": [],
      "source": [
        "dtree_estimator_model_train_perf = model_performance_classification_sklearn('_______') ## Complete the code to check performance for train data on tuned estimator\n",
        "dtree_estimator_model_train_perf"
      ]
    },
    {
      "cell_type": "code",
      "execution_count": null,
      "id": "stone-maker",
      "metadata": {
        "id": "stone-maker"
      },
      "outputs": [],
      "source": [
        "'_______' ## Complete the code to create confusion matrix for test data on tuned estimator"
      ]
    },
    {
      "cell_type": "code",
      "execution_count": null,
      "id": "together-pittsburgh",
      "metadata": {
        "id": "together-pittsburgh"
      },
      "outputs": [],
      "source": [
        "dtree_estimator_model_test_perf = model_performance_classification_sklearn('_______') ## Complete the code to check performance for test data on tuned estimator\n",
        "dtree_estimator_model_test_perf"
      ]
    },
    {
      "cell_type": "markdown",
      "source": [
        "## Bagging - Model Building and Hyperparameter Tuning"
      ],
      "metadata": {
        "id": "FnQnoNOCiSwl"
      },
      "id": "FnQnoNOCiSwl"
    },
    {
      "cell_type": "markdown",
      "id": "aging-corruption",
      "metadata": {
        "id": "aging-corruption"
      },
      "source": [
        "### Bagging Classifier"
      ]
    },
    {
      "cell_type": "code",
      "execution_count": null,
      "id": "postal-angle",
      "metadata": {
        "id": "postal-angle"
      },
      "outputs": [],
      "source": [
        "bagging_classifier = '_______' ## Complete the code to define bagging classifier with random state = 1\n",
        "bagging_classifier.'_______' ## Complete the code to fit bagging classifier on the train data"
      ]
    },
    {
      "cell_type": "markdown",
      "id": "suffering-growing",
      "metadata": {
        "id": "suffering-growing"
      },
      "source": [
        "#### Checking model performance on training set"
      ]
    },
    {
      "cell_type": "code",
      "execution_count": null,
      "id": "extraordinary-festival",
      "metadata": {
        "id": "extraordinary-festival"
      },
      "outputs": [],
      "source": [
        "'_______' ## Complete the code to create confusion matrix for train data"
      ]
    },
    {
      "cell_type": "code",
      "execution_count": null,
      "id": "further-yemen",
      "metadata": {
        "id": "further-yemen"
      },
      "outputs": [],
      "source": [
        "bagging_classifier_model_train_perf = model_performance_classification_sklearn('_______') ## Complete the code to check performance on train data\n",
        "bagging_classifier_model_train_perf"
      ]
    },
    {
      "cell_type": "markdown",
      "id": "verified-obligation",
      "metadata": {
        "id": "verified-obligation"
      },
      "source": [
        "#### Checking model performance on test set"
      ]
    },
    {
      "cell_type": "code",
      "execution_count": null,
      "id": "weird-wesley",
      "metadata": {
        "id": "weird-wesley"
      },
      "outputs": [],
      "source": [
        "'_______' ## Complete the code to create confusion matrix for test data"
      ]
    },
    {
      "cell_type": "code",
      "execution_count": null,
      "id": "handy-nature",
      "metadata": {
        "id": "handy-nature"
      },
      "outputs": [],
      "source": [
        "bagging_classifier_model_test_perf = model_performance_classification_sklearn('_______') ## Complete the code to check performance for test data\n",
        "bagging_classifier_model_test_perf"
      ]
    },
    {
      "cell_type": "markdown",
      "id": "increased-civilian",
      "metadata": {
        "id": "increased-civilian"
      },
      "source": [
        "### Hyperparameter Tuning - Bagging Classifier"
      ]
    },
    {
      "cell_type": "code",
      "execution_count": null,
      "id": "coastal-jefferson",
      "metadata": {
        "id": "coastal-jefferson"
      },
      "outputs": [],
      "source": [
        "# Choose the type of classifier.\n",
        "bagging_estimator_tuned = BaggingClassifier(random_state=1)\n",
        "\n",
        "# Grid of parameters to choose from\n",
        "parameters = {\n",
        "    \"max_samples\": [0.7, 0.9],\n",
        "    \"max_features\": [0.7, 0.9],\n",
        "    \"n_estimators\": np.arange(90, 111, 10),\n",
        "}\n",
        "\n",
        "# Type of scoring used to compare parameter combinations\n",
        "acc_scorer = metrics.make_scorer(metrics.f1_score)\n",
        "\n",
        "# Run the grid search\n",
        "grid_obj = '_______' ## Complete the code to run grid search with cv = 5\n",
        "grid_obj = grid_obj.'_______' ## Complete the code to fit the grid_obj on train data\n",
        "\n",
        "# Set the clf to the best combination of parameters\n",
        "bagging_estimator_tuned = grid_obj.best_estimator_\n",
        "\n",
        "# Fit the best algorithm to the data.\n",
        "bagging_estimator_tuned.fit(X_train, y_train)"
      ]
    },
    {
      "cell_type": "markdown",
      "id": "protecting-douglas",
      "metadata": {
        "id": "protecting-douglas"
      },
      "source": [
        "#### Checking model performance on training set"
      ]
    },
    {
      "cell_type": "code",
      "execution_count": null,
      "id": "nominated-overhead",
      "metadata": {
        "id": "nominated-overhead"
      },
      "outputs": [],
      "source": [
        "'_______' ## Complete the code to create confusion matrix for train data on tuned estimator"
      ]
    },
    {
      "cell_type": "code",
      "execution_count": null,
      "id": "fundamental-newport",
      "metadata": {
        "id": "fundamental-newport"
      },
      "outputs": [],
      "source": [
        "bagging_estimator_tuned_model_train_perf = model_performance_classification_sklearn('_______') ## Complete the code to check performance for train data on tuned estimator\n",
        "bagging_estimator_tuned_model_train_perf"
      ]
    },
    {
      "cell_type": "markdown",
      "id": "elegant-bookmark",
      "metadata": {
        "id": "elegant-bookmark"
      },
      "source": [
        "#### Checking model performance on test set"
      ]
    },
    {
      "cell_type": "code",
      "execution_count": null,
      "id": "later-setup",
      "metadata": {
        "id": "later-setup"
      },
      "outputs": [],
      "source": [
        "'_______' ## Complete the code to create confusion matrix for test data on tuned estimator"
      ]
    },
    {
      "cell_type": "code",
      "execution_count": null,
      "id": "discrete-immigration",
      "metadata": {
        "id": "discrete-immigration"
      },
      "outputs": [],
      "source": [
        "bagging_estimator_tuned_model_test_perf = model_performance_classification_sklearn('_______') ## Complete the code to check performance for test data on tuned estimator\n",
        "bagging_estimator_tuned_model_test_perf"
      ]
    },
    {
      "cell_type": "markdown",
      "id": "colonial-society",
      "metadata": {
        "id": "colonial-society"
      },
      "source": [
        "### Random Forest"
      ]
    },
    {
      "cell_type": "code",
      "execution_count": null,
      "id": "outer-array",
      "metadata": {
        "id": "outer-array"
      },
      "outputs": [],
      "source": [
        "# Fitting the model\n",
        "rf_estimator = '_______' ## Complete the code to define random forest with random state = 1 and class_weight = balanced\n",
        "rf_estimator.'_______' ## Complete the code to fit random forest on the train data"
      ]
    },
    {
      "cell_type": "markdown",
      "id": "possible-vinyl",
      "metadata": {
        "id": "possible-vinyl"
      },
      "source": [
        "#### Checking model performance on training set"
      ]
    },
    {
      "cell_type": "code",
      "execution_count": null,
      "id": "nervous-ordering",
      "metadata": {
        "id": "nervous-ordering"
      },
      "outputs": [],
      "source": [
        "'_______' ## Complete the code to create confusion matrix for train data"
      ]
    },
    {
      "cell_type": "code",
      "execution_count": null,
      "id": "functioning-nigeria",
      "metadata": {
        "id": "functioning-nigeria"
      },
      "outputs": [],
      "source": [
        "# Calculating different metrics\n",
        "rf_estimator_model_train_perf = model_performance_classification_sklearn('_______') ## Complete the code to check performance on train data\n",
        "rf_estimator_model_train_perf"
      ]
    },
    {
      "cell_type": "markdown",
      "id": "theoretical-poverty",
      "metadata": {
        "id": "theoretical-poverty"
      },
      "source": [
        "#### Checking model performance on test set"
      ]
    },
    {
      "cell_type": "code",
      "execution_count": null,
      "id": "meaning-crash",
      "metadata": {
        "id": "meaning-crash"
      },
      "outputs": [],
      "source": [
        "'_______' ## Complete the code to create confusion matrix for test data"
      ]
    },
    {
      "cell_type": "code",
      "execution_count": null,
      "id": "pending-light",
      "metadata": {
        "id": "pending-light"
      },
      "outputs": [],
      "source": [
        "rf_estimator_model_test_perf = model_performance_classification_sklearn('_______') ## Complete the code to check performance for test data\n",
        "rf_estimator_model_test_perf"
      ]
    },
    {
      "cell_type": "markdown",
      "id": "beneficial-bosnia",
      "metadata": {
        "id": "beneficial-bosnia"
      },
      "source": [
        "### Hyperparameter Tuning - Random Forest"
      ]
    },
    {
      "cell_type": "code",
      "execution_count": null,
      "id": "interstate-jonathan",
      "metadata": {
        "id": "interstate-jonathan"
      },
      "outputs": [],
      "source": [
        "# Choose the type of classifier.\n",
        "rf_tuned = RandomForestClassifier(random_state=1, oob_score=True, bootstrap=True)\n",
        "\n",
        "parameters = {\n",
        "    \"max_depth\": list(np.arange(5, 15, 5)),\n",
        "    \"max_features\": [\"sqrt\", \"log2\"],\n",
        "    \"min_samples_split\": [5, 7],\n",
        "    \"n_estimators\": np.arange(15, 26, 5),\n",
        "}\n",
        "\n",
        "# Type of scoring used to compare parameter combinations\n",
        "acc_scorer = metrics.make_scorer(metrics.f1_score)\n",
        "\n",
        "# Run the grid search\n",
        "grid_obj = '_______' ## Complete the code to run grid search with cv = 5 and n_jobs = -1\n",
        "grid_obj = grid_obj.'_______' ## Complete the code to fit the grid_obj on the train data\n",
        "\n",
        "# Set the clf to the best combination of parameters\n",
        "rf_tuned = grid_obj.best_estimator_\n",
        "\n",
        "# Fit the best algorithm to the data.\n",
        "rf_tuned.fit(X_train, y_train)"
      ]
    },
    {
      "cell_type": "markdown",
      "id": "joint-appendix",
      "metadata": {
        "id": "joint-appendix"
      },
      "source": [
        "#### Checking model performance on training set"
      ]
    },
    {
      "cell_type": "code",
      "execution_count": null,
      "id": "broadband-issue",
      "metadata": {
        "id": "broadband-issue"
      },
      "outputs": [],
      "source": [
        "'_______' ## Complete the code to create confusion matrix for train data on tuned estimator"
      ]
    },
    {
      "cell_type": "code",
      "execution_count": null,
      "id": "minus-publication",
      "metadata": {
        "id": "minus-publication"
      },
      "outputs": [],
      "source": [
        "rf_tuned_model_train_perf = model_performance_classification_sklearn('_______') ## Complete the code to check performance for train data on tuned estimator\n",
        "rf_tuned_model_train_perf"
      ]
    },
    {
      "cell_type": "markdown",
      "id": "joined-newman",
      "metadata": {
        "id": "joined-newman"
      },
      "source": [
        "#### Checking model performance on test set"
      ]
    },
    {
      "cell_type": "code",
      "execution_count": null,
      "id": "higher-memphis",
      "metadata": {
        "id": "higher-memphis"
      },
      "outputs": [],
      "source": [
        "'_______' ## Complete the code to create confusion matrix for test data on tuned estimator"
      ]
    },
    {
      "cell_type": "code",
      "execution_count": null,
      "id": "processed-capital",
      "metadata": {
        "id": "processed-capital"
      },
      "outputs": [],
      "source": [
        "rf_tuned_model_test_perf = model_performance_classification_sklearn('_______') ## Complete the code to check performance for test data on tuned estimator\n",
        "rf_tuned_model_test_perf"
      ]
    },
    {
      "cell_type": "markdown",
      "source": [
        "## Boosting - Model Building and Hyperparameter Tuning"
      ],
      "metadata": {
        "id": "p33jg7JVid1H"
      },
      "id": "p33jg7JVid1H"
    },
    {
      "cell_type": "markdown",
      "id": "divine-legend",
      "metadata": {
        "id": "divine-legend"
      },
      "source": [
        "### AdaBoost Classifier"
      ]
    },
    {
      "cell_type": "code",
      "execution_count": null,
      "id": "written-chicken",
      "metadata": {
        "id": "written-chicken"
      },
      "outputs": [],
      "source": [
        "ab_classifier = '_______' ## Complete the code to define AdaBoost Classifier with random state = 1\n",
        "ab_classifier.'_______' ## Complete the code to fit AdaBoost Classifier on the train data"
      ]
    },
    {
      "cell_type": "markdown",
      "id": "grand-popularity",
      "metadata": {
        "id": "grand-popularity"
      },
      "source": [
        "#### Checking model performance on training set"
      ]
    },
    {
      "cell_type": "code",
      "execution_count": null,
      "id": "fatty-primary",
      "metadata": {
        "id": "fatty-primary"
      },
      "outputs": [],
      "source": [
        "'_______' ## Complete the code to create confusion matrix for train data"
      ]
    },
    {
      "cell_type": "code",
      "execution_count": null,
      "id": "forty-blame",
      "metadata": {
        "id": "forty-blame"
      },
      "outputs": [],
      "source": [
        "ab_classifier_model_train_perf = model_performance_classification_sklearn('_______') ## Complete the code to check performance on train data\n",
        "ab_classifier_model_train_perf"
      ]
    },
    {
      "cell_type": "markdown",
      "id": "french-breed",
      "metadata": {
        "id": "french-breed"
      },
      "source": [
        "#### Checking model performance on test set"
      ]
    },
    {
      "cell_type": "code",
      "execution_count": null,
      "id": "enormous-musical",
      "metadata": {
        "id": "enormous-musical"
      },
      "outputs": [],
      "source": [
        "'_______' ## Complete the code to create confusion matrix for test data"
      ]
    },
    {
      "cell_type": "code",
      "execution_count": null,
      "id": "detailed-promise",
      "metadata": {
        "id": "detailed-promise"
      },
      "outputs": [],
      "source": [
        "ab_classifier_model_test_perf = model_performance_classification_sklearn('_______') ## Complete the code to check performance for test data\n",
        "ab_classifier_model_test_perf"
      ]
    },
    {
      "cell_type": "markdown",
      "id": "increased-sharing",
      "metadata": {
        "id": "increased-sharing"
      },
      "source": [
        "### Hyperparameter Tuning - AdaBoost Classifier"
      ]
    },
    {
      "cell_type": "code",
      "execution_count": null,
      "id": "overall-grounds",
      "metadata": {
        "id": "overall-grounds"
      },
      "outputs": [],
      "source": [
        "# Choose the type of classifier.\n",
        "abc_tuned = AdaBoostClassifier(random_state=1)\n",
        "\n",
        "# Grid of parameters to choose from\n",
        "parameters = {\n",
        "    # Let's try different max_depth for base_estimator\n",
        "    \"base_estimator\": [\n",
        "        DecisionTreeClassifier(max_depth=1, class_weight=\"balanced\", random_state=1),\n",
        "        DecisionTreeClassifier(max_depth=2, class_weight=\"balanced\", random_state=1),\n",
        "    ],\n",
        "    \"n_estimators\": np.arange(80, 101, 10),\n",
        "    \"learning_rate\": np.arange(0.1, 0.4, 0.1),\n",
        "}\n",
        "\n",
        "# Type of scoring used to compare parameter  combinations\n",
        "acc_scorer = metrics.make_scorer(metrics.f1_score)\n",
        "\n",
        "# Run the grid search\n",
        "grid_obj = '_______' ## Complete the code to run grid search with cv = 5\n",
        "grid_obj = grid_obj.'_______' ## Complete the code to fit the grid_obj on train data\n",
        "\n",
        "# Set the clf to the best combination of parameters\n",
        "abc_tuned = grid_obj.best_estimator_\n",
        "\n",
        "# Fit the best algorithm to the data.\n",
        "abc_tuned.fit(X_train, y_train)"
      ]
    },
    {
      "cell_type": "markdown",
      "id": "adolescent-carroll",
      "metadata": {
        "id": "adolescent-carroll"
      },
      "source": [
        "#### Checking model performance on training set"
      ]
    },
    {
      "cell_type": "code",
      "execution_count": null,
      "id": "excessive-drilling",
      "metadata": {
        "id": "excessive-drilling"
      },
      "outputs": [],
      "source": [
        "'_______' ## Complete the code to create confusion matrix for train data on tuned estimator"
      ]
    },
    {
      "cell_type": "code",
      "execution_count": null,
      "id": "broadband-dealer",
      "metadata": {
        "id": "broadband-dealer"
      },
      "outputs": [],
      "source": [
        "abc_tuned_model_train_perf = model_performance_classification_sklearn('_______') ## Complete the code to check performance for train data on tuned estimator\n",
        "abc_tuned_model_train_perf"
      ]
    },
    {
      "cell_type": "markdown",
      "id": "fitting-cameroon",
      "metadata": {
        "id": "fitting-cameroon"
      },
      "source": [
        "#### Checking model performance on test set"
      ]
    },
    {
      "cell_type": "code",
      "execution_count": null,
      "id": "central-forest",
      "metadata": {
        "id": "central-forest"
      },
      "outputs": [],
      "source": [
        "'_______' ## Complete the code to create confusion matrix for test data on tuned estimator"
      ]
    },
    {
      "cell_type": "code",
      "execution_count": null,
      "id": "acting-edmonton",
      "metadata": {
        "id": "acting-edmonton"
      },
      "outputs": [],
      "source": [
        "abc_tuned_model_test_perf = model_performance_classification_sklearn('_______') ## Complete the code to check performance for test data on tuned estimator\n",
        "abc_tuned_model_test_perf"
      ]
    },
    {
      "cell_type": "markdown",
      "id": "married-terminal",
      "metadata": {
        "id": "married-terminal"
      },
      "source": [
        "### Gradient Boosting Classifier"
      ]
    },
    {
      "cell_type": "code",
      "execution_count": null,
      "id": "indian-pierre",
      "metadata": {
        "id": "indian-pierre"
      },
      "outputs": [],
      "source": [
        "gb_classifier = '_______' ## Complete the code to define Gradient Boosting Classifier with random state = 1\n",
        "gb_classifier.'_______' ## Complete the code to fit Gradient Boosting Classifier on the train data"
      ]
    },
    {
      "cell_type": "markdown",
      "id": "fiscal-language",
      "metadata": {
        "id": "fiscal-language"
      },
      "source": [
        "#### Checking model performance on training set"
      ]
    },
    {
      "cell_type": "code",
      "execution_count": null,
      "id": "soviet-orange",
      "metadata": {
        "id": "soviet-orange"
      },
      "outputs": [],
      "source": [
        "'_______' ## Complete the code to create confusion matrix for train data"
      ]
    },
    {
      "cell_type": "code",
      "execution_count": null,
      "id": "respected-belief",
      "metadata": {
        "id": "respected-belief"
      },
      "outputs": [],
      "source": [
        "gb_classifier_model_train_perf = model_performance_classification_sklearn('_______') ## Complete the code to check performance on train data\n",
        "gb_classifier_model_train_perf"
      ]
    },
    {
      "cell_type": "markdown",
      "id": "tribal-rainbow",
      "metadata": {
        "id": "tribal-rainbow"
      },
      "source": [
        "#### Checking model performance on test set"
      ]
    },
    {
      "cell_type": "code",
      "execution_count": null,
      "id": "uniform-procedure",
      "metadata": {
        "id": "uniform-procedure"
      },
      "outputs": [],
      "source": [
        "'_______' ## Complete the code to create confusion matrix for test data"
      ]
    },
    {
      "cell_type": "code",
      "execution_count": null,
      "id": "blind-apparel",
      "metadata": {
        "id": "blind-apparel"
      },
      "outputs": [],
      "source": [
        "gb_classifier_model_test_perf = model_performance_classification_sklearn('_______') ## Complete the code to check performance for test data\n",
        "gb_classifier_model_test_perf"
      ]
    },
    {
      "cell_type": "markdown",
      "id": "fuzzy-enemy",
      "metadata": {
        "id": "fuzzy-enemy"
      },
      "source": [
        "### Hyperparameter Tuning - Gradient Boosting Classifier"
      ]
    },
    {
      "cell_type": "code",
      "execution_count": null,
      "id": "based-bishop",
      "metadata": {
        "id": "based-bishop"
      },
      "outputs": [],
      "source": [
        "# Choose the type of classifier.\n",
        "gbc_tuned = GradientBoostingClassifier(\n",
        "    init=AdaBoostClassifier(random_state=1), random_state=1\n",
        ")\n",
        "\n",
        "# Grid of parameters to choose from\n",
        "parameters = {\n",
        "    \"n_estimators\": [200, 250],\n",
        "    \"subsample\": [0.9, 1],\n",
        "    \"max_features\": [0.8, 0.9],\n",
        "    \"learning_rate\": np.arange(0.1, 0.21, 0.1),\n",
        "}\n",
        "\n",
        "# Type of scoring used to compare parameter combinations\n",
        "acc_scorer = metrics.make_scorer(metrics.f1_score)\n",
        "\n",
        "# Run the grid search\n",
        "grid_obj = '_______' ## Complete the code to run grid search with cv = 5\n",
        "grid_obj = grid_obj.'_______' ## Complete the code to fit the grid_obj on train data\n",
        "\n",
        "# Set the clf to the best combination of parameters\n",
        "gbc_tuned = grid_obj.best_estimator_\n",
        "\n",
        "# Fit the best algorithm to the data.\n",
        "gbc_tuned.fit(X_train, y_train)"
      ]
    },
    {
      "cell_type": "markdown",
      "id": "standard-islam",
      "metadata": {
        "id": "standard-islam"
      },
      "source": [
        "#### Checking model performance on training set"
      ]
    },
    {
      "cell_type": "code",
      "execution_count": null,
      "id": "verbal-japanese",
      "metadata": {
        "id": "verbal-japanese"
      },
      "outputs": [],
      "source": [
        "'_______' ## Complete the code to create confusion matrix for train data on tuned estimator"
      ]
    },
    {
      "cell_type": "code",
      "execution_count": null,
      "id": "passive-accent",
      "metadata": {
        "id": "passive-accent"
      },
      "outputs": [],
      "source": [
        "gbc_tuned_model_train_perf = model_performance_classification_sklearn('_______') ## Complete the code to check performance for train data on tuned estimator\n",
        "gbc_tuned_model_train_perf"
      ]
    },
    {
      "cell_type": "markdown",
      "id": "subsequent-royalty",
      "metadata": {
        "id": "subsequent-royalty"
      },
      "source": [
        "#### Checking model performance on test set"
      ]
    },
    {
      "cell_type": "code",
      "execution_count": null,
      "id": "other-pharmaceutical",
      "metadata": {
        "id": "other-pharmaceutical"
      },
      "outputs": [],
      "source": [
        "'_______' ## Complete the code to create confusion matrix for test data on tuned estimator"
      ]
    },
    {
      "cell_type": "code",
      "execution_count": null,
      "id": "forward-perspective",
      "metadata": {
        "id": "forward-perspective"
      },
      "outputs": [],
      "source": [
        "gbc_tuned_model_test_perf = model_performance_classification_sklearn('_______') ## Complete the code to check performance for test data on tuned estimator\n",
        "gbc_tuned_model_test_perf"
      ]
    },
    {
      "cell_type": "markdown",
      "id": "1415e2a1",
      "metadata": {
        "id": "1415e2a1"
      },
      "source": [
        "### Note - You can choose **not to build** XGBoost if you have any installation issues"
      ]
    },
    {
      "cell_type": "markdown",
      "id": "superior-letter",
      "metadata": {
        "id": "superior-letter"
      },
      "source": [
        "### XGBoost Classifier"
      ]
    },
    {
      "cell_type": "code",
      "execution_count": null,
      "id": "laden-brighton",
      "metadata": {
        "id": "laden-brighton"
      },
      "outputs": [],
      "source": [
        "xgb_classifier = '_______' ## Complete the code to define XGBoost Classifier with random state = 1 and eval_metric=\"logloss\"\n",
        "xgb_classifier.'_______' ## Complete the code to fit XGBoost Classifier on the train data"
      ]
    },
    {
      "cell_type": "markdown",
      "id": "muslim-machine",
      "metadata": {
        "id": "muslim-machine"
      },
      "source": [
        "#### Checking model performance on training set"
      ]
    },
    {
      "cell_type": "code",
      "execution_count": null,
      "id": "subsequent-dividend",
      "metadata": {
        "id": "subsequent-dividend"
      },
      "outputs": [],
      "source": [
        "'_______' ## Complete the code to create confusion matrix for train data"
      ]
    },
    {
      "cell_type": "code",
      "execution_count": null,
      "id": "creative-shock",
      "metadata": {
        "id": "creative-shock"
      },
      "outputs": [],
      "source": [
        "xgb_classifier_model_train_perf = model_performance_classification_sklearn('_______') ## Complete the code to check performance on train data\n",
        "xgb_classifier_model_train_perf"
      ]
    },
    {
      "cell_type": "markdown",
      "id": "advised-rabbit",
      "metadata": {
        "id": "advised-rabbit"
      },
      "source": [
        "#### Checking model performance on test set"
      ]
    },
    {
      "cell_type": "code",
      "execution_count": null,
      "id": "intense-delhi",
      "metadata": {
        "id": "intense-delhi"
      },
      "outputs": [],
      "source": [
        "'_______' ## Complete the code to create confusion matrix for test data"
      ]
    },
    {
      "cell_type": "code",
      "execution_count": null,
      "id": "conventional-hierarchy",
      "metadata": {
        "id": "conventional-hierarchy"
      },
      "outputs": [],
      "source": [
        "xgb_classifier_model_test_perf = model_performance_classification_sklearn('_______') ## Complete the code to check performance for test data\n",
        "xgb_classifier_model_test_perf"
      ]
    },
    {
      "cell_type": "markdown",
      "id": "mobile-chosen",
      "metadata": {
        "id": "mobile-chosen"
      },
      "source": [
        "### Hyperparameter Tuning - XGBoost Classifier"
      ]
    },
    {
      "cell_type": "code",
      "execution_count": null,
      "id": "aerial-trunk",
      "metadata": {
        "id": "aerial-trunk"
      },
      "outputs": [],
      "source": [
        "# Choose the type of classifier.\n",
        "xgb_tuned = XGBClassifier(random_state=1, eval_metric=\"logloss\")\n",
        "\n",
        "# Grid of parameters to choose from\n",
        "parameters = {\n",
        "    \"n_estimators\": np.arange(150, 250, 50),\n",
        "    \"scale_pos_weight\": [1, 2],\n",
        "    \"subsample\": [0.9, 1],\n",
        "    \"learning_rate\": np.arange(0.1, 0.21, 0.1),\n",
        "    \"gamma\": [3, 5],\n",
        "    \"colsample_bytree\": [0.8, 0.9],\n",
        "    \"colsample_bylevel\": [ 0.9, 1],\n",
        "}\n",
        "\n",
        "# Type of scoring used to compare parameter combinations\n",
        "acc_scorer = metrics.make_scorer(metrics.f1_score)\n",
        "\n",
        "# Run the grid search\n",
        "grid_obj = '_______' ## Complete the code to run grid search with cv = 5\n",
        "grid_obj = grid_obj.'_______' ## Complete the code to fit the grid_obj on train data\n",
        "\n",
        "# Set the clf to the best combination of parameters\n",
        "xgb_tuned = grid_obj.best_estimator_\n",
        "\n",
        "# Fit the best algorithm to the data.\n",
        "xgb_tuned.fit(X_train, y_train)"
      ]
    },
    {
      "cell_type": "markdown",
      "id": "psychological-plenty",
      "metadata": {
        "id": "psychological-plenty"
      },
      "source": [
        "#### Checking model performance on training set"
      ]
    },
    {
      "cell_type": "code",
      "execution_count": null,
      "id": "static-yesterday",
      "metadata": {
        "id": "static-yesterday"
      },
      "outputs": [],
      "source": [
        "'_______' ## Complete the code to create confusion matrix for train data on tuned estimator"
      ]
    },
    {
      "cell_type": "code",
      "execution_count": null,
      "id": "premium-today",
      "metadata": {
        "id": "premium-today"
      },
      "outputs": [],
      "source": [
        "xgb_tuned_model_train_perf = model_performance_classification_sklearn('_______') ## Complete the code to check performance for train data on tuned estimator\n",
        "xgb_tuned_model_train_perf"
      ]
    },
    {
      "cell_type": "markdown",
      "id": "awful-judgment",
      "metadata": {
        "id": "awful-judgment"
      },
      "source": [
        "#### Checking model performance on test set"
      ]
    },
    {
      "cell_type": "code",
      "execution_count": null,
      "id": "thrown-toilet",
      "metadata": {
        "id": "thrown-toilet"
      },
      "outputs": [],
      "source": [
        "'_______' ## Complete the code to create confusion matrix for test data on tuned estimator"
      ]
    },
    {
      "cell_type": "code",
      "execution_count": null,
      "id": "available-irrigation",
      "metadata": {
        "id": "available-irrigation"
      },
      "outputs": [],
      "source": [
        "xgb_tuned_model_test_perf = model_performance_classification_sklearn('_______') ## Complete the code to check performance for test data on tuned estimator\n",
        "xgb_tuned_model_test_perf"
      ]
    },
    {
      "cell_type": "markdown",
      "id": "disciplinary-manhattan",
      "metadata": {
        "id": "disciplinary-manhattan"
      },
      "source": [
        "## Stacking Classifier"
      ]
    },
    {
      "cell_type": "code",
      "execution_count": null,
      "id": "massive-cincinnati",
      "metadata": {
        "id": "massive-cincinnati"
      },
      "outputs": [],
      "source": [
        "estimators = [\n",
        "    (\"AdaBoost\", ab_classifier),\n",
        "    (\"Gradient Boosting\", gbc_tuned),\n",
        "    (\"Random Forest\", rf_tuned),\n",
        "]\n",
        "\n",
        "final_estimator = xgb_tuned\n",
        "\n",
        "stacking_classifier = '_______' ## Complete the code to define Stacking Classifier\n",
        "\n",
        "stacking_classifier.'_______' ## Complete the code to fit Stacking Classifier on the train data"
      ]
    },
    {
      "cell_type": "markdown",
      "id": "greek-jefferson",
      "metadata": {
        "id": "greek-jefferson"
      },
      "source": [
        "### Checking model performance on training set"
      ]
    },
    {
      "cell_type": "code",
      "execution_count": null,
      "id": "under-brazilian",
      "metadata": {
        "id": "under-brazilian"
      },
      "outputs": [],
      "source": [
        "'_______' ## Complete the code to create confusion matrix for train data"
      ]
    },
    {
      "cell_type": "code",
      "execution_count": null,
      "id": "apparent-greenhouse",
      "metadata": {
        "id": "apparent-greenhouse"
      },
      "outputs": [],
      "source": [
        "stacking_classifier_model_train_perf = model_performance_classification_sklearn('_______') ## Complete the code to check performance on train data\n",
        "stacking_classifier_model_train_perf"
      ]
    },
    {
      "cell_type": "markdown",
      "id": "corrected-agency",
      "metadata": {
        "id": "corrected-agency"
      },
      "source": [
        "### Checking model performance on test set"
      ]
    },
    {
      "cell_type": "code",
      "execution_count": null,
      "id": "empty-agent",
      "metadata": {
        "id": "empty-agent"
      },
      "outputs": [],
      "source": [
        "'_______' ## Complete the code to create confusion matrix for test data"
      ]
    },
    {
      "cell_type": "code",
      "execution_count": null,
      "id": "quantitative-neighborhood",
      "metadata": {
        "id": "quantitative-neighborhood"
      },
      "outputs": [],
      "source": [
        "stacking_classifier_model_test_perf = model_performance_classification_sklearn('_______') ## Complete the code to check performance for test data\n",
        "stacking_classifier_model_test_perf"
      ]
    },
    {
      "cell_type": "markdown",
      "id": "mechanical-clarity",
      "metadata": {
        "id": "mechanical-clarity"
      },
      "source": [
        "## Model Performance Comparison and Final Model Selection"
      ]
    },
    {
      "cell_type": "code",
      "execution_count": null,
      "id": "future-irrigation",
      "metadata": {
        "id": "future-irrigation"
      },
      "outputs": [],
      "source": [
        "# training performance comparison\n",
        "\n",
        "models_train_comp_df = pd.concat(\n",
        "    [\n",
        "        decision_tree_perf_train.T,\n",
        "        dtree_estimator_model_train_perf.T,\n",
        "        bagging_classifier_model_train_perf.T,\n",
        "        bagging_estimator_tuned_model_train_perf.T,\n",
        "        rf_estimator_model_train_perf.T,\n",
        "        rf_tuned_model_train_perf.T,\n",
        "        ab_classifier_model_train_perf.T,\n",
        "        abc_tuned_model_train_perf.T,\n",
        "        gb_classifier_model_train_perf.T,\n",
        "        gbc_tuned_model_train_perf.T,\n",
        "        xgb_classifier_model_train_perf.T,\n",
        "        xgb_tuned_model_train_perf.T,\n",
        "        stacking_classifier_model_train_perf.T,\n",
        "    ],\n",
        "    axis=1,\n",
        ")\n",
        "models_train_comp_df.columns = [\n",
        "    \"Decision Tree\",\n",
        "    \"Tuned Decision Tree\",\n",
        "    \"Bagging Classifier\",\n",
        "    \"Tuned Bagging Classifier\",\n",
        "    \"Random Forest\",\n",
        "    \"Tuned Random Forest\",\n",
        "    \"Adaboost Classifier\",\n",
        "    \"Tuned Adaboost Classifier\",\n",
        "    \"Gradient Boost Classifier\",\n",
        "    \"Tuned Gradient Boost Classifier\",\n",
        "    \"XGBoost Classifier\",\n",
        "    \"XGBoost Classifier Tuned\",\n",
        "    \"Stacking Classifier\",\n",
        "]\n",
        "print(\"Training performance comparison:\")\n",
        "models_train_comp_df"
      ]
    },
    {
      "cell_type": "code",
      "execution_count": null,
      "id": "collective-fireplace",
      "metadata": {
        "id": "collective-fireplace"
      },
      "outputs": [],
      "source": [
        "# testing performance comparison\n",
        "\n",
        "'_______' ## Complete the code to check performance for test data"
      ]
    },
    {
      "cell_type": "markdown",
      "id": "stone-venezuela",
      "metadata": {
        "id": "stone-venezuela"
      },
      "source": [
        "### Important features of the final model"
      ]
    },
    {
      "cell_type": "code",
      "execution_count": null,
      "id": "forty-mayor",
      "metadata": {
        "id": "forty-mayor"
      },
      "outputs": [],
      "source": [
        "feature_names = X_train.columns\n",
        "importances = gb_classifier.feature_importances_\n",
        "indices = np.argsort(importances)\n",
        "\n",
        "plt.figure(figsize=(12, 12))\n",
        "plt.title(\"Feature Importances\")\n",
        "plt.barh(range(len(indices)), importances[indices], color=\"violet\", align=\"center\")\n",
        "plt.yticks(range(len(indices)), [feature_names[i] for i in indices])\n",
        "plt.xlabel(\"Relative Importance\")\n",
        "plt.show()"
      ]
    },
    {
      "cell_type": "markdown",
      "id": "congressional-knock",
      "metadata": {
        "id": "congressional-knock"
      },
      "source": [
        "## Business Insights and Recommendations"
      ]
    },
    {
      "cell_type": "markdown",
      "source": [
        "-\n"
      ],
      "metadata": {
        "id": "Am_0CWgMeXxY"
      },
      "id": "Am_0CWgMeXxY"
    },
    {
      "cell_type": "markdown",
      "source": [
        "___"
      ],
      "metadata": {
        "id": "4kJHJ56seYnH"
      },
      "id": "4kJHJ56seYnH"
    }
  ],
  "metadata": {
    "colab": {
      "provenance": [],
      "collapsed_sections": [
        "attempted-burlington",
        "aging-curve",
        "stunning-surrey",
        "equivalent-aging",
        "dressed-excuse",
        "wound-communication",
        "theoretical-flexibility",
        "attended-current",
        "macro-decrease",
        "binding-charger",
        "lesser-bacteria",
        "changing-kansas",
        "suspected-asthma",
        "icaAgO2siAcs",
        "allied-association",
        "flexible-independence",
        "teKIRZIDdzpK",
        "71450807",
        "material-reduction",
        "protected-romantic",
        "FnQnoNOCiSwl",
        "aging-corruption",
        "suffering-growing",
        "verified-obligation",
        "increased-civilian",
        "protecting-douglas",
        "elegant-bookmark",
        "colonial-society",
        "possible-vinyl",
        "theoretical-poverty",
        "beneficial-bosnia",
        "joint-appendix",
        "joined-newman",
        "p33jg7JVid1H",
        "divine-legend",
        "grand-popularity",
        "french-breed",
        "increased-sharing",
        "adolescent-carroll",
        "fitting-cameroon",
        "married-terminal",
        "fiscal-language",
        "tribal-rainbow",
        "fuzzy-enemy",
        "standard-islam",
        "subsequent-royalty",
        "1415e2a1",
        "superior-letter",
        "muslim-machine",
        "advised-rabbit",
        "mobile-chosen",
        "psychological-plenty",
        "awful-judgment",
        "disciplinary-manhattan",
        "greek-jefferson",
        "corrected-agency",
        "mechanical-clarity",
        "stone-venezuela",
        "congressional-knock"
      ],
      "include_colab_link": true
    },
    "kernelspec": {
      "display_name": "Python 3",
      "language": "python",
      "name": "python3"
    },
    "language_info": {
      "codemirror_mode": {
        "name": "ipython",
        "version": 3
      },
      "file_extension": ".py",
      "mimetype": "text/x-python",
      "name": "python",
      "nbconvert_exporter": "python",
      "pygments_lexer": "ipython3",
      "version": "3.8.8"
    }
  },
  "nbformat": 4,
  "nbformat_minor": 5
}